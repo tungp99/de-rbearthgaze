{
 "cells": [
  {
   "cell_type": "code",
   "execution_count": 1,
   "metadata": {},
   "outputs": [
    {
     "name": "stdout",
     "output_type": "stream",
     "text": [
      "{'DATASTORAGE_AZURE_ACCESSKEY': 'dYj3PCGRyYHYR9pRo2xPa9BQ7t/sUonACJ29wcPdpa+1IC70rMbZmpfpHJJWJtk7OeASL+eQDIWq+AStGg3CCA==',\n",
      " 'DATASTORAGE_AZURE_ACCOUNTNAME': 'icebergpe6t5cug7x9f45p8',\n",
      " 'KAFKA_BOOTSTRAP_SERVERS': 'localhost:9092',\n",
      " 'KAFKA_SCHEMA_REGISTRY_URL': 'http://localhost:8081',\n",
      " 'KAFKA_SESSION_TIMEOUT_MS': '45000',\n",
      " 'KAFKA_TOPIC_RAW_AIRCRAFT': 'raw.aircraft',\n",
      " 'KAFKA_TOPIC_RAW_AIRLINE': 'raw.airline',\n",
      " 'KAFKA_TOPIC_RAW_AIRPORT': 'raw.airport',\n",
      " 'KAFKA_TOPIC_RAW_FLIGHT_SIGNAL': 'raw.flight_signal',\n",
      " 'KAFKA_TOPIC_T1_AIRCRAFT': 't1.aircraft',\n",
      " 'KAFKA_TOPIC_T1_AIRLINE': 't1.airline',\n",
      " 'KAFKA_TOPIC_T1_AIRPORT': 't1.airport',\n",
      " 'KAFKA_TOPIC_T1_FLIGHT_SIGNAL': 't1.flight_signal',\n",
      " 'KAFKA_TOPIC_T2_AIRCRAFT': 't2.aircraft',\n",
      " 'KAFKA_TOPIC_T2_AIRLINE': 't2.airline',\n",
      " 'KAFKA_TOPIC_T2_AIRPORT': 't2.airport',\n",
      " 'KAFKA_TOPIC_T2_FLIGHT_SIGNAL': 't2.flight_signal',\n",
      " 'POSTGRE_JDBC_URL': 'jdbc:postgresql://localhost:5432/iceberg-catalog',\n",
      " 'POSTGRE_PASSWORD': 'grebeci',\n",
      " 'POSTGRE_USER': 'iceberg',\n",
      " 'SPARK_MASTER_URL': 'local[1]',\n",
      " 'file': '../../.env.development.local',\n",
      " 'initialised': True}\n"
     ]
    }
   ],
   "source": [
    "from libs.configuration import configure\n",
    "from pyspark.sql import SparkSession\n",
    "from pyspark.sql import functions as F\n",
    "from pyspark.sql import types as T\n",
    "\n",
    "from shared.spark_config import create_spark_config\n",
    "\n",
    "env = configure()\n",
    "conf = create_spark_config(\"M2_Processors.aircraft.tier1\")"
   ]
  },
  {
   "cell_type": "code",
   "execution_count": 2,
   "metadata": {},
   "outputs": [],
   "source": [
    "spark = SparkSession.builder.config(conf=conf).getOrCreate()"
   ]
  },
  {
   "cell_type": "code",
   "execution_count": 115,
   "metadata": {},
   "outputs": [
    {
     "data": {
      "text/plain": [
       "StructType([StructField('created_ts', TimestampType(), True), StructField('icao24', StringType(), True), StructField('registration', StringType(), True), StructField('manufacturericao', StringType(), True), StructField('model', StringType(), True), StructField('typecode', StringType(), True), StructField('serialnumber', StringType(), True), StructField('operator', StringType(), True), StructField('operatorcallsign', StringType(), True), StructField('operatoricao', StringType(), True), StructField('operatoriata', StringType(), True), StructField('owner', StringType(), True), StructField('registered', DateType(), True), StructField('reguntil', DateType(), True), StructField('built', DateType(), True), StructField('engines', StringType(), True), StructField('modes', BooleanType(), True), StructField('adsb', BooleanType(), True), StructField('acars', BooleanType(), True)])"
      ]
     },
     "execution_count": 115,
     "metadata": {},
     "output_type": "execute_result"
    }
   ],
   "source": [
    "df = spark.read.format(\"iceberg\").load(\"dev.raw.aircrafts\")\n",
    "df.schema"
   ]
  },
  {
   "cell_type": "code",
   "execution_count": null,
   "metadata": {},
   "outputs": [],
   "source": [
    "df.describe().show()"
   ]
  },
  {
   "cell_type": "code",
   "execution_count": 116,
   "metadata": {},
   "outputs": [],
   "source": [
    "df = (\n",
    "    df.withColumn(\n",
    "        \"registration\", F.regexp_replace(\"registration\", r\"(\\t)|[^a-zA-Z0-9\\-\\.\\ \\+\\/\\?]+\", \"\")\n",
    "    )\n",
    "    .withColumn(\"model\", F.regexp_replace(\"model\", r\"\\t+\", \"\"))\n",
    "    .withColumn(\"serialnumber\", F.regexp_replace(\"serialnumber\", r\"\\s+\", \"\"))\n",
    "    .withColumn(\"operator\", F.regexp_replace(\"operator\", r\"\\t\", \"\"))\n",
    "    .withColumn(\"operatorcallsign\", F.regexp_replace(\"operatorcallsign\", r\"\\t\", \"\"))\n",
    "    .withColumn(\"operatoricao\", F.regexp_replace(\"operatoricao\", r\"\\t\", \"\"))\n",
    "    .withColumn(\"operatoriata\", F.regexp_replace(\"operatoriata\", r\"\\t\", \"\"))\n",
    "    .withColumn(\"owner\", F.regexp_replace(\"owner\", r\"\\t\", \"\"))\n",
    "    .withColumn(\"engines\", F.regexp_replace(\"owner\", r\"\\t\", \"\"))\n",
    ")"
   ]
  },
  {
   "cell_type": "code",
   "execution_count": 117,
   "metadata": {},
   "outputs": [],
   "source": [
    "df = df.replace(\n",
    "    to_replace={\"n/a\": None, \"N/A\": None},\n",
    "    subset=[\n",
    "        \"registration\",\n",
    "        \"serialnumber\",\n",
    "        \"operator\",\n",
    "        \"operatorcallsign\",\n",
    "        \"operatoricao\",\n",
    "        \"operatoriata\",\n",
    "        \"owner\",\n",
    "        \"engines\",\n",
    "    ],\n",
    ")"
   ]
  },
  {
   "cell_type": "code",
   "execution_count": 118,
   "metadata": {},
   "outputs": [
    {
     "name": "stdout",
     "output_type": "stream",
     "text": [
      "+-------+--------+\n",
      "|summary|  icao24|\n",
      "+-------+--------+\n",
      "|  count|  519999|\n",
      "|   mean|Infinity|\n",
      "| stddev|     NaN|\n",
      "|    min|  000000|\n",
      "|    max|  fffffe|\n",
      "+-------+--------+\n",
      "\n"
     ]
    }
   ],
   "source": [
    "df.select(\"icao24\").describe().show()"
   ]
  },
  {
   "cell_type": "code",
   "execution_count": 119,
   "metadata": {},
   "outputs": [
    {
     "name": "stdout",
     "output_type": "stream",
     "text": [
      "+-------+----------------+\n",
      "|summary|manufacturericao|\n",
      "+-------+----------------+\n",
      "|  count|          428796|\n",
      "|   mean|            NULL|\n",
      "| stddev|            NULL|\n",
      "|    min|          3XTRIM|\n",
      "|    max|             ZLT|\n",
      "+-------+----------------+\n",
      "\n"
     ]
    }
   ],
   "source": [
    "df.select(\"manufacturericao\").describe().show()"
   ]
  },
  {
   "cell_type": "code",
   "execution_count": 136,
   "metadata": {},
   "outputs": [],
   "source": [
    "df = df.withColumn(\n",
    "    \"registration\",\n",
    "    F.when(F.col(\"registration\").contains(\"?\"), None).otherwise(F.col(\"registration\")),\n",
    ").withColumn(\"registration\", F.upper(\"registration\"))"
   ]
  },
  {
   "cell_type": "code",
   "execution_count": 121,
   "metadata": {},
   "outputs": [],
   "source": [
    "df = (\n",
    "    df.withColumn(\"model\", F.trim(\"model\"))\n",
    "    .withColumn(\"model\", F.regexp_replace(\"model\", r\"^\\\"\", \"\"))\n",
    "    .withColumn(\"model\", F.regexp_replace(\"model\", r\"\\\"$\", \"\"))\n",
    "    .withColumn(\"model\", F.regexp_replace(\"model\", r\"\\\"{2}\", '\"'))\n",
    ")"
   ]
  },
  {
   "cell_type": "code",
   "execution_count": 122,
   "metadata": {},
   "outputs": [],
   "source": [
    "df = (\n",
    "    df.withColumn(\"operator\", F.trim(\"operator\"))\n",
    "    .withColumn(\"operator\", F.regexp_replace(\"operator\", r\"^\\\"\", \"\"))\n",
    "    .withColumn(\"operator\", F.regexp_replace(\"operator\", r\"\\\"$\", \"\"))\n",
    "    .withColumn(\"operator\", F.regexp_replace(\"operator\", r\"\\\"{2}\", '\"'))\n",
    ")"
   ]
  },
  {
   "cell_type": "code",
   "execution_count": 123,
   "metadata": {},
   "outputs": [],
   "source": [
    "df = df.withColumn(\"operatorcallsign\", F.trim(\"operatorcallsign\")).withColumn(\n",
    "    \"operatorcallsign\",\n",
    "    F.when(F.col(\"operatorcallsign\") == \"\", None)\n",
    "    .when(F.col(\"operatorcallsign\") == \"-\", None)\n",
    "    .otherwise(F.col(\"operatorcallsign\")),\n",
    ")"
   ]
  },
  {
   "cell_type": "code",
   "execution_count": 124,
   "metadata": {},
   "outputs": [],
   "source": [
    "df = df.withColumn(\"operatoricao\", F.trim(\"operatoricao\")).withColumn(\n",
    "    \"operatoricao\", F.when(F.col(\"operatoricao\") == \"-\", None).otherwise(F.col(\"operatoricao\"))\n",
    ")"
   ]
  },
  {
   "cell_type": "code",
   "execution_count": 126,
   "metadata": {},
   "outputs": [],
   "source": [
    "df = df.withColumn(\"operatoriata\", F.trim(\"operatoriata\")).withColumn(\n",
    "    \"operatoriata\", F.when(F.col(\"operatoriata\") == \"-\", None).otherwise(F.col(\"operatoriata\"))\n",
    ")"
   ]
  },
  {
   "cell_type": "code",
   "execution_count": 137,
   "metadata": {},
   "outputs": [
    {
     "name": "stdout",
     "output_type": "stream",
     "text": [
      "+-------+--------+-----------------+----------------+--------------------+--------+------------+--------------------+----------------+-----------------+------------------+----------------+----------------+\n",
      "|summary|  icao24|     registration|manufacturericao|               model|typecode|serialnumber|            operator|operatorcallsign|     operatoricao|      operatoriata|           owner|         engines|\n",
      "+-------+--------+-----------------+----------------+--------------------+--------+------------+--------------------+----------------+-----------------+------------------+----------------+----------------+\n",
      "|  count|  519999|           516525|          428796|              440424|  479944|      437117|               23687|           40066|            41392|              8056|          435911|          435911|\n",
      "|   mean|Infinity|          79841.0|            NULL|            Infinity|   737.0|    Infinity|                NULL|            30.0|         200204.0| 4.647058823529412|            NULL|            NULL|\n",
      "| stddev|     NaN|99737.07666317503|            NULL|                 NaN|    NULL|         NaN|                NULL|            NULL|282506.1296467742|0.9963167462326072|            NULL|            NULL|\n",
      "|    min|  000000|            5D-HG|          3XTRIM|                 \"A\"|    172S|        #001|100th Air Refuell...|            0030|           399966|                0A| Air Hawke's Bay| Air Hawke's Bay|\n",
      "|    max|  fffffe|            ZZ666|             ZLT|willy's 140 (1 F.W.)|    ZZZZ|      th-212|  vh-sfh Pty Limited|           n42zc|              bfx|                ZW|  �va L�tourneau|  �va L�tourneau|\n",
      "+-------+--------+-----------------+----------------+--------------------+--------+------------+--------------------+----------------+-----------------+------------------+----------------+----------------+\n",
      "\n"
     ]
    }
   ],
   "source": [
    "df.describe().show()"
   ]
  },
  {
   "cell_type": "code",
   "execution_count": 141,
   "metadata": {},
   "outputs": [],
   "source": [
    "df = df.where(F.col(\"icao24\").isNotNull())"
   ]
  },
  {
   "cell_type": "code",
   "execution_count": 142,
   "metadata": {},
   "outputs": [],
   "source": [
    "df = df.withColumn(\"created_ts\", F.current_timestamp()).withColumn(\n",
    "    \"updated_ts\", F.current_timestamp()\n",
    ")"
   ]
  },
  {
   "cell_type": "code",
   "execution_count": 143,
   "metadata": {},
   "outputs": [
    {
     "name": "stdout",
     "output_type": "stream",
     "text": [
      "+--------------------+------+------------+----------------+--------------------+--------+------------+--------+----------------+------------+------------+--------------------+----------+----------+----------+--------------------+-----+-----+-----+--------------------+\n",
      "|          created_ts|icao24|registration|manufacturericao|               model|typecode|serialnumber|operator|operatorcallsign|operatoricao|operatoriata|               owner|registered|  reguntil|     built|             engines|modes| adsb|acars|          updated_ts|\n",
      "+--------------------+------+------------+----------------+--------------------+--------+------------+--------+----------------+------------+------------+--------------------+----------+----------+----------+--------------------+-----+-----+-----+--------------------+\n",
      "|2024-01-27 23:16:...|aa3487|       N757F|        RAYTHEON|                 A36|    BE36|      E-3121|    NULL|            NULL|        NULL|        NULL|Vintage Aircraft Llc|      NULL|2027-01-31|      NULL|Vintage Aircraft Llc|false|false|false|2024-01-27 23:16:...|\n",
      "|2024-01-27 23:16:...|a4fa61|       N42MH|           PIPER|           PA-31-350|    PA31|  31-7852015|    NULL|            NULL|        NULL|        NULL|Tvpx Aircraft Sol...|      NULL|2029-08-31|1977-01-01|Tvpx Aircraft Sol...|false|false|false|2024-01-27 23:16:...|\n",
      "|2024-01-27 23:16:...|a7a809|      N5926K|        ROCKWELL|                NULL|    AC90|        NULL|    NULL|            NULL|        NULL|        NULL|                NULL|      NULL|      NULL|      NULL|                NULL|false|false|false|2024-01-27 23:16:...|\n",
      "|2024-01-27 23:16:...|391927|      F-GGJH|           ROBIN|DR.400 160 Chevalier|    DR40|        1795|    NULL|            NULL|        NULL|        NULL|             Private|      NULL|      NULL|      NULL|             Private|false|false|false|2024-01-27 23:16:...|\n",
      "|2024-01-27 23:16:...|503c21|      LY-KNA|            NULL|         Impulse 100|    ZZZZ|        NULL|    NULL|            NULL|        NULL|        NULL|             Private|      NULL|      NULL|      NULL|             Private|false|false|false|2024-01-27 23:16:...|\n",
      "|2024-01-27 23:16:...|3d3191|      D-ERAF|            GROB|             G-115 E|    G115|     82085/E|    NULL|            NULL|        NULL|        NULL|             Private|      NULL|      NULL|      NULL|             Private|false|false|false|2024-01-27 23:16:...|\n",
      "|2024-01-27 23:16:...|7c65b7|      VH-UDL|           DREAM|                NULL|    TNDR|        NULL|    NULL|            NULL|        NULL|        NULL|                NULL|      NULL|      NULL|      NULL|                NULL|false|false|false|2024-01-27 23:16:...|\n",
      "|2024-01-27 23:16:...|abc866|      N8587J|           REIMS|                150G|    C150|    15066487|    NULL|            NULL|        NULL|        NULL|    Morgan Jeffrey E|      NULL|2028-08-31|1967-01-01|    Morgan Jeffrey E|false|false|false|2024-01-27 23:16:...|\n",
      "|2024-01-27 23:16:...|3d1391|      D-EFQV|         DORNIER|           Do 27 B-1|    DO27|         175|    NULL|            NULL|        NULL|        NULL|             Private|      NULL|      NULL|      NULL|             Private|false|false|false|2024-01-27 23:16:...|\n",
      "|2024-01-27 23:16:...|a64fa4|      N50551|           REIMS|                150J|    C150|    15069392|    NULL|            NULL|        NULL|        NULL|      Barreto Daniel|      NULL|2030-01-31|1968-01-01|      Barreto Daniel|false|false|false|2024-01-27 23:16:...|\n",
      "|2024-01-27 23:16:...|ab218f|      N816VP|            NULL|             PEGASUS|    PARA|     A512PEG|    NULL|            NULL|        NULL|        NULL|         Wilke Kevin|      NULL|2027-07-31|2017-01-01|         Wilke Kevin|false|false|false|2024-01-27 23:16:...|\n",
      "|2024-01-27 23:16:...|ac9d5c|      N9114X|            WREN|                182D|    C182|    18253514|    NULL|            NULL|        NULL|        NULL|    Dk1 Aviation Llc|      NULL|2030-01-31|1961-01-01|    Dk1 Aviation Llc|false|false|false|2024-01-27 23:16:...|\n",
      "|2024-01-27 23:16:...|ade7af|      N99508|           REIMS|                NULL|    C172|        NULL|    NULL|            NULL|        NULL|        NULL|                NULL|      NULL|      NULL|      NULL|                NULL|false|false|false|2024-01-27 23:16:...|\n",
      "|2024-01-27 23:16:...|a9dd45|      N7347S|            WREN|                NULL|    C182|        NULL|    NULL|            NULL|        NULL|        NULL|                NULL|      NULL|      NULL|      NULL|                NULL|false|false|false|2024-01-27 23:16:...|\n",
      "|2024-01-27 23:16:...|a0aba6|      N142RS|            WREN|                182E|    C182|    18253832|    NULL|            NULL|        NULL|        NULL|  Reinmuth Michael W|      NULL|2027-05-31|      NULL|  Reinmuth Michael W|false|false|false|2024-01-27 23:16:...|\n",
      "|2024-01-27 23:16:...|a80514|      N616AM|           VAN'S|                NULL|     RV6|        NULL|    NULL|            NULL|        NULL|        NULL|                NULL|      NULL|      NULL|      NULL|                NULL|false|false|false|2024-01-27 23:16:...|\n",
      "|2024-01-27 23:16:...|396598|      F-GZMY|        ROBINSON|        R44 Raven II|     R44|       11484|    NULL|            NULL|        NULL|        NULL|             Private|      NULL|      NULL|      NULL|             Private|false|false|false|2024-01-27 23:16:...|\n",
      "|2024-01-27 23:16:...|c0825b|      C-GXJM|           PIPER|   PA-28-235 (Piper)|    P28B|    28-10822|    NULL|            NULL|        NULL|        NULL|Peter Ralph (pete...|2000-09-22|      NULL|      NULL|Peter Ralph (pete...|false|false|false|2024-01-27 23:16:...|\n",
      "|2024-01-27 23:16:...|ae50bc|    10-20252|        WESTLAND|                NULL|     H60|        NULL|    NULL|            NULL|        NULL|        NULL|                NULL|      NULL|      NULL|      NULL|                NULL|false|false|false|2024-01-27 23:16:...|\n",
      "|2024-01-27 23:16:...|a9101c|      N683TY|        ROBINSON|              R44 II|     R44|       14462|    NULL|            NULL|        NULL|        NULL|Sg Helicopter Hol...|      NULL|2029-01-31|2021-01-01|Sg Helicopter Hol...|false|false|false|2024-01-27 23:16:...|\n",
      "+--------------------+------+------------+----------------+--------------------+--------+------------+--------+----------------+------------+------------+--------------------+----------+----------+----------+--------------------+-----+-----+-----+--------------------+\n",
      "only showing top 20 rows\n",
      "\n"
     ]
    }
   ],
   "source": [
    "df.show()"
   ]
  },
  {
   "cell_type": "code",
   "execution_count": 144,
   "metadata": {},
   "outputs": [
    {
     "name": "stdout",
     "output_type": "stream",
     "text": [
      "++\n",
      "||\n",
      "++\n",
      "++\n",
      "\n"
     ]
    }
   ],
   "source": [
    "spark.sql(\n",
    "    \"\"\"\n",
    "CREATE TABLE IF NOT EXISTS dev.tier1.aircrafts (\n",
    "    created_ts timestamp,\n",
    "    updated_ts timestamp,\n",
    "    icao24 string,\n",
    "    registration string,\n",
    "    manufacturer_icao string,\n",
    "    model string,\n",
    "    doc8643_icao string,\n",
    "    serial_no string,\n",
    "    operator string,\n",
    "    operator_callsign string,\n",
    "    operator_icao string,\n",
    "    operator_iata string,\n",
    "    owner string,\n",
    "    registered_date date,\n",
    "    registered_until_date date,\n",
    "    built_date date,\n",
    "    engines string,\n",
    "    modes boolean,\n",
    "    adsb boolean,\n",
    "    acars boolean\n",
    ")\n",
    "USING iceberg\n",
    "\"\"\"\n",
    ").show()"
   ]
  },
  {
   "cell_type": "code",
   "execution_count": 145,
   "metadata": {},
   "outputs": [],
   "source": [
    "df = df.withColumnsRenamed(\n",
    "    {\n",
    "        # \"icao24\": \"icao24\",\n",
    "        # \"registration\": \"registration\",\n",
    "        \"manufacturericao\": \"manufacturer_icao\",\n",
    "        # \"model\": \"model\",\n",
    "        \"typecode\": \"doc8643_icao\",\n",
    "        \"serialnumber\": \"serial_no\",\n",
    "        # \"operator\": \"operator\",\n",
    "        \"operatorcallsign\": \"operator_callsign\",\n",
    "        \"operatoricao\": \"operator_icao\",\n",
    "        \"operatoriata\": \"operator_iata\",\n",
    "        # \"owner\": \"owner\",\n",
    "        \"registered\": \"registered_date\",\n",
    "        \"reguntil\": \"registered_until_date\",\n",
    "        \"built\": \"built_date\",\n",
    "        # \"engines\": \"engines\",\n",
    "        # \"modes\": \"modes\",\n",
    "        # \"adsb\": \"adsb\",\n",
    "        # \"acars\": \"acars\",\n",
    "    }\n",
    ")"
   ]
  },
  {
   "cell_type": "code",
   "execution_count": 146,
   "metadata": {},
   "outputs": [],
   "source": [
    "df.writeTo(\"dev.tier1.aircrafts\").append()"
   ]
  }
 ],
 "metadata": {
  "kernelspec": {
   "display_name": ".venv",
   "language": "python",
   "name": "python3"
  },
  "language_info": {
   "codemirror_mode": {
    "name": "ipython",
    "version": 3
   },
   "file_extension": ".py",
   "mimetype": "text/x-python",
   "name": "python",
   "nbconvert_exporter": "python",
   "pygments_lexer": "ipython3",
   "version": "3.11.7"
  }
 },
 "nbformat": 4,
 "nbformat_minor": 2
}
