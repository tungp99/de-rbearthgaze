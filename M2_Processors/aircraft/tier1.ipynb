{
 "cells": [
  {
   "cell_type": "code",
   "execution_count": 53,
   "metadata": {},
   "outputs": [],
   "source": [
    "from libs.configuration import configure\n",
    "from pyspark.sql import SparkSession\n",
    "from pyspark.sql import functions as F\n",
    "from pyspark.sql import types as T\n",
    "\n",
    "from shared.spark_config import create_spark_config\n",
    "\n",
    "env = configure()\n",
    "conf = create_spark_config(\"M2_Processors.aircraft.tier1\")"
   ]
  },
  {
   "cell_type": "code",
   "execution_count": 2,
   "metadata": {},
   "outputs": [],
   "source": [
    "spark = SparkSession.builder.config(conf=conf).getOrCreate()"
   ]
  },
  {
   "cell_type": "code",
   "execution_count": 98,
   "metadata": {},
   "outputs": [
    {
     "name": "stdout",
     "output_type": "stream",
     "text": [
      "+--------------------+----+--------------+--------+--------------------+---------+------+------+----+-------------+-------------+----------------+-----------------+----------------+----------------+---------------+-------------+-------------+------------------+\n",
      "|          created_ts|icao|classification|category|       manufacturers|wing_span|length|height|mtow|fuel_capacity|maximum_range|persons_on_board|take_off_distance|landing_distance|absolute_ceiling|optimum_ceiling|maximum_speed|optimum_speed|maximum_climb_rate|\n",
      "+--------------------+----+--------------+--------+--------------------+---------+------+------+----+-------------+-------------+----------------+-----------------+----------------+----------------+---------------+-------------+-------------+------------------+\n",
      "|2024-01-10 14:10:...|A002|           G1P|     L/G|       [IRKUT A-002]|        -|   5.9|   3.3| 0.9|             |          270|               3|               90|              10|             100|             80|          113|             |              1100|\n",
      "|2024-01-10 14:10:...|  A1|           L1P|     M/G|[DOUGLAS AD Skyra...|     15.4|  11.8|   4.7|11.3|         3150|         2500|               1|              600|             600|             310|            215|          280|          163|              3700|\n",
      "|2024-01-10 14:10:...| A10|           L2J|     M/F|[FAIRCHILD (1) A-...|     17.5|  16.3|   4.5|23.1|         4850|         2300|               1|             1200|             610|             450|            410|          423|          310|              6000|\n",
      "|2024-01-10 14:10:...|A109|           H2T|     L/G|[AGUSTA AW-109 Da...|        -|  10.7|   3.3| 2.8|          750|          360|               8|                -|               -|             200|            120|          156|          126|              2100|\n",
      "|2024-01-10 14:10:...|A119|           H1T|     L/G|[AGUSTA A-119 Koa...|        -|  11.1|   3.7| 2.8|          870|          350|               9|                -|               -|             185|            110|          140|          135|              1200|\n",
      "|2024-01-10 14:10:...|A122|           L1P|     L/G|[AEROTEC (1) A-12...|      8.5|   6.6|   2.7| 0.9|             |          430|               2|                 |                |             150|            120|          122|          100|               780|\n",
      "|2024-01-10 14:10:...|A124|           L4J|     H/B|[ANTONOV An-124 R...|     73.3|  69.1|    21| 405|       348700|         8900|              88|             3000|             900|             400|            330|          465|    450 / .68|              1300|\n",
      "|2024-01-10 14:10:...|A129|           H2T|     L/G|[AGUSTA A-129 Man...|        -|  12.3|   2.7| 4.5|         1000|          325|               2|                -|               -|             160|            155|          139|          129|              2150|\n",
      "|2024-01-10 14:10:...|A139|           H2T|     L/G|[AGUSTA AW-139, A...|        -|  16.6|   4.9|   6|          750|          400|              15|                -|               -|             120|            100|          160|          151|              1200|\n",
      "|2024-01-10 14:10:...|A140|           L2T|     M/F|[ANTONOV An-140, ...|     24.5|  22.6|   8.2|21.5|         5850|         1600|              54|             1495|                |             250|            220|          290|          243|              1500|\n",
      "|2024-01-10 14:10:...|A148|           L2J|     M/E|    [ANTONOV An-148]|     28.9|  29.1|   8.2|39.5|        12100|         3000|              80|             1800|            2100|             470|            410|          470|          440|                  |\n",
      "|2024-01-10 14:10:...|A149|           H2T|     M/G|[AGUSTA AW-149, A...|        -|  14.6|   5.1| 8.1|             |             |            2+18|                -|               -|                |             60|          150|             |                  |\n",
      "|2024-01-10 14:10:...|A158|           L2J|     M/Z|    [ANTONOV An-158]|     28.9|  34.4|   8.6|43.7|             |         1350|              99|             1900|            2000|             400|            370|          470|          430|                  |\n",
      "|2024-01-10 14:10:...| A16|           L1P|     L/G|[AVIADESIGN A-16 ...|      8.8|   8.2|      | 0.7|             |          390|               2|              150|             150|             130|            100|          119|          105|              1000|\n",
      "|2024-01-10 14:10:...|A169|           H2T|     L/G|[AGUSTAWESTLAND A...|        -|  14.6|   4.5| 4.5|             |             |              12|                -|               -|                |               |          140|          100|                  |\n",
      "|2024-01-10 14:10:...|A178|           L2J|     M/E|    [ANTONOV An-178]|     30.5|  32.2|   9.6|52.4|        14650|         2500|            4+90|                 |                |             430|               |          530|    445 / .81|                  |\n",
      "|2024-01-10 14:10:...|A189|           H2T|     M/G|[AGUSTAWESTLAND A...|        -|  17.6|     5|   8|         2068|          240|              20|                -|               -|                |               |             |          145|                  |\n",
      "|2024-01-10 14:10:...| A19|           L1P|     L/G|    [AEROPRACT A-19]|     10.6|   6.5|   2.5| 0.7|           60|             |               2|              100|             100|                |               |           81|           65|               500|\n",
      "|2024-01-10 14:10:...|A19N|           L2J|     M/D|[AIRBUS A-319neo,...|     35.8|  33.8|  11.7|75.5|        26730|         3700|             180|             1900|            1500|             390|            330|    473 / .82|   450 / 0.78|              2500|\n",
      "|2024-01-10 14:10:...| A20|           L2P|     M/G|[DOUGLAS A-20 Havoc]|     18.7|  14.6|   4.8|12.3|             |          550|               3|                 |                |             270|            240|          300|          250|              1300|\n",
      "+--------------------+----+--------------+--------+--------------------+---------+------+------+----+-------------+-------------+----------------+-----------------+----------------+----------------+---------------+-------------+-------------+------------------+\n",
      "only showing top 20 rows\n",
      "\n"
     ]
    }
   ],
   "source": [
    "df = spark.read.format(\"iceberg\").load(\"dev.raw.aircrafts\")\n",
    "df.show()"
   ]
  },
  {
   "cell_type": "code",
   "execution_count": 99,
   "metadata": {},
   "outputs": [
    {
     "data": {
      "text/plain": [
       "StructType([StructField('created_ts', TimestampType(), True), StructField('icao', StringType(), True), StructField('classification', StringType(), True), StructField('category', StringType(), True), StructField('manufacturers', ArrayType(StringType(), True), True), StructField('wing_span', StringType(), True), StructField('length', StringType(), True), StructField('height', StringType(), True), StructField('mtow', StringType(), True), StructField('fuel_capacity', StringType(), True), StructField('maximum_range', StringType(), True), StructField('persons_on_board', StringType(), True), StructField('take_off_distance', StringType(), True), StructField('landing_distance', StringType(), True), StructField('absolute_ceiling', StringType(), True), StructField('optimum_ceiling', StringType(), True), StructField('maximum_speed', StringType(), True), StructField('optimum_speed', StringType(), True), StructField('maximum_climb_rate', StringType(), True)])"
      ]
     },
     "execution_count": 99,
     "metadata": {},
     "output_type": "execute_result"
    }
   ],
   "source": [
    "df.schema"
   ]
  },
  {
   "cell_type": "code",
   "execution_count": 100,
   "metadata": {},
   "outputs": [
    {
     "name": "stdout",
     "output_type": "stream",
     "text": [
      "+-------+----+--------------+--------+------------------+------------------+------------------+------------------+------------------+------------------+-----------------+-----------------+-----------------+------------------+------------------+------------------+------------------+------------------+\n",
      "|summary|icao|classification|category|         wing_span|            length|            height|              mtow|     fuel_capacity|     maximum_range| persons_on_board|take_off_distance| landing_distance|  absolute_ceiling|   optimum_ceiling|     maximum_speed|     optimum_speed|maximum_climb_rate|\n",
      "+-------+----+--------------+--------+------------------+------------------+------------------+------------------+------------------+------------------+-----------------+-----------------+-----------------+------------------+------------------+------------------+------------------+------------------+\n",
      "|  count|2709|          2709|    2709|              2709|              2709|              2709|              2709|              2709|              2709|             2709|             2709|             2709|              2709|              2709|              2709|              2709|              2709|\n",
      "|   mean|NULL|          NULL|    NULL| 14.12816611842104|11.852838360402162|3.8889442060085773|13.634081796311113| 6979.426079913606|1051.9224770642202|19.56911262798635|623.0277609980302|523.4953405017922|226.08813413585554|156.38704742478328|190.13148501953972|164.91021921641794| 2509.402097902098|\n",
      "| stddev|NULL|          NULL|    NULL|10.388728755662875|10.851130662752583| 3.135513336389043| 47.41688648959519|32395.556896978396|2014.6775993277329|550.3287911833771| 707.158933538254| 462.850151852731|122.51656360698917| 95.79796243999876|119.32815663791797|109.24953572695323| 5730.066665115011|\n",
      "|    min|A002|             -|      -/|                  |                  |                  |                  |                  |                  |                 |                 |                 |                  |                  |                  |                  |                  |\n",
      "|    max|ZZZZ|           T2T|     M/Z|               9.9|               9.9|               9.9|              99.4|               990|               994|               99|              998|              975|                90|                95|                99|                99|              9850|\n",
      "+-------+----+--------------+--------+------------------+------------------+------------------+------------------+------------------+------------------+-----------------+-----------------+-----------------+------------------+------------------+------------------+------------------+------------------+\n",
      "\n"
     ]
    }
   ],
   "source": [
    "df.describe().show()"
   ]
  },
  {
   "cell_type": "code",
   "execution_count": 101,
   "metadata": {},
   "outputs": [
    {
     "name": "stdout",
     "output_type": "stream",
     "text": [
      "+-------+---------+\n",
      "|summary|wing_span|\n",
      "+-------+---------+\n",
      "|  count|      228|\n",
      "|   mean|     NULL|\n",
      "| stddev|     NULL|\n",
      "|    min|        -|\n",
      "|    max|        -|\n",
      "+-------+---------+\n",
      "\n",
      "+-------+------+\n",
      "|summary|length|\n",
      "+-------+------+\n",
      "|  count|     7|\n",
      "|   mean|  NULL|\n",
      "| stddev|  NULL|\n",
      "|    min|     -|\n",
      "|    max|     -|\n",
      "+-------+------+\n",
      "\n",
      "+-------+------+\n",
      "|summary|height|\n",
      "+-------+------+\n",
      "|  count|     7|\n",
      "|   mean|  NULL|\n",
      "| stddev|  NULL|\n",
      "|    min|     -|\n",
      "|    max|     -|\n",
      "+-------+------+\n",
      "\n",
      "+-------+----+\n",
      "|summary|mtow|\n",
      "+-------+----+\n",
      "|  count|   7|\n",
      "|   mean|NULL|\n",
      "| stddev|NULL|\n",
      "|    min|   -|\n",
      "|    max|   -|\n",
      "+-------+----+\n",
      "\n",
      "+-------+-------------+\n",
      "|summary|fuel_capacity|\n",
      "+-------+-------------+\n",
      "|  count|           29|\n",
      "|   mean|         NULL|\n",
      "| stddev|         NULL|\n",
      "|    min|            -|\n",
      "|    max|            -|\n",
      "+-------+-------------+\n",
      "\n",
      "+-------+-------------+\n",
      "|summary|maximum_range|\n",
      "+-------+-------------+\n",
      "|  count|            7|\n",
      "|   mean|         NULL|\n",
      "| stddev|         NULL|\n",
      "|    min|            -|\n",
      "|    max|            -|\n",
      "+-------+-------------+\n",
      "\n",
      "+-------+----------------+\n",
      "|summary|persons_on_board|\n",
      "+-------+----------------+\n",
      "|  count|             259|\n",
      "|   mean|            NULL|\n",
      "| stddev|            NULL|\n",
      "|    min|               -|\n",
      "|    max|          98-108|\n",
      "+-------+----------------+\n",
      "\n",
      "+-------+-----------------+\n",
      "|summary|take_off_distance|\n",
      "+-------+-----------------+\n",
      "|  count|              184|\n",
      "|   mean|             NULL|\n",
      "| stddev|             NULL|\n",
      "|    min|                -|\n",
      "|    max|                -|\n",
      "+-------+-----------------+\n",
      "\n",
      "+-------+----------------+\n",
      "|summary|landing_distance|\n",
      "+-------+----------------+\n",
      "|  count|             184|\n",
      "|   mean|            NULL|\n",
      "| stddev|            NULL|\n",
      "|    min|               -|\n",
      "|    max|               -|\n",
      "+-------+----------------+\n",
      "\n",
      "+-------+----------------+\n",
      "|summary|absolute_ceiling|\n",
      "+-------+----------------+\n",
      "|  count|               7|\n",
      "|   mean|            NULL|\n",
      "| stddev|            NULL|\n",
      "|    min|               -|\n",
      "|    max|               -|\n",
      "+-------+----------------+\n",
      "\n",
      "+-------+---------------+\n",
      "|summary|optimum_ceiling|\n",
      "+-------+---------------+\n",
      "|  count|              7|\n",
      "|   mean|           NULL|\n",
      "| stddev|           NULL|\n",
      "|    min|              -|\n",
      "|    max|              -|\n",
      "+-------+---------------+\n",
      "\n",
      "+-------+-------------+\n",
      "|summary|maximum_speed|\n",
      "+-------+-------------+\n",
      "|  count|          171|\n",
      "|   mean|         NULL|\n",
      "| stddev|         NULL|\n",
      "|    min|        / 1.7|\n",
      "|    max|   918 / 1.80|\n",
      "+-------+-------------+\n",
      "\n",
      "+-------+-------------+\n",
      "|summary|optimum_speed|\n",
      "+-------+-------------+\n",
      "|  count|           80|\n",
      "|   mean|         NULL|\n",
      "| stddev|         NULL|\n",
      "|    min|        / 1.1|\n",
      "|    max|    567 / .86|\n",
      "+-------+-------------+\n",
      "\n",
      "+-------+------------------+\n",
      "|summary|maximum_climb_rate|\n",
      "+-------+------------------+\n",
      "|  count|                 7|\n",
      "|   mean|              NULL|\n",
      "| stddev|              NULL|\n",
      "|    min|                 -|\n",
      "|    max|                 -|\n",
      "+-------+------------------+\n",
      "\n"
     ]
    }
   ],
   "source": [
    "for c in df.columns:\n",
    "    if c in [\"created_ts\", \"icao\", \"classification\", \"category\", \"manufacturers\"]:\n",
    "        continue\n",
    "\n",
    "    df.select(c).where(F.col(c).rlike(r\"[^\\d\\.]\")).describe().show()"
   ]
  },
  {
   "cell_type": "code",
   "execution_count": 102,
   "metadata": {},
   "outputs": [],
   "source": [
    "df = df.replace(\n",
    "    to_replace={\"-\": None, \"\": None},\n",
    "    subset=[\n",
    "        \"wing_span\",\n",
    "        \"length\",\n",
    "        \"height\",\n",
    "        \"mtow\",\n",
    "        \"fuel_capacity\",\n",
    "        \"maximum_range\",\n",
    "        \"take_off_distance\",\n",
    "        \"landing_distance\",\n",
    "        \"absolute_ceiling\",\n",
    "        \"optimum_ceiling\",\n",
    "        \"maximum_climb_rate\",\n",
    "    ],\n",
    ")"
   ]
  },
  {
   "cell_type": "code",
   "execution_count": 103,
   "metadata": {},
   "outputs": [
    {
     "name": "stdout",
     "output_type": "stream",
     "text": [
      "+-------+----+\n",
      "|summary|icao|\n",
      "+-------+----+\n",
      "|  count|   0|\n",
      "|   mean|NULL|\n",
      "| stddev|NULL|\n",
      "|    min|NULL|\n",
      "|    max|NULL|\n",
      "+-------+----+\n",
      "\n",
      "+-------+--------------+\n",
      "|summary|classification|\n",
      "+-------+--------------+\n",
      "|  count|            11|\n",
      "|   mean|          NULL|\n",
      "| stddev|          NULL|\n",
      "|    min|             -|\n",
      "|    max|           L/G|\n",
      "+-------+--------------+\n",
      "\n",
      "+-------+--------+\n",
      "|summary|category|\n",
      "+-------+--------+\n",
      "|  count|      14|\n",
      "|   mean|    NULL|\n",
      "| stddev|    NULL|\n",
      "|    min|      -/|\n",
      "|    max|   L-M/G|\n",
      "+-------+--------+\n",
      "\n"
     ]
    }
   ],
   "source": [
    "df.select(\"icao\").where(F.col(\"icao\").rlike(r\"[^a-zA-Z0-9]\")).describe().show()\n",
    "df.select(\"classification\").where(F.col(\"classification\").rlike(r\"[^a-zA-Z0-9]\")).describe().show()\n",
    "df.select(\"category\").where(F.col(\"category\").rlike(r\"[^a-zA-Z0-9\\/]\")).describe().show()"
   ]
  },
  {
   "cell_type": "code",
   "execution_count": 104,
   "metadata": {},
   "outputs": [],
   "source": [
    "df = df.replace(to_replace={\"-\": None, \"\": None}, subset=[\"classification\"])"
   ]
  },
  {
   "cell_type": "code",
   "execution_count": 105,
   "metadata": {},
   "outputs": [],
   "source": [
    "df = df.replace(to_replace={\"-/\": None, \"-/-\": None, \"\": None}, subset=[\"category\"])"
   ]
  },
  {
   "cell_type": "code",
   "execution_count": 106,
   "metadata": {},
   "outputs": [
    {
     "name": "stdout",
     "output_type": "stream",
     "text": [
      "+--------------------+----+--------------+--------+--------------------+---------+------+------+----+-------------+-------------+-----------------+----------------+----------------+---------------+-------------+-------------+------------------+------------------+------------------+\n",
      "|          created_ts|icao|classification|category|       manufacturers|wing_span|length|height|mtow|fuel_capacity|maximum_range|take_off_distance|landing_distance|absolute_ceiling|optimum_ceiling|maximum_speed|optimum_speed|maximum_climb_rate|capacity_lower_cap|capacity_upper_cap|\n",
      "+--------------------+----+--------------+--------+--------------------+---------+------+------+----+-------------+-------------+-----------------+----------------+----------------+---------------+-------------+-------------+------------------+------------------+------------------+\n",
      "|2024-01-10 14:10:...|A002|           G1P|     L/G|       [IRKUT A-002]|     NULL|   5.9|   3.3| 0.9|         NULL|          270|               90|              10|             100|             80|          113|             |              1100|              NULL|                 3|\n",
      "|2024-01-10 14:10:...|  A1|           L1P|     M/G|[DOUGLAS AD Skyra...|     15.4|  11.8|   4.7|11.3|         3150|         2500|              600|             600|             310|            215|          280|          163|              3700|              NULL|                 1|\n",
      "|2024-01-10 14:10:...| A10|           L2J|     M/F|[FAIRCHILD (1) A-...|     17.5|  16.3|   4.5|23.1|         4850|         2300|             1200|             610|             450|            410|          423|          310|              6000|              NULL|                 1|\n",
      "|2024-01-10 14:10:...|A109|           H2T|     L/G|[AGUSTA AW-109 Da...|     NULL|  10.7|   3.3| 2.8|          750|          360|             NULL|            NULL|             200|            120|          156|          126|              2100|              NULL|                 8|\n",
      "|2024-01-10 14:10:...|A119|           H1T|     L/G|[AGUSTA A-119 Koa...|     NULL|  11.1|   3.7| 2.8|          870|          350|             NULL|            NULL|             185|            110|          140|          135|              1200|              NULL|                 9|\n",
      "|2024-01-10 14:10:...|A122|           L1P|     L/G|[AEROTEC (1) A-12...|      8.5|   6.6|   2.7| 0.9|         NULL|          430|             NULL|            NULL|             150|            120|          122|          100|               780|              NULL|                 2|\n",
      "|2024-01-10 14:10:...|A124|           L4J|     H/B|[ANTONOV An-124 R...|     73.3|  69.1|    21| 405|       348700|         8900|             3000|             900|             400|            330|          465|    450 / .68|              1300|              NULL|                88|\n",
      "|2024-01-10 14:10:...|A129|           H2T|     L/G|[AGUSTA A-129 Man...|     NULL|  12.3|   2.7| 4.5|         1000|          325|             NULL|            NULL|             160|            155|          139|          129|              2150|              NULL|                 2|\n",
      "|2024-01-10 14:10:...|A139|           H2T|     L/G|[AGUSTA AW-139, A...|     NULL|  16.6|   4.9|   6|          750|          400|             NULL|            NULL|             120|            100|          160|          151|              1200|              NULL|                15|\n",
      "|2024-01-10 14:10:...|A140|           L2T|     M/F|[ANTONOV An-140, ...|     24.5|  22.6|   8.2|21.5|         5850|         1600|             1495|            NULL|             250|            220|          290|          243|              1500|              NULL|                54|\n",
      "|2024-01-10 14:10:...|A148|           L2J|     M/E|    [ANTONOV An-148]|     28.9|  29.1|   8.2|39.5|        12100|         3000|             1800|            2100|             470|            410|          470|          440|              NULL|              NULL|                80|\n",
      "|2024-01-10 14:10:...|A149|           H2T|     M/G|[AGUSTA AW-149, A...|     NULL|  14.6|   5.1| 8.1|         NULL|         NULL|             NULL|            NULL|            NULL|             60|          150|             |              NULL|              NULL|              2+18|\n",
      "|2024-01-10 14:10:...|A158|           L2J|     M/Z|    [ANTONOV An-158]|     28.9|  34.4|   8.6|43.7|         NULL|         1350|             1900|            2000|             400|            370|          470|          430|              NULL|              NULL|                99|\n",
      "|2024-01-10 14:10:...| A16|           L1P|     L/G|[AVIADESIGN A-16 ...|      8.8|   8.2|  NULL| 0.7|         NULL|          390|              150|             150|             130|            100|          119|          105|              1000|              NULL|                 2|\n",
      "|2024-01-10 14:10:...|A169|           H2T|     L/G|[AGUSTAWESTLAND A...|     NULL|  14.6|   4.5| 4.5|         NULL|         NULL|             NULL|            NULL|            NULL|           NULL|          140|          100|              NULL|              NULL|                12|\n",
      "|2024-01-10 14:10:...|A178|           L2J|     M/E|    [ANTONOV An-178]|     30.5|  32.2|   9.6|52.4|        14650|         2500|             NULL|            NULL|             430|           NULL|          530|    445 / .81|              NULL|              NULL|              4+90|\n",
      "|2024-01-10 14:10:...|A189|           H2T|     M/G|[AGUSTAWESTLAND A...|     NULL|  17.6|     5|   8|         2068|          240|             NULL|            NULL|            NULL|           NULL|             |          145|              NULL|              NULL|                20|\n",
      "|2024-01-10 14:10:...| A19|           L1P|     L/G|    [AEROPRACT A-19]|     10.6|   6.5|   2.5| 0.7|           60|         NULL|              100|             100|            NULL|           NULL|           81|           65|               500|              NULL|                 2|\n",
      "|2024-01-10 14:10:...|A19N|           L2J|     M/D|[AIRBUS A-319neo,...|     35.8|  33.8|  11.7|75.5|        26730|         3700|             1900|            1500|             390|            330|    473 / .82|   450 / 0.78|              2500|              NULL|               180|\n",
      "|2024-01-10 14:10:...| A20|           L2P|     M/G|[DOUGLAS A-20 Havoc]|     18.7|  14.6|   4.8|12.3|         NULL|          550|             NULL|            NULL|             270|            240|          300|          250|              1300|              NULL|                 3|\n",
      "+--------------------+----+--------------+--------+--------------------+---------+------+------+----+-------------+-------------+-----------------+----------------+----------------+---------------+-------------+-------------+------------------+------------------+------------------+\n",
      "only showing top 20 rows\n",
      "\n"
     ]
    }
   ],
   "source": [
    "df = (\n",
    "    df.withColumn(\"capacity_caps\", F.split(\"persons_on_board\", \"-\"))\n",
    "    .withColumn(\"capacity_lower_cap\", F.try_element_at(\"capacity_caps\", F.lit(-2)))\n",
    "    .withColumn(\"capacity_upper_cap\", F.element_at(\"capacity_caps\", F.lit(-1)))\n",
    "    .drop(\"persons_on_board\", \"capacity_caps\")\n",
    ")\n",
    "\n",
    "df.show()"
   ]
  },
  {
   "cell_type": "code",
   "execution_count": 107,
   "metadata": {},
   "outputs": [],
   "source": [
    "df = (\n",
    "    df.withColumn(\n",
    "        \"capacity_upper_capx\",\n",
    "        F.split(\"capacity_upper_cap\", r\"\\+\").cast(\"array<int>\"),\n",
    "    )\n",
    "    .withColumn(\n",
    "        \"capacity_upper_cap\", F.aggregate(\"capacity_upper_capx\", F.lit(0), lambda acc, x: acc + x)\n",
    "    )\n",
    "    .drop(\"capacity_upper_capx\")\n",
    ")"
   ]
  },
  {
   "cell_type": "code",
   "execution_count": 108,
   "metadata": {},
   "outputs": [],
   "source": [
    "df = df.withColumns(\n",
    "    {\n",
    "        \"wing_span\": F.col(\"wing_span\").cast(T.FloatType()),\n",
    "        \"length\": F.col(\"length\").cast(T.FloatType()),\n",
    "        \"height\": F.col(\"height\").cast(T.FloatType()),\n",
    "        \"mtow\": F.col(\"mtow\").cast(T.FloatType()),\n",
    "        \"fuel_capacity\": F.col(\"fuel_capacity\").cast(T.FloatType()),\n",
    "        \"maximum_range\": F.col(\"maximum_range\").cast(T.IntegerType()),\n",
    "        \"take_off_distance\": F.col(\"take_off_distance\").cast(T.FloatType()),\n",
    "        \"landing_distance\": F.col(\"landing_distance\").cast(T.FloatType()),\n",
    "        \"absolute_ceiling\": F.col(\"absolute_ceiling\").cast(T.FloatType()),\n",
    "        \"optimum_ceiling\": F.col(\"optimum_ceiling\").cast(T.FloatType()),\n",
    "        \"maximum_climb_rate\": F.col(\"maximum_climb_rate\").cast(T.FloatType()),\n",
    "        \"capacity_lower_cap\": F.col(\"capacity_lower_cap\").cast(T.IntegerType()),\n",
    "    }\n",
    ").drop(\"maximum_speed\", \"optimum_speed\")"
   ]
  },
  {
   "cell_type": "code",
   "execution_count": 109,
   "metadata": {},
   "outputs": [
    {
     "data": {
      "text/plain": [
       "StructType([StructField('created_ts', TimestampType(), True), StructField('icao', StringType(), True), StructField('classification', StringType(), True), StructField('category', StringType(), True), StructField('manufacturers', ArrayType(StringType(), True), True), StructField('wing_span', FloatType(), True), StructField('length', FloatType(), True), StructField('height', FloatType(), True), StructField('mtow', FloatType(), True), StructField('fuel_capacity', FloatType(), True), StructField('maximum_range', IntegerType(), True), StructField('take_off_distance', FloatType(), True), StructField('landing_distance', FloatType(), True), StructField('absolute_ceiling', FloatType(), True), StructField('optimum_ceiling', FloatType(), True), StructField('maximum_climb_rate', FloatType(), True), StructField('capacity_lower_cap', IntegerType(), True), StructField('capacity_upper_cap', IntegerType(), True)])"
      ]
     },
     "execution_count": 109,
     "metadata": {},
     "output_type": "execute_result"
    }
   ],
   "source": [
    "df.schema"
   ]
  },
  {
   "cell_type": "code",
   "execution_count": 110,
   "metadata": {},
   "outputs": [
    {
     "name": "stdout",
     "output_type": "stream",
     "text": [
      "+-------+----+--------------+--------+------------------+------------------+-----------------+------------------+------------------+------------------+-----------------+-----------------+------------------+------------------+------------------+------------------+------------------+\n",
      "|summary|icao|classification|category|         wing_span|            length|           height|              mtow|     fuel_capacity|     maximum_range|take_off_distance| landing_distance|  absolute_ceiling|   optimum_ceiling|maximum_climb_rate|capacity_lower_cap|capacity_upper_cap|\n",
      "+-------+----+--------------+--------+------------------+------------------+-----------------+------------------+------------------+------------------+-----------------+-----------------+------------------+------------------+------------------+------------------+------------------+\n",
      "|  count|2709|          2701|    2701|              2432|              2586|             2330|              2494|              1852|              2180|             1523|             1395|              2326|              1961|              2002|               142|              2592|\n",
      "|   mean|NULL|          NULL|    NULL|14.128166154811257|11.852838342169505|3.888944204196398|13.634081768835413|  6979.42607991362|1051.9224770642202|623.0277609980114|523.4953405017922|226.08813413585554|156.38704742478328| 2509.402097902098|112.44366197183099| 27.34104938271605|\n",
      "| stddev|NULL|          NULL|    NULL|10.388728831464626|10.851130609153406|3.135513333881153| 47.41688631777001|32395.556896978393|2014.6775993277329|707.1589335382708| 462.850151852731|122.51656360698917| 95.79796243999876| 5730.066665115011| 95.22839470518267| 525.4260657451186|\n",
      "|    min|A002|           A1P|     H/B|               4.5|               2.7|              0.8|               0.2|               0.6|                54|             1.28|              3.0|              60.0|              30.0|             100.0|                 2|                 0|\n",
      "|    max|ZZZZ|           T2T|     M/Z|             117.0|              84.0|             24.1|             600.0|          757000.0|             72300|           4500.0|           2500.0|             850.0|             800.0|           65000.0|               384|             26573|\n",
      "+-------+----+--------------+--------+------------------+------------------+-----------------+------------------+------------------+------------------+-----------------+-----------------+------------------+------------------+------------------+------------------+------------------+\n",
      "\n"
     ]
    }
   ],
   "source": [
    "df.describe().show()"
   ]
  },
  {
   "cell_type": "code",
   "execution_count": 111,
   "metadata": {},
   "outputs": [
    {
     "name": "stdout",
     "output_type": "stream",
     "text": [
      "+--------------------+----+--------------+--------+--------------------+---------+------+------+-----+-------------+-------------+-----------------+----------------+----------------+---------------+------------------+------------------+------------------+--------------------+\n",
      "|          created_ts|icao|classification|category|       manufacturers|wing_span|length|height| mtow|fuel_capacity|maximum_range|take_off_distance|landing_distance|absolute_ceiling|optimum_ceiling|maximum_climb_rate|capacity_lower_cap|capacity_upper_cap|          updated_ts|\n",
      "+--------------------+----+--------------+--------+--------------------+---------+------+------+-----+-------------+-------------+-----------------+----------------+----------------+---------------+------------------+------------------+------------------+--------------------+\n",
      "|2024-01-10 21:42:...|A002|           G1P|     L/G|       [IRKUT A-002]|     NULL|   5.9|   3.3|  0.9|         NULL|          270|             90.0|            10.0|           100.0|           80.0|            1100.0|              NULL|                 3|2024-01-10 21:42:...|\n",
      "|2024-01-10 21:42:...|  A1|           L1P|     M/G|[DOUGLAS AD Skyra...|     15.4|  11.8|   4.7| 11.3|       3150.0|         2500|            600.0|           600.0|           310.0|          215.0|            3700.0|              NULL|                 1|2024-01-10 21:42:...|\n",
      "|2024-01-10 21:42:...| A10|           L2J|     M/F|[FAIRCHILD (1) A-...|     17.5|  16.3|   4.5| 23.1|       4850.0|         2300|           1200.0|           610.0|           450.0|          410.0|            6000.0|              NULL|                 1|2024-01-10 21:42:...|\n",
      "|2024-01-10 21:42:...|A109|           H2T|     L/G|[AGUSTA AW-109 Da...|     NULL|  10.7|   3.3|  2.8|        750.0|          360|             NULL|            NULL|           200.0|          120.0|            2100.0|              NULL|                 8|2024-01-10 21:42:...|\n",
      "|2024-01-10 21:42:...|A119|           H1T|     L/G|[AGUSTA A-119 Koa...|     NULL|  11.1|   3.7|  2.8|        870.0|          350|             NULL|            NULL|           185.0|          110.0|            1200.0|              NULL|                 9|2024-01-10 21:42:...|\n",
      "|2024-01-10 21:42:...|A122|           L1P|     L/G|[AEROTEC (1) A-12...|      8.5|   6.6|   2.7|  0.9|         NULL|          430|             NULL|            NULL|           150.0|          120.0|             780.0|              NULL|                 2|2024-01-10 21:42:...|\n",
      "|2024-01-10 21:42:...|A124|           L4J|     H/B|[ANTONOV An-124 R...|     73.3|  69.1|  21.0|405.0|     348700.0|         8900|           3000.0|           900.0|           400.0|          330.0|            1300.0|              NULL|                88|2024-01-10 21:42:...|\n",
      "|2024-01-10 21:42:...|A129|           H2T|     L/G|[AGUSTA A-129 Man...|     NULL|  12.3|   2.7|  4.5|       1000.0|          325|             NULL|            NULL|           160.0|          155.0|            2150.0|              NULL|                 2|2024-01-10 21:42:...|\n",
      "|2024-01-10 21:42:...|A139|           H2T|     L/G|[AGUSTA AW-139, A...|     NULL|  16.6|   4.9|  6.0|        750.0|          400|             NULL|            NULL|           120.0|          100.0|            1200.0|              NULL|                15|2024-01-10 21:42:...|\n",
      "|2024-01-10 21:42:...|A140|           L2T|     M/F|[ANTONOV An-140, ...|     24.5|  22.6|   8.2| 21.5|       5850.0|         1600|           1495.0|            NULL|           250.0|          220.0|            1500.0|              NULL|                54|2024-01-10 21:42:...|\n",
      "|2024-01-10 21:42:...|A148|           L2J|     M/E|    [ANTONOV An-148]|     28.9|  29.1|   8.2| 39.5|      12100.0|         3000|           1800.0|          2100.0|           470.0|          410.0|              NULL|              NULL|                80|2024-01-10 21:42:...|\n",
      "|2024-01-10 21:42:...|A149|           H2T|     M/G|[AGUSTA AW-149, A...|     NULL|  14.6|   5.1|  8.1|         NULL|         NULL|             NULL|            NULL|            NULL|           60.0|              NULL|              NULL|                20|2024-01-10 21:42:...|\n",
      "|2024-01-10 21:42:...|A158|           L2J|     M/Z|    [ANTONOV An-158]|     28.9|  34.4|   8.6| 43.7|         NULL|         1350|           1900.0|          2000.0|           400.0|          370.0|              NULL|              NULL|                99|2024-01-10 21:42:...|\n",
      "|2024-01-10 21:42:...| A16|           L1P|     L/G|[AVIADESIGN A-16 ...|      8.8|   8.2|  NULL|  0.7|         NULL|          390|            150.0|           150.0|           130.0|          100.0|            1000.0|              NULL|                 2|2024-01-10 21:42:...|\n",
      "|2024-01-10 21:42:...|A169|           H2T|     L/G|[AGUSTAWESTLAND A...|     NULL|  14.6|   4.5|  4.5|         NULL|         NULL|             NULL|            NULL|            NULL|           NULL|              NULL|              NULL|                12|2024-01-10 21:42:...|\n",
      "|2024-01-10 21:42:...|A178|           L2J|     M/E|    [ANTONOV An-178]|     30.5|  32.2|   9.6| 52.4|      14650.0|         2500|             NULL|            NULL|           430.0|           NULL|              NULL|              NULL|                94|2024-01-10 21:42:...|\n",
      "|2024-01-10 21:42:...|A189|           H2T|     M/G|[AGUSTAWESTLAND A...|     NULL|  17.6|   5.0|  8.0|       2068.0|          240|             NULL|            NULL|            NULL|           NULL|              NULL|              NULL|                20|2024-01-10 21:42:...|\n",
      "|2024-01-10 21:42:...| A19|           L1P|     L/G|    [AEROPRACT A-19]|     10.6|   6.5|   2.5|  0.7|         60.0|         NULL|            100.0|           100.0|            NULL|           NULL|             500.0|              NULL|                 2|2024-01-10 21:42:...|\n",
      "|2024-01-10 21:42:...|A19N|           L2J|     M/D|[AIRBUS A-319neo,...|     35.8|  33.8|  11.7| 75.5|      26730.0|         3700|           1900.0|          1500.0|           390.0|          330.0|            2500.0|              NULL|               180|2024-01-10 21:42:...|\n",
      "|2024-01-10 21:42:...| A20|           L2P|     M/G|[DOUGLAS A-20 Havoc]|     18.7|  14.6|   4.8| 12.3|         NULL|          550|             NULL|            NULL|           270.0|          240.0|            1300.0|              NULL|                 3|2024-01-10 21:42:...|\n",
      "+--------------------+----+--------------+--------+--------------------+---------+------+------+-----+-------------+-------------+-----------------+----------------+----------------+---------------+------------------+------------------+------------------+--------------------+\n",
      "only showing top 20 rows\n",
      "\n"
     ]
    }
   ],
   "source": [
    "df = df.withColumn(\"created_ts\", F.current_timestamp()).withColumn(\n",
    "    \"updated_ts\", F.current_timestamp()\n",
    ")\n",
    "df.show()"
   ]
  },
  {
   "cell_type": "code",
   "execution_count": 115,
   "metadata": {},
   "outputs": [],
   "source": [
    "df.writeTo(\"dev.tier1.aircrafts\").append()"
   ]
  }
 ],
 "metadata": {
  "kernelspec": {
   "display_name": ".venv",
   "language": "python",
   "name": "python3"
  },
  "language_info": {
   "codemirror_mode": {
    "name": "ipython",
    "version": 3
   },
   "file_extension": ".py",
   "mimetype": "text/x-python",
   "name": "python",
   "nbconvert_exporter": "python",
   "pygments_lexer": "ipython3",
   "version": "3.11.7"
  }
 },
 "nbformat": 4,
 "nbformat_minor": 2
}
