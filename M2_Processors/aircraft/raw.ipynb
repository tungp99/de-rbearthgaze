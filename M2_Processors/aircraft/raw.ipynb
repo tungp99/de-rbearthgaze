{
 "cells": [
  {
   "cell_type": "code",
   "execution_count": 1,
   "metadata": {},
   "outputs": [
    {
     "name": "stdout",
     "output_type": "stream",
     "text": [
      "{'DATASTORAGE_AZURE_ACCESSKEY': 'dYj3PCGRyYHYR9pRo2xPa9BQ7t/sUonACJ29wcPdpa+1IC70rMbZmpfpHJJWJtk7OeASL+eQDIWq+AStGg3CCA==',\n",
      " 'DATASTORAGE_AZURE_ACCOUNTNAME': 'icebergpe6t5cug7x9f45p8',\n",
      " 'KAFKA_BOOTSTRAP_SERVERS': 'localhost:9092',\n",
      " 'KAFKA_SCHEMA_REGISTRY_URL': 'http://localhost:8081',\n",
      " 'KAFKA_SESSION_TIMEOUT_MS': '45000',\n",
      " 'KAFKA_TOPIC_RAW_AIRCRAFT': 'raw.aircraft',\n",
      " 'KAFKA_TOPIC_RAW_AIRLINE': 'raw.airline',\n",
      " 'KAFKA_TOPIC_RAW_AIRPORT': 'raw.airport',\n",
      " 'KAFKA_TOPIC_RAW_FLIGHT': 'raw.flight',\n",
      " 'KAFKA_TOPIC_T1_AIRCRAFT': 't1.aircraft',\n",
      " 'KAFKA_TOPIC_T1_AIRLINE': 't1.airline',\n",
      " 'KAFKA_TOPIC_T1_AIRPORT': 't1.airport',\n",
      " 'KAFKA_TOPIC_T1_FLIGHT': 't1.flight',\n",
      " 'KAFKA_TOPIC_T2_AIRCRAFT': 't2.aircraft',\n",
      " 'KAFKA_TOPIC_T2_AIRLINE': 't2.airline',\n",
      " 'KAFKA_TOPIC_T2_AIRPORT': 't2.airport',\n",
      " 'KAFKA_TOPIC_T2_FLIGHT': 't2.flight',\n",
      " 'POSTGRE_JDBC_URL': 'jdbc:postgresql://localhost:5432/iceberg-catalog',\n",
      " 'POSTGRE_PASSWORD': 'grebeci',\n",
      " 'POSTGRE_USER': 'iceberg',\n",
      " 'SPARK_MASTER_URL': 'local[1]',\n",
      " 'file': '../../.env.development.local',\n",
      " 'initialised': True}\n"
     ]
    }
   ],
   "source": [
    "from confluent_kafka.schema_registry import SchemaRegistryClient\n",
    "from libs.configuration import configure\n",
    "from pyspark.sql import SparkSession\n",
    "from pyspark.sql import functions as F\n",
    "from pyspark.sql.avro import functions as AF\n",
    "\n",
    "from shared.spark_config import create_spark_config\n",
    "\n",
    "env = configure()\n",
    "conf = create_spark_config(\"M2_Processors.airline.raw\")"
   ]
  },
  {
   "cell_type": "code",
   "execution_count": 2,
   "metadata": {},
   "outputs": [],
   "source": [
    "spark = SparkSession.builder.config(conf=conf).getOrCreate()"
   ]
  },
  {
   "cell_type": "code",
   "execution_count": 3,
   "metadata": {},
   "outputs": [
    {
     "data": {
      "text/plain": [
       "'{\"type\":\"record\",\"name\":\"RawAircraft\",\"namespace\":\"neot.de.rbearthgaze\",\"doc\":\"Typical Aircraft message after crawling from https://doc8643.com.\",\"fields\":[{\"name\":\"icao\",\"type\":\"string\",\"doc\":\"ICAO 4 letters\"},{\"name\":\"classification\",\"type\":\"string\",\"doc\":\"\"},{\"name\":\"category\",\"type\":\"string\",\"doc\":\"\"},{\"name\":\"manufacturers\",\"type\":{\"type\":\"array\",\"items\":\"string\"},\"doc\":\"\"},{\"name\":\"wing_span\",\"type\":[\"string\",\"null\"],\"doc\":\"float: Wing Span (m)\"},{\"name\":\"length\",\"type\":[\"string\",\"null\"],\"doc\":\"float: Length (m)\"},{\"name\":\"height\",\"type\":[\"string\",\"null\"],\"doc\":\"float: Height (m)\"},{\"name\":\"mtow\",\"type\":[\"string\",\"null\"],\"doc\":\"float: MTOW (t)\"},{\"name\":\"fuel_capacity\",\"type\":[\"string\",\"null\"],\"doc\":\"int: Fuel Capacity (ltr)\"},{\"name\":\"maximum_range\",\"type\":[\"string\",\"null\"],\"doc\":\"int: Maximum Range (Nm)\"},{\"name\":\"persons_on_board\",\"type\":[\"string\",\"null\"],\"doc\":\"int: Persons On Board\"},{\"name\":\"take_off_distance\",\"type\":[\"string\",\"null\"],\"doc\":\"int: Take Off Distance (m)\"},{\"name\":\"landing_distance\",\"type\":[\"string\",\"null\"],\"doc\":\"int: Landing Distance (m)\"},{\"name\":\"absolute_ceiling\",\"type\":[\"string\",\"null\"],\"doc\":\"int: Absolute Ceiling (x100ft)\"},{\"name\":\"optimum_ceiling\",\"type\":[\"string\",\"null\"],\"doc\":\"int: Optimum Ceiling (x100ft)\"},{\"name\":\"maximum_speed\",\"type\":[\"string\",\"null\"],\"doc\":\"int: Maximum Speed (kts/M)\"},{\"name\":\"optimum_speed\",\"type\":[\"string\",\"null\"],\"doc\":\"int: Optimum Speed (kts/M)\"},{\"name\":\"maximum_climb_rate\",\"type\":[\"string\",\"null\"],\"doc\":\"int: Maximum Climb Rate (ft/min)\"}]}'"
      ]
     },
     "execution_count": 3,
     "metadata": {},
     "output_type": "execute_result"
    }
   ],
   "source": [
    "sr_client = SchemaRegistryClient({\"url\": env.KAFKA_SCHEMA_REGISTRY_URL})\n",
    "in_schema = sr_client.get_latest_version(f\"{env.KAFKA_TOPIC_RAW_AIRCRAFT}-value\")\n",
    "in_schema.schema.schema_str"
   ]
  },
  {
   "cell_type": "code",
   "execution_count": 4,
   "metadata": {},
   "outputs": [],
   "source": [
    "df = (\n",
    "    spark.read.format(\"kafka\")\n",
    "    .option(\"kafka.bootstrap.servers\", env.KAFKA_BOOTSTRAP_SERVERS)\n",
    "    .option(\"subscribe\", env.KAFKA_TOPIC_RAW_AIRCRAFT)\n",
    "    # .option(\"minOffsetsPerTrigger\", 20)\n",
    "    # .option(\"maxOffsetsPerTrigger\", 20)\n",
    "    # .option(\"fetchOffset.numRetries\", 0)\n",
    "    .option(\"startingOffsets\", \"earliest\")\n",
    "    # .option(\"endingOffsets\", \"latest\")\n",
    "    .load()\n",
    ")"
   ]
  },
  {
   "cell_type": "code",
   "execution_count": 5,
   "metadata": {},
   "outputs": [
    {
     "name": "stdout",
     "output_type": "stream",
     "text": [
      "+----+--------------+--------+--------------------+---------+------+------+----+-------------+-------------+----------------+-----------------+----------------+----------------+---------------+-------------+-------------+------------------+\n",
      "|icao|classification|category|       manufacturers|wing_span|length|height|mtow|fuel_capacity|maximum_range|persons_on_board|take_off_distance|landing_distance|absolute_ceiling|optimum_ceiling|maximum_speed|optimum_speed|maximum_climb_rate|\n",
      "+----+--------------+--------+--------------------+---------+------+------+----+-------------+-------------+----------------+-----------------+----------------+----------------+---------------+-------------+-------------+------------------+\n",
      "|A002|           G1P|     L/G|       [IRKUT A-002]|        -|   5.9|   3.3| 0.9|             |          270|               3|               90|              10|             100|             80|          113|             |              1100|\n",
      "|  A1|           L1P|     M/G|[DOUGLAS AD Skyra...|     15.4|  11.8|   4.7|11.3|         3150|         2500|               1|              600|             600|             310|            215|          280|          163|              3700|\n",
      "| A10|           L2J|     M/F|[FAIRCHILD (1) A-...|     17.5|  16.3|   4.5|23.1|         4850|         2300|               1|             1200|             610|             450|            410|          423|          310|              6000|\n",
      "|A109|           H2T|     L/G|[AGUSTA AW-109 Da...|        -|  10.7|   3.3| 2.8|          750|          360|               8|                -|               -|             200|            120|          156|          126|              2100|\n",
      "|A119|           H1T|     L/G|[AGUSTA A-119 Koa...|        -|  11.1|   3.7| 2.8|          870|          350|               9|                -|               -|             185|            110|          140|          135|              1200|\n",
      "|A122|           L1P|     L/G|[AEROTEC (1) A-12...|      8.5|   6.6|   2.7| 0.9|             |          430|               2|                 |                |             150|            120|          122|          100|               780|\n",
      "|A124|           L4J|     H/B|[ANTONOV An-124 R...|     73.3|  69.1|    21| 405|       348700|         8900|              88|             3000|             900|             400|            330|          465|    450 / .68|              1300|\n",
      "|A129|           H2T|     L/G|[AGUSTA A-129 Man...|        -|  12.3|   2.7| 4.5|         1000|          325|               2|                -|               -|             160|            155|          139|          129|              2150|\n",
      "|A139|           H2T|     L/G|[AGUSTA AW-139, A...|        -|  16.6|   4.9|   6|          750|          400|              15|                -|               -|             120|            100|          160|          151|              1200|\n",
      "|A140|           L2T|     M/F|[ANTONOV An-140, ...|     24.5|  22.6|   8.2|21.5|         5850|         1600|              54|             1495|                |             250|            220|          290|          243|              1500|\n",
      "|A148|           L2J|     M/E|    [ANTONOV An-148]|     28.9|  29.1|   8.2|39.5|        12100|         3000|              80|             1800|            2100|             470|            410|          470|          440|                  |\n",
      "|A149|           H2T|     M/G|[AGUSTA AW-149, A...|        -|  14.6|   5.1| 8.1|             |             |            2+18|                -|               -|                |             60|          150|             |                  |\n",
      "|A158|           L2J|     M/Z|    [ANTONOV An-158]|     28.9|  34.4|   8.6|43.7|             |         1350|              99|             1900|            2000|             400|            370|          470|          430|                  |\n",
      "| A16|           L1P|     L/G|[AVIADESIGN A-16 ...|      8.8|   8.2|      | 0.7|             |          390|               2|              150|             150|             130|            100|          119|          105|              1000|\n",
      "|A169|           H2T|     L/G|[AGUSTAWESTLAND A...|        -|  14.6|   4.5| 4.5|             |             |              12|                -|               -|                |               |          140|          100|                  |\n",
      "|A178|           L2J|     M/E|    [ANTONOV An-178]|     30.5|  32.2|   9.6|52.4|        14650|         2500|            4+90|                 |                |             430|               |          530|    445 / .81|                  |\n",
      "|A189|           H2T|     M/G|[AGUSTAWESTLAND A...|        -|  17.6|     5|   8|         2068|          240|              20|                -|               -|                |               |             |          145|                  |\n",
      "| A19|           L1P|     L/G|    [AEROPRACT A-19]|     10.6|   6.5|   2.5| 0.7|           60|             |               2|              100|             100|                |               |           81|           65|               500|\n",
      "|A19N|           L2J|     M/D|[AIRBUS A-319neo,...|     35.8|  33.8|  11.7|75.5|        26730|         3700|             180|             1900|            1500|             390|            330|    473 / .82|   450 / 0.78|              2500|\n",
      "| A20|           L2P|     M/G|[DOUGLAS A-20 Havoc]|     18.7|  14.6|   4.8|12.3|             |          550|               3|                 |                |             270|            240|          300|          250|              1300|\n",
      "+----+--------------+--------+--------------------+---------+------+------+----+-------------+-------------+----------------+-----------------+----------------+----------------+---------------+-------------+-------------+------------------+\n",
      "only showing top 20 rows\n",
      "\n"
     ]
    }
   ],
   "source": [
    "df = df.selectExpr(\"substring(value, 6) as value\")\n",
    "df = df.select(AF.from_avro(\"value\", in_schema.schema.schema_str).alias(\"d\")).select(\"d.*\")\n",
    "df.show()"
   ]
  },
  {
   "cell_type": "code",
   "execution_count": 6,
   "metadata": {},
   "outputs": [
    {
     "name": "stdout",
     "output_type": "stream",
     "text": [
      "+----+--------------+--------+--------------------+---------+------+------+----+-------------+-------------+----------------+-----------------+----------------+----------------+---------------+-------------+-------------+------------------+--------------------+\n",
      "|icao|classification|category|       manufacturers|wing_span|length|height|mtow|fuel_capacity|maximum_range|persons_on_board|take_off_distance|landing_distance|absolute_ceiling|optimum_ceiling|maximum_speed|optimum_speed|maximum_climb_rate|          created_ts|\n",
      "+----+--------------+--------+--------------------+---------+------+------+----+-------------+-------------+----------------+-----------------+----------------+----------------+---------------+-------------+-------------+------------------+--------------------+\n",
      "|A002|           G1P|     L/G|       [IRKUT A-002]|        -|   5.9|   3.3| 0.9|             |          270|               3|               90|              10|             100|             80|          113|             |              1100|2024-01-10 14:10:...|\n",
      "|  A1|           L1P|     M/G|[DOUGLAS AD Skyra...|     15.4|  11.8|   4.7|11.3|         3150|         2500|               1|              600|             600|             310|            215|          280|          163|              3700|2024-01-10 14:10:...|\n",
      "| A10|           L2J|     M/F|[FAIRCHILD (1) A-...|     17.5|  16.3|   4.5|23.1|         4850|         2300|               1|             1200|             610|             450|            410|          423|          310|              6000|2024-01-10 14:10:...|\n",
      "|A109|           H2T|     L/G|[AGUSTA AW-109 Da...|        -|  10.7|   3.3| 2.8|          750|          360|               8|                -|               -|             200|            120|          156|          126|              2100|2024-01-10 14:10:...|\n",
      "|A119|           H1T|     L/G|[AGUSTA A-119 Koa...|        -|  11.1|   3.7| 2.8|          870|          350|               9|                -|               -|             185|            110|          140|          135|              1200|2024-01-10 14:10:...|\n",
      "|A122|           L1P|     L/G|[AEROTEC (1) A-12...|      8.5|   6.6|   2.7| 0.9|             |          430|               2|                 |                |             150|            120|          122|          100|               780|2024-01-10 14:10:...|\n",
      "|A124|           L4J|     H/B|[ANTONOV An-124 R...|     73.3|  69.1|    21| 405|       348700|         8900|              88|             3000|             900|             400|            330|          465|    450 / .68|              1300|2024-01-10 14:10:...|\n",
      "|A129|           H2T|     L/G|[AGUSTA A-129 Man...|        -|  12.3|   2.7| 4.5|         1000|          325|               2|                -|               -|             160|            155|          139|          129|              2150|2024-01-10 14:10:...|\n",
      "|A139|           H2T|     L/G|[AGUSTA AW-139, A...|        -|  16.6|   4.9|   6|          750|          400|              15|                -|               -|             120|            100|          160|          151|              1200|2024-01-10 14:10:...|\n",
      "|A140|           L2T|     M/F|[ANTONOV An-140, ...|     24.5|  22.6|   8.2|21.5|         5850|         1600|              54|             1495|                |             250|            220|          290|          243|              1500|2024-01-10 14:10:...|\n",
      "|A148|           L2J|     M/E|    [ANTONOV An-148]|     28.9|  29.1|   8.2|39.5|        12100|         3000|              80|             1800|            2100|             470|            410|          470|          440|                  |2024-01-10 14:10:...|\n",
      "|A149|           H2T|     M/G|[AGUSTA AW-149, A...|        -|  14.6|   5.1| 8.1|             |             |            2+18|                -|               -|                |             60|          150|             |                  |2024-01-10 14:10:...|\n",
      "|A158|           L2J|     M/Z|    [ANTONOV An-158]|     28.9|  34.4|   8.6|43.7|             |         1350|              99|             1900|            2000|             400|            370|          470|          430|                  |2024-01-10 14:10:...|\n",
      "| A16|           L1P|     L/G|[AVIADESIGN A-16 ...|      8.8|   8.2|      | 0.7|             |          390|               2|              150|             150|             130|            100|          119|          105|              1000|2024-01-10 14:10:...|\n",
      "|A169|           H2T|     L/G|[AGUSTAWESTLAND A...|        -|  14.6|   4.5| 4.5|             |             |              12|                -|               -|                |               |          140|          100|                  |2024-01-10 14:10:...|\n",
      "|A178|           L2J|     M/E|    [ANTONOV An-178]|     30.5|  32.2|   9.6|52.4|        14650|         2500|            4+90|                 |                |             430|               |          530|    445 / .81|                  |2024-01-10 14:10:...|\n",
      "|A189|           H2T|     M/G|[AGUSTAWESTLAND A...|        -|  17.6|     5|   8|         2068|          240|              20|                -|               -|                |               |             |          145|                  |2024-01-10 14:10:...|\n",
      "| A19|           L1P|     L/G|    [AEROPRACT A-19]|     10.6|   6.5|   2.5| 0.7|           60|             |               2|              100|             100|                |               |           81|           65|               500|2024-01-10 14:10:...|\n",
      "|A19N|           L2J|     M/D|[AIRBUS A-319neo,...|     35.8|  33.8|  11.7|75.5|        26730|         3700|             180|             1900|            1500|             390|            330|    473 / .82|   450 / 0.78|              2500|2024-01-10 14:10:...|\n",
      "| A20|           L2P|     M/G|[DOUGLAS A-20 Havoc]|     18.7|  14.6|   4.8|12.3|             |          550|               3|                 |                |             270|            240|          300|          250|              1300|2024-01-10 14:10:...|\n",
      "+----+--------------+--------+--------------------+---------+------+------+----+-------------+-------------+----------------+-----------------+----------------+----------------+---------------+-------------+-------------+------------------+--------------------+\n",
      "only showing top 20 rows\n",
      "\n"
     ]
    }
   ],
   "source": [
    "df = df.withColumn(\"created_ts\", F.current_timestamp())\n",
    "df.show()"
   ]
  },
  {
   "cell_type": "code",
   "execution_count": 7,
   "metadata": {},
   "outputs": [],
   "source": [
    "df.writeTo(\"dev.raw.aircrafts\").append()"
   ]
  }
 ],
 "metadata": {
  "kernelspec": {
   "display_name": ".venv",
   "language": "python",
   "name": "python3"
  },
  "language_info": {
   "codemirror_mode": {
    "name": "ipython",
    "version": 3
   },
   "file_extension": ".py",
   "mimetype": "text/x-python",
   "name": "python",
   "nbconvert_exporter": "python",
   "pygments_lexer": "ipython3",
   "version": "3.11.7"
  }
 },
 "nbformat": 4,
 "nbformat_minor": 2
}
