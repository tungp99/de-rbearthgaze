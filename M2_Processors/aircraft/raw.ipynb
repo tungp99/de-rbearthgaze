{
 "cells": [
  {
   "cell_type": "code",
   "execution_count": 1,
   "metadata": {},
   "outputs": [
    {
     "name": "stdout",
     "output_type": "stream",
     "text": [
      "{'DATASTORAGE_AZURE_ACCESSKEY': 'dYj3PCGRyYHYR9pRo2xPa9BQ7t/sUonACJ29wcPdpa+1IC70rMbZmpfpHJJWJtk7OeASL+eQDIWq+AStGg3CCA==',\n",
      " 'DATASTORAGE_AZURE_ACCOUNTNAME': 'icebergpe6t5cug7x9f45p8',\n",
      " 'KAFKA_BOOTSTRAP_SERVERS': 'localhost:9092',\n",
      " 'KAFKA_SCHEMA_REGISTRY_URL': 'http://localhost:8081',\n",
      " 'KAFKA_SESSION_TIMEOUT_MS': '45000',\n",
      " 'KAFKA_TOPIC_RAW_AIRCRAFT': 'raw.aircraft',\n",
      " 'KAFKA_TOPIC_RAW_AIRLINE': 'raw.airline',\n",
      " 'KAFKA_TOPIC_RAW_AIRPORT': 'raw.airport',\n",
      " 'KAFKA_TOPIC_RAW_FLIGHT_SIGNAL': 'raw.flight_signal',\n",
      " 'KAFKA_TOPIC_T1_AIRCRAFT': 't1.aircraft',\n",
      " 'KAFKA_TOPIC_T1_AIRLINE': 't1.airline',\n",
      " 'KAFKA_TOPIC_T1_AIRPORT': 't1.airport',\n",
      " 'KAFKA_TOPIC_T1_FLIGHT_SIGNAL': 't1.flight_signal',\n",
      " 'KAFKA_TOPIC_T2_AIRCRAFT': 't2.aircraft',\n",
      " 'KAFKA_TOPIC_T2_AIRLINE': 't2.airline',\n",
      " 'KAFKA_TOPIC_T2_AIRPORT': 't2.airport',\n",
      " 'KAFKA_TOPIC_T2_FLIGHT_SIGNAL': 't2.flight_signal',\n",
      " 'POSTGRE_JDBC_URL': 'jdbc:postgresql://localhost:5432/iceberg-catalog',\n",
      " 'POSTGRE_PASSWORD': 'grebeci',\n",
      " 'POSTGRE_USER': 'iceberg',\n",
      " 'SPARK_MASTER_URL': 'local[1]',\n",
      " 'file': '../../.env.development.local',\n",
      " 'initialised': True}\n"
     ]
    }
   ],
   "source": [
    "from pyspark.sql import SparkSession\n",
    "from pyspark.sql import functions as F\n",
    "from pyspark.sql import types as T\n",
    "from pyspark.sql.avro import functions as AF\n",
    "from shared.spark_config import create_spark_config\n",
    "\n",
    "from libs.configuration import configure\n",
    "\n",
    "env = configure()\n",
    "conf = create_spark_config(\"M2_Processors.aircraft.raw\")"
   ]
  },
  {
   "cell_type": "code",
   "execution_count": 2,
   "metadata": {},
   "outputs": [],
   "source": [
    "spark = SparkSession.builder.config(conf=conf).getOrCreate()"
   ]
  },
  {
   "cell_type": "code",
   "execution_count": null,
   "metadata": {},
   "outputs": [],
   "source": [
    "df = spark.read.csv(\n",
    "    f\"abfss://sampledata@{env.DATASTORAGE_AZURE_ACCOUNTNAME}.dfs.core.windows.net/aircrafts.csv\",\n",
    "    header=True,\n",
    "    quote='\"',\n",
    "    inferSchema=True,\n",
    ").drop(\n",
    "    \"manufacturername\",\n",
    "    \"linenumber\",\n",
    "    \"icaoaircrafttype\",\n",
    "    \"testreg\",\n",
    "    \"status\",\n",
    "    \"firstflightdate\",\n",
    "    \"seatconfiguration\",\n",
    "    \"notes\",\n",
    "    \"categoryDescription\",\n",
    ")"
   ]
  },
  {
   "cell_type": "code",
   "execution_count": 6,
   "metadata": {},
   "outputs": [],
   "source": [
    "# schema = T.StructType(\n",
    "#     [\n",
    "#         T.StructField(\"icao24\", T.StringType()),\n",
    "#         T.StructField(\"registration\", T.StringType()),\n",
    "#         T.StructField(\"manufacturer_icao\", T.StringType()),\n",
    "#         T.StructField(\"manufacturer_name\", T.StringType()),\n",
    "#         T.StructField(\"model\", T.StringType()),\n",
    "#         T.StructField(\"model_icao\", T.StringType()),\n",
    "#         T.StructField(\"x\", T.StringType()),\n",
    "#         T.StructField(\"y\", T.StringType()),\n",
    "#         T.StructField(\"classification\", T.StringType()),\n",
    "#         T.StructField(\"operator\", T.StringType()),\n",
    "#         T.StructField(\"operator_callsign\", T.StringType()),\n",
    "#         T.StructField(\"operator_icao\", T.StringType()),\n",
    "#         T.StructField(\"operator_iata\", T.StringType()),\n",
    "#         T.StructField(\"owner\", T.StringType()),\n",
    "#         T.StructField(\"description\", T.StringType()),\n",
    "#     ]\n",
    "# )\n",
    "\n",
    "df = spark.read.csv(\"../../assets/aircrafts.csv\", header=True, quote='\"', inferSchema=True).drop(\n",
    "    \"manufacturername\",\n",
    "    \"linenumber\",\n",
    "    \"icaoaircrafttype\",\n",
    "    \"testreg\",\n",
    "    \"status\",\n",
    "    \"firstflightdate\",\n",
    "    \"seatconfiguration\",\n",
    "    \"notes\",\n",
    "    \"categoryDescription\",\n",
    ")"
   ]
  },
  {
   "cell_type": "code",
   "execution_count": 70,
   "metadata": {},
   "outputs": [
    {
     "name": "stdout",
     "output_type": "stream",
     "text": [
      "+-------+--------+-----------------+----------------+--------------------+--------+-------------+--------------------+----------------+-----------------+------------------+--------------------+--------------------+\n",
      "|summary|  icao24|     registration|manufacturericao|               model|typecode| serialnumber|            operator|operatorcallsign|     operatoricao|      operatoriata|               owner|             engines|\n",
      "+-------+--------+-----------------+----------------+--------------------+--------+-------------+--------------------+----------------+-----------------+------------------+--------------------+--------------------+\n",
      "|  count|  457176|           454120|          376929|              387279|  421921|       384376|               20812|           35211|            36372|              7054|              383284|              244474|\n",
      "|   mean|Infinity|78818.88443804035|            NULL|            Infinity|   737.0|     Infinity|                NULL|            NULL|         200204.0| 4.769230769230769|                NULL|  1.8298969072164948|\n",
      "| stddev|     NaN|99034.57364996115|            NULL|                 NaN|    NULL|          NaN|                NULL|            NULL|282506.1296467742|0.8320502943378437|                NULL|  0.7459271031426733|\n",
      "|    min|  000001|           9N-AMM|          3XTRIM|                 ...|    172S|\\t05164841014|\\taero Logistics ...|                |                -|                 -|\\taero Logistics ...| 2 x CFMI CFM56-5...|\n",
      "|    max|  fffffe|           n6789F|             ZLT|willy's 140 (1 F.W.)|    ZZZZ|       th-212|         Zünd, Marco|           n42zc|              bfx|                ZW|      �va L�tourneau|ÉTABLISSEMENTS PI...|\n",
      "+-------+--------+-----------------+----------------+--------------------+--------+-------------+--------------------+----------------+-----------------+------------------+--------------------+--------------------+\n",
      "\n"
     ]
    }
   ],
   "source": [
    "df.describe().show()"
   ]
  },
  {
   "cell_type": "code",
   "execution_count": 7,
   "metadata": {},
   "outputs": [],
   "source": [
    "df = df.withColumn(\"created_ts\", F.current_timestamp())"
   ]
  },
  {
   "cell_type": "code",
   "execution_count": 9,
   "metadata": {},
   "outputs": [
    {
     "data": {
      "text/plain": [
       "StructType([StructField('icao24', StringType(), True), StructField('registration', StringType(), True), StructField('manufacturericao', StringType(), True), StructField('model', StringType(), True), StructField('typecode', StringType(), True), StructField('serialnumber', StringType(), True), StructField('operator', StringType(), True), StructField('operatorcallsign', StringType(), True), StructField('operatoricao', StringType(), True), StructField('operatoriata', StringType(), True), StructField('owner', StringType(), True), StructField('registered', DateType(), True), StructField('reguntil', DateType(), True), StructField('built', DateType(), True), StructField('engines', StringType(), True), StructField('modes', BooleanType(), True), StructField('adsb', BooleanType(), True), StructField('acars', BooleanType(), True), StructField('created_ts', TimestampType(), False)])"
      ]
     },
     "execution_count": 9,
     "metadata": {},
     "output_type": "execute_result"
    }
   ],
   "source": [
    "df.schema"
   ]
  },
  {
   "cell_type": "code",
   "execution_count": 11,
   "metadata": {},
   "outputs": [],
   "source": [
    "df.writeTo(\"dev.raw.aircrafts\").append()"
   ]
  }
 ],
 "metadata": {
  "kernelspec": {
   "display_name": ".venv",
   "language": "python",
   "name": "python3"
  },
  "language_info": {
   "codemirror_mode": {
    "name": "ipython",
    "version": 3
   },
   "file_extension": ".py",
   "mimetype": "text/x-python",
   "name": "python",
   "nbconvert_exporter": "python",
   "pygments_lexer": "ipython3",
   "version": "3.11.7"
  }
 },
 "nbformat": 4,
 "nbformat_minor": 2
}
