{
 "cells": [
  {
   "cell_type": "code",
   "execution_count": null,
   "metadata": {},
   "outputs": [],
   "source": [
    "from pyspark.sql import SparkSession\n",
    "from shared.spark_config import create_spark_config\n",
    "\n",
    "from libs.configuration import configure\n",
    "\n",
    "env = configure()\n",
    "conf = create_spark_config(\"M2_Processors.aircraft.ddl\")"
   ]
  },
  {
   "cell_type": "code",
   "execution_count": null,
   "metadata": {},
   "outputs": [],
   "source": [
    "spark = SparkSession.builder.config(conf=conf).getOrCreate()"
   ]
  },
  {
   "cell_type": "code",
   "execution_count": null,
   "metadata": {},
   "outputs": [],
   "source": [
    "spark.sql(\"USE dev\").show()"
   ]
  },
  {
   "cell_type": "code",
   "execution_count": null,
   "metadata": {},
   "outputs": [],
   "source": [
    "spark.sql(\"DROP TABLE dev.raw.aircrafts PURGE\").show()"
   ]
  },
  {
   "cell_type": "code",
   "execution_count": null,
   "metadata": {},
   "outputs": [],
   "source": [
    "spark.sql(\"\"\"\n",
    "CREATE TABLE IF NOT EXISTS dev.raw.aircrafts (\n",
    "    created_ts timestamp,\n",
    "    icao24 string,\n",
    "    registration string,\n",
    "    manufacturericao string,\n",
    "    model string,\n",
    "    typecode string,\n",
    "    serialnumber string,\n",
    "    operator string,\n",
    "    operatorcallsign string,\n",
    "    operatoricao string,\n",
    "    operatoriata string,\n",
    "    owner string,\n",
    "    registered date,\n",
    "    reguntil date,\n",
    "    built date,\n",
    "    engines string,\n",
    "    modes boolean,\n",
    "    adsb boolean,\n",
    "    acars boolean\n",
    "\n",
    ")\n",
    "USING iceberg\n",
    "\"\"\").show()"
   ]
  },
  {
   "cell_type": "code",
   "execution_count": null,
   "metadata": {},
   "outputs": [],
   "source": [
    "spark.sql(\"DROP TABLE dev.tier1.aircrafts PURGE\").show()"
   ]
  },
  {
   "cell_type": "code",
   "execution_count": null,
   "metadata": {},
   "outputs": [],
   "source": [
    "spark.sql(\"\"\"\n",
    "CREATE TABLE IF NOT EXISTS dev.tier1.aircrafts (\n",
    "    created_ts timestamp,\n",
    "    updated_ts timestamp,\n",
    "    icao string COMMENT 'ICAO 4 letters',\n",
    "    classification string COMMENT '',\n",
    "    category string COMMENT '',\n",
    "    manufacturers array<string> COMMENT '',\n",
    "    wing_span float COMMENT 'Wing Span (m)',\n",
    "    length float COMMENT 'Length (m)',\n",
    "    height float COMMENT 'Height (m)',\n",
    "    mtow float COMMENT 'MTOW (t)',\n",
    "    fuel_capacity float COMMENT 'Fuel Capacity (ltr)',\n",
    "    maximum_range int COMMENT 'Maximum Range (Nm)',\n",
    "    capacity_lower_cap int COMMENT 'Persons on Board lower cap',\n",
    "    capacity_upper_cap int COMMENT 'Persons on Board upper cap',\n",
    "    take_off_distance float COMMENT 'Take Off Distance (m)',\n",
    "    landing_distance float COMMENT 'Landing Distance (m)',\n",
    "    absolute_ceiling float COMMENT 'Absolute Ceiling (x100ft)',\n",
    "    optimum_ceiling float COMMENT 'Optimum Ceiling (x100ft)',\n",
    "    maximum_climb_rate float COMMENT 'Maximum Climb Rate (ft/min)'\n",
    ")\n",
    "USING iceberg\n",
    "\"\"\").show()"
   ]
  }
 ],
 "metadata": {
  "kernelspec": {
   "display_name": ".venv",
   "language": "python",
   "name": "python3"
  },
  "language_info": {
   "codemirror_mode": {
    "name": "ipython",
    "version": 3
   },
   "file_extension": ".py",
   "mimetype": "text/x-python",
   "name": "python",
   "nbconvert_exporter": "python",
   "pygments_lexer": "ipython3",
   "version": "3.11.7"
  }
 },
 "nbformat": 4,
 "nbformat_minor": 2
}
