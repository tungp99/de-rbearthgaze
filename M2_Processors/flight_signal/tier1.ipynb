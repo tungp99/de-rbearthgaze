{
 "cells": [
  {
   "cell_type": "code",
   "execution_count": 1,
   "metadata": {},
   "outputs": [
    {
     "name": "stdout",
     "output_type": "stream",
     "text": [
      "{'DATASTORAGE_AZURE_ACCESSKEY': 'dYj3PCGRyYHYR9pRo2xPa9BQ7t/sUonACJ29wcPdpa+1IC70rMbZmpfpHJJWJtk7OeASL+eQDIWq+AStGg3CCA==',\n",
      " 'DATASTORAGE_AZURE_ACCOUNTNAME': 'icebergpe6t5cug7x9f45p8',\n",
      " 'KAFKA_BOOTSTRAP_SERVERS': 'localhost:9092',\n",
      " 'KAFKA_SCHEMA_REGISTRY_URL': 'http://localhost:8081',\n",
      " 'KAFKA_SESSION_TIMEOUT_MS': '45000',\n",
      " 'KAFKA_TOPIC_RAW_AIRCRAFT': 'raw.aircraft',\n",
      " 'KAFKA_TOPIC_RAW_AIRLINE': 'raw.airline',\n",
      " 'KAFKA_TOPIC_RAW_AIRPORT': 'raw.airport',\n",
      " 'KAFKA_TOPIC_RAW_FLIGHT_SIGNAL': 'raw.flight_signal',\n",
      " 'KAFKA_TOPIC_T1_AIRCRAFT': 't1.aircraft',\n",
      " 'KAFKA_TOPIC_T1_AIRLINE': 't1.airline',\n",
      " 'KAFKA_TOPIC_T1_AIRPORT': 't1.airport',\n",
      " 'KAFKA_TOPIC_T1_FLIGHT_SIGNAL': 't1.flight_signal',\n",
      " 'KAFKA_TOPIC_T2_AIRCRAFT': 't2.aircraft',\n",
      " 'KAFKA_TOPIC_T2_AIRLINE': 't2.airline',\n",
      " 'KAFKA_TOPIC_T2_AIRPORT': 't2.airport',\n",
      " 'KAFKA_TOPIC_T2_FLIGHT_SIGNAL': 't2.flight_signal',\n",
      " 'POSTGRE_JDBC_URL': 'jdbc:postgresql://localhost:5432/iceberg-catalog',\n",
      " 'POSTGRE_PASSWORD': 'grebeci',\n",
      " 'POSTGRE_USER': 'iceberg',\n",
      " 'SPARK_MASTER_URL': 'local[1]',\n",
      " 'file': '../../.env.development.local',\n",
      " 'initialised': True}\n"
     ]
    }
   ],
   "source": [
    "from datetime import datetime\n",
    "\n",
    "from libs.configuration import configure\n",
    "from pyspark.sql import SparkSession\n",
    "from pyspark.sql import functions as F\n",
    "\n",
    "from shared.spark_config import create_spark_config\n",
    "\n",
    "env = configure()\n",
    "conf = create_spark_config(\"M2_Processors.airport.tier1\")"
   ]
  },
  {
   "cell_type": "code",
   "execution_count": 2,
   "metadata": {},
   "outputs": [],
   "source": [
    "spark = SparkSession.builder.config(conf=conf).getOrCreate()"
   ]
  },
  {
   "cell_type": "code",
   "execution_count": 3,
   "metadata": {},
   "outputs": [],
   "source": [
    "df = (\n",
    "    spark.readStream.format(\"iceberg\").option(\"stream-from-timestamp\", \"1705017600\")\n",
    "    # .option(\"stream-from-timestamp\", datetime.now().timestamp())\n",
    "    .load(\"dev.raw.flight_signals\")\n",
    ")"
   ]
  },
  {
   "cell_type": "code",
   "execution_count": null,
   "metadata": {},
   "outputs": [],
   "source": [
    "df.describe().show()"
   ]
  },
  {
   "cell_type": "code",
   "execution_count": 4,
   "metadata": {},
   "outputs": [],
   "source": [
    "df = df.where(F.col(\"icao24\").isNotNull() & F.col(\"lat\").isNotNull() & F.col(\"lon\").isNotNull())"
   ]
  },
  {
   "cell_type": "code",
   "execution_count": 5,
   "metadata": {},
   "outputs": [],
   "source": [
    "df = df.withColumn(\"created_ts\", F.current_timestamp()).withColumn(\n",
    "    \"updated_ts\", F.current_timestamp()\n",
    ")"
   ]
  },
  {
   "cell_type": "code",
   "execution_count": 6,
   "metadata": {},
   "outputs": [],
   "source": [
    "write_stream = (\n",
    "    df.writeStream.format(\"iceberg\")\n",
    "    .outputMode(\"append\")\n",
    "    .trigger(processingTime=\"10 seconds\")\n",
    "    .option(\n",
    "        \"checkpointLocation\",\n",
    "        f\"abfss://warehouse@{env.DATASTORAGE_AZURE_ACCOUNTNAME}.dfs.core.windows.net/_checkpoints/{env.KAFKA_TOPIC_T1_FLIGHT_SIGNAL}\",\n",
    "    )\n",
    "    .toTable(\"dev.tier1.flight_signals\")\n",
    ")"
   ]
  },
  {
   "cell_type": "code",
   "execution_count": 8,
   "metadata": {},
   "outputs": [
    {
     "data": {
      "text/plain": [
       "False"
      ]
     },
     "execution_count": 8,
     "metadata": {},
     "output_type": "execute_result"
    }
   ],
   "source": [
    "write_stream.stop()"
   ]
  }
 ],
 "metadata": {
  "kernelspec": {
   "display_name": ".venv",
   "language": "python",
   "name": "python3"
  },
  "language_info": {
   "codemirror_mode": {
    "name": "ipython",
    "version": 3
   },
   "file_extension": ".py",
   "mimetype": "text/x-python",
   "name": "python",
   "nbconvert_exporter": "python",
   "pygments_lexer": "ipython3",
   "version": "3.11.7"
  }
 },
 "nbformat": 4,
 "nbformat_minor": 2
}
