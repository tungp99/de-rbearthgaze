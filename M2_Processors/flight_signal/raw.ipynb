{
 "cells": [
  {
   "cell_type": "code",
   "execution_count": null,
   "metadata": {},
   "outputs": [],
   "source": [
    "from confluent_kafka.schema_registry import SchemaRegistryClient\n",
    "from libs.configuration import configure\n",
    "from pyspark.sql import SparkSession\n",
    "from pyspark.sql import functions as F\n",
    "from pyspark.sql import types as T\n",
    "from pyspark.sql.avro import functions as AF\n",
    "\n",
    "from shared.spark_config import create_spark_config\n",
    "\n",
    "env = configure()\n",
    "conf = create_spark_config(\"M2_Processors.flight_signal.raw\")"
   ]
  },
  {
   "cell_type": "code",
   "execution_count": null,
   "metadata": {},
   "outputs": [],
   "source": [
    "sr_client = SchemaRegistryClient({\"url\": env.KAFKA_SCHEMA_REGISTRY_URL})\n",
    "in_schema = sr_client.get_latest_version(f\"{env.KAFKA_TOPIC_RAW_FLIGHT_SIGNAL}-value\")\n",
    "in_schema.schema.schema_str"
   ]
  },
  {
   "cell_type": "code",
   "execution_count": null,
   "metadata": {},
   "outputs": [],
   "source": [
    "spark = SparkSession.builder.config(conf=conf).getOrCreate()"
   ]
  },
  {
   "cell_type": "code",
   "execution_count": null,
   "metadata": {},
   "outputs": [],
   "source": [
    "df = (\n",
    "    spark.readStream.format(\"kafka\")\n",
    "    .option(\"kafka.bootstrap.servers\", env.KAFKA_BOOTSTRAP_SERVERS)\n",
    "    .option(\"subscribe\", env.KAFKA_TOPIC_RAW_FLIGHT_SIGNAL)\n",
    "    .load()\n",
    ")"
   ]
  },
  {
   "cell_type": "code",
   "execution_count": null,
   "metadata": {},
   "outputs": [],
   "source": [
    "df = df.selectExpr(\"substring(value, 6) as value\")\n",
    "df = df.select(AF.from_avro(\"value\", in_schema.schema.schema_str).alias(\"d\")).select(\"d.*\")"
   ]
  },
  {
   "cell_type": "code",
   "execution_count": null,
   "metadata": {},
   "outputs": [],
   "source": [
    "df = df.withColumn(\"created_ts\", F.current_timestamp())"
   ]
  },
  {
   "cell_type": "code",
   "execution_count": null,
   "metadata": {},
   "outputs": [],
   "source": [
    "write_stream = (\n",
    "    df.writeStream.format(\"iceberg\")\n",
    "    .outputMode(\"append\")\n",
    "    .trigger(processingTime=\"10 seconds\")\n",
    "    .option(\n",
    "        \"checkpointLocation\",\n",
    "        f\"abfss://warehouse@{env.DATASTORAGE_AZURE_ACCOUNTNAME}.dfs.core.windows.net/_checkpoints/{env.KAFKA_TOPIC_RAW_FLIGHT_SIGNAL}\",\n",
    "    )\n",
    "    .toTable(\"dev.raw.flight_signals\")\n",
    ")"
   ]
  },
  {
   "cell_type": "code",
   "execution_count": null,
   "metadata": {},
   "outputs": [],
   "source": [
    "console_write_stream = df.writeStream.format(\"console\").start()"
   ]
  },
  {
   "cell_type": "code",
   "execution_count": null,
   "metadata": {},
   "outputs": [],
   "source": [
    "write_stream.stop()\n",
    "console_write_stream.stop()"
   ]
  }
 ],
 "metadata": {
  "kernelspec": {
   "display_name": ".venv",
   "language": "python",
   "name": "python3"
  },
  "language_info": {
   "codemirror_mode": {
    "name": "ipython",
    "version": 3
   },
   "file_extension": ".py",
   "mimetype": "text/x-python",
   "name": "python",
   "nbconvert_exporter": "python",
   "pygments_lexer": "ipython3",
   "version": "3.9.18"
  }
 },
 "nbformat": 4,
 "nbformat_minor": 2
}
