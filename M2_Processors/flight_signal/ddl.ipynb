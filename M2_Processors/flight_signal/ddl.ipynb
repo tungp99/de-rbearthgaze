{
 "cells": [
  {
   "cell_type": "code",
   "execution_count": null,
   "metadata": {},
   "outputs": [],
   "source": [
    "from pyspark.sql import SparkSession\n",
    "from shared.spark_config import create_spark_config\n",
    "\n",
    "from libs.configuration import configure\n",
    "\n",
    "env = configure()\n",
    "conf = create_spark_config(\"M2_Processors.flight_signal.ddl\")"
   ]
  },
  {
   "cell_type": "code",
   "execution_count": null,
   "metadata": {},
   "outputs": [],
   "source": [
    "spark = SparkSession.builder.config(conf=conf).getOrCreate()"
   ]
  },
  {
   "cell_type": "code",
   "execution_count": null,
   "metadata": {},
   "outputs": [],
   "source": [
    "spark.sql(\"USE dev\").show()"
   ]
  },
  {
   "cell_type": "code",
   "execution_count": 9,
   "metadata": {},
   "outputs": [
    {
     "name": "stdout",
     "output_type": "stream",
     "text": [
      "++\n",
      "||\n",
      "++\n",
      "++\n",
      "\n"
     ]
    }
   ],
   "source": [
    "spark.sql(\"DROP TABLE dev.raw.flight_signals PURGE\").show()"
   ]
  },
  {
   "cell_type": "code",
   "execution_count": 10,
   "metadata": {},
   "outputs": [
    {
     "name": "stdout",
     "output_type": "stream",
     "text": [
      "++\n",
      "||\n",
      "++\n",
      "++\n",
      "\n"
     ]
    }
   ],
   "source": [
    "spark.sql(\n",
    "    \"\"\"\n",
    "CREATE TABLE IF NOT EXISTS dev.raw.flight_signals (\n",
    "    created_ts timestamp,\n",
    "    time timestamp,\n",
    "    icao24 string,\n",
    "    lat double,\n",
    "    lon double,\n",
    "    velocity double,\n",
    "    heading double,\n",
    "    vertrate double,\n",
    "    callsign string,\n",
    "    onground boolean,\n",
    "    alert boolean,\n",
    "    spi boolean,\n",
    "    squawk string,\n",
    "    baroaltitude double,\n",
    "    geoaltitude double,\n",
    "    lastposupdate timestamp,\n",
    "    lastcontact timestamp\n",
    ")\n",
    "USING iceberg\n",
    "PARTITIONED BY (year(time))\n",
    "\"\"\"\n",
    ").show()"
   ]
  },
  {
   "cell_type": "code",
   "execution_count": 12,
   "metadata": {},
   "outputs": [
    {
     "name": "stdout",
     "output_type": "stream",
     "text": [
      "++\n",
      "||\n",
      "++\n",
      "++\n",
      "\n",
      "++\n",
      "||\n",
      "++\n",
      "++\n",
      "\n",
      "++\n",
      "||\n",
      "++\n",
      "++\n",
      "\n"
     ]
    }
   ],
   "source": [
    "spark.sql(\"ALTER TABLE dev.raw.flight_signals ADD PARTITION FIELD month(time)\").show()\n",
    "spark.sql(\"ALTER TABLE dev.raw.flight_signals ADD PARTITION FIELD day(time)\").show()\n",
    "spark.sql(\"ALTER TABLE dev.raw.flight_signals ADD PARTITION FIELD hour(time)\").show()"
   ]
  },
  {
   "cell_type": "code",
   "execution_count": 14,
   "metadata": {},
   "outputs": [
    {
     "name": "stdout",
     "output_type": "stream",
     "text": [
      "++\n",
      "||\n",
      "++\n",
      "++\n",
      "\n"
     ]
    }
   ],
   "source": [
    "spark.sql(\"DROP TABLE dev.tier1.flight_signals PURGE\").show()"
   ]
  },
  {
   "cell_type": "code",
   "execution_count": 16,
   "metadata": {},
   "outputs": [
    {
     "name": "stdout",
     "output_type": "stream",
     "text": [
      "++\n",
      "||\n",
      "++\n",
      "++\n",
      "\n"
     ]
    }
   ],
   "source": [
    "spark.sql(\"\"\"\n",
    "CREATE TABLE IF NOT EXISTS dev.tier1.flight_signals (\n",
    "    created_ts timestamp,\n",
    "    updated_ts timestamp,\n",
    "    time timestamp,\n",
    "    icao24 string,\n",
    "    lat double,\n",
    "    lon double,\n",
    "    velocity double,\n",
    "    heading double,\n",
    "    vertrate double,\n",
    "    callsign string,\n",
    "    onground boolean,\n",
    "    alert boolean,\n",
    "    spi boolean,\n",
    "    squawk string,\n",
    "    baroaltitude double,\n",
    "    geoaltitude double,\n",
    "    lastposupdate timestamp,\n",
    "    lastcontact timestamp\n",
    ")\n",
    "USING iceberg\n",
    "PARTITIONED BY (year(time))\n",
    "\"\"\").show()"
   ]
  },
  {
   "cell_type": "code",
   "execution_count": 17,
   "metadata": {},
   "outputs": [
    {
     "name": "stdout",
     "output_type": "stream",
     "text": [
      "++\n",
      "||\n",
      "++\n",
      "++\n",
      "\n",
      "++\n",
      "||\n",
      "++\n",
      "++\n",
      "\n",
      "++\n",
      "||\n",
      "++\n",
      "++\n",
      "\n"
     ]
    }
   ],
   "source": [
    "spark.sql(\"ALTER TABLE dev.tier1.flight_signals ADD PARTITION FIELD month(time)\").show()\n",
    "spark.sql(\"ALTER TABLE dev.tier1.flight_signals ADD PARTITION FIELD day(time)\").show()\n",
    "spark.sql(\"ALTER TABLE dev.tier1.flight_signals ADD PARTITION FIELD hour(time)\").show()"
   ]
  },
  {
   "cell_type": "code",
   "execution_count": null,
   "metadata": {},
   "outputs": [],
   "source": [
    "spark.stop()"
   ]
  }
 ],
 "metadata": {
  "kernelspec": {
   "display_name": ".venv",
   "language": "python",
   "name": "python3"
  },
  "language_info": {
   "codemirror_mode": {
    "name": "ipython",
    "version": 3
   },
   "file_extension": ".py",
   "mimetype": "text/x-python",
   "name": "python",
   "nbconvert_exporter": "python",
   "pygments_lexer": "ipython3",
   "version": "3.9.18"
  }
 },
 "nbformat": 4,
 "nbformat_minor": 2
}
