{
 "cells": [
  {
   "cell_type": "code",
   "execution_count": null,
   "metadata": {},
   "outputs": [],
   "source": [
    "import logging\n",
    "\n",
    "from libs.configuration import configure\n",
    "from pyspark.sql import SparkSession\n",
    "\n",
    "from shared.spark_config import create_spark_config\n",
    "\n",
    "__MODULE = \"M2_Processors.flight_signal.ddl\"\n",
    "logger = logging.getLogger(\"notebook\")\n",
    "env = configure()\n",
    "conf = create_spark_config().setAppName(__MODULE)"
   ]
  },
  {
   "cell_type": "code",
   "execution_count": null,
   "metadata": {},
   "outputs": [],
   "source": [
    "spark = SparkSession.builder.config(conf=conf).getOrCreate()"
   ]
  },
  {
   "cell_type": "code",
   "execution_count": null,
   "metadata": {},
   "outputs": [],
   "source": [
    "spark.sql(\"USE dev\").show()"
   ]
  },
  {
   "cell_type": "code",
   "execution_count": null,
   "metadata": {},
   "outputs": [],
   "source": [
    "spark.sql(\"DROP TABLE dev.raw.flight_signals\").show()"
   ]
  },
  {
   "cell_type": "code",
   "execution_count": null,
   "metadata": {},
   "outputs": [],
   "source": [
    "spark.sql(\n",
    "    \"\"\"\n",
    "CREATE TABLE IF NOT EXISTS dev.raw.flight_signals (\n",
    "    created_ts timestamp,\n",
    "    time timestamp,\n",
    "    icao24 string,\n",
    "    lat double,\n",
    "    lon double,\n",
    "    velocity double,\n",
    "    heading double,\n",
    "    vertrate double,\n",
    "    callsign string,\n",
    "    onground boolean,\n",
    "    alert boolean,\n",
    "    spi boolean,\n",
    "    squawk string,\n",
    "    baroaltitude double,\n",
    "    geoaltitude double,\n",
    "    lastposupdate timestamp,\n",
    "    lastcontact timestamp\n",
    ")\n",
    "USING iceberg\n",
    "PARTITIONED BY (hour(time))\n",
    "\"\"\"\n",
    ").show()"
   ]
  },
  {
   "cell_type": "code",
   "execution_count": null,
   "metadata": {},
   "outputs": [],
   "source": [
    "spark.sql(\"\"\"\n",
    "CREATE TABLE IF NOT EXISTS dev.tier1.flight_signals (\n",
    "    created_ts timestamp,\n",
    "    updated_ts timestamp,\n",
    "    time timestamp,\n",
    "    icao24 string,\n",
    "    lat double,\n",
    "    lon double,\n",
    "    velocity double,\n",
    "    heading double,\n",
    "    vertrate double,\n",
    "    callsign string,\n",
    "    onground boolean,\n",
    "    alert boolean,\n",
    "    spi boolean,\n",
    "    squawk string,\n",
    "    baroaltitude double,\n",
    "    geoaltitude double,\n",
    "    lastposupdate timestamp,\n",
    "    lastcontact timestamp\n",
    ")\n",
    "USING iceberg\n",
    "PARTITIONED BY (year(time), month(time), day(time), hour(time))\n",
    "\"\"\").show()"
   ]
  }
 ],
 "metadata": {
  "kernelspec": {
   "display_name": ".venv",
   "language": "python",
   "name": "python3"
  },
  "language_info": {
   "codemirror_mode": {
    "name": "ipython",
    "version": 3
   },
   "file_extension": ".py",
   "mimetype": "text/x-python",
   "name": "python",
   "nbconvert_exporter": "python",
   "pygments_lexer": "ipython3",
   "version": "3.9.18"
  }
 },
 "nbformat": 4,
 "nbformat_minor": 2
}
