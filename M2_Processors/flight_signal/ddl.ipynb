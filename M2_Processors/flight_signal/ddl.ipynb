{
 "cells": [
  {
   "cell_type": "code",
   "execution_count": null,
   "metadata": {},
   "outputs": [],
   "source": [
    "import logging\n",
    "\n",
    "from libs.configuration import configure\n",
    "from pyspark.sql import SparkSession\n",
    "\n",
    "from shared.spark_config import create_spark_config\n",
    "\n",
    "__MODULE = \"M2_Processors.flight_signal.ddl\"\n",
    "logger = logging.getLogger(\"notebook\")\n",
    "env = configure()\n",
    "conf = create_spark_config().setAppName(__MODULE)"
   ]
  },
  {
   "cell_type": "code",
   "execution_count": null,
   "metadata": {},
   "outputs": [],
   "source": [
    "spark = SparkSession.builder.config(conf=conf).getOrCreate()"
   ]
  },
  {
   "cell_type": "code",
   "execution_count": null,
   "metadata": {},
   "outputs": [],
   "source": [
    "spark.sql(\"USE dev\").show()"
   ]
  },
  {
   "cell_type": "code",
   "execution_count": null,
   "metadata": {},
   "outputs": [],
   "source": [
    "spark.sql(\"DROP TABLE dev.raw.airports\").show()"
   ]
  },
  {
   "cell_type": "code",
   "execution_count": null,
   "metadata": {},
   "outputs": [],
   "source": [
    "spark.sql(\"\"\"\n",
    "CREATE TABLE IF NOT EXISTS dev.raw.airports (\n",
    "    created_ts timestamp,\n",
    "    updated_ts timestamp,\n",
    "    icao string COMMENT 'ICAO 4-letter DOC7910 Location Indicator or (if none) an internal Pseudo-ICAO Identifier [1] (28,133 entries)'\n",
    "    iata string COMMENT 'IATA 3-letter Location Code (7,588 entries) or an empty string [2]'\n",
    "    name string COMMENT 'Official name (latin script)'\n",
    "    city string COMMENT 'City in latin script, ideally using the local language'\n",
    "    subd string COMMENT 'Subdivision (e.g. state, province, region, etc.), ideally using the local-language or English names of ISO 3166-2'\n",
    "    country string COMMENT 'ISO 3166-1 alpha-2 country code (plus XK for Kosovo)'\n",
    "    elevation string COMMENT 'MSL elevation (the highest point of the landing area) in feet; it is often wrong'\n",
    "    lat float COMMENT 'Latitude (decimal)'\n",
    "    lon float COMMENT 'Longitude (decimal)'\n",
    "    tz string COMMENT 'Timezone expressed as a tz database name (IANA-compliant) or an empty string for Antarctica'\n",
    "    lid string COMMENT 'U.S. FAA Location Identifier (12,567 entries), or an empty string'\n",
    ")\n",
    "USING iceberg\n",
    "\"\"\").show()"
   ]
  },
  {
   "cell_type": "code",
   "execution_count": null,
   "metadata": {},
   "outputs": [],
   "source": [
    "spark.sql(\"\"\"\n",
    "CREATE TABLE IF NOT EXISTS dev.tier1.airports (\n",
    "    created_ts timestamp,\n",
    "    updated_ts timestamp,\n",
    "    icao string COMMENT 'ICAO 4-letter DOC7910 Location Indicator or (if none) an internal Pseudo-ICAO Identifier [1] (28,133 entries)'\n",
    "    iata string COMMENT 'IATA 3-letter Location Code (7,588 entries) or an empty string [2]'\n",
    "    name string COMMENT 'Official name (latin script)'\n",
    "    city string COMMENT 'City in latin script, ideally using the local language'\n",
    "    subd string COMMENT 'Subdivision (e.g. state, province, region, etc.), ideally using the local-language or English names of ISO 3166-2'\n",
    "    country string COMMENT 'ISO 3166-1 alpha-2 country code (plus XK for Kosovo)'\n",
    "    elevation string COMMENT 'MSL elevation (the highest point of the landing area) in feet; it is often wrong'\n",
    "    lat float COMMENT 'Latitude (decimal)'\n",
    "    lon float COMMENT 'Longitude (decimal)'\n",
    "    tz string COMMENT 'Timezone expressed as a tz database name (IANA-compliant) or an empty string for Antarctica'\n",
    "    lid string COMMENT 'U.S. FAA Location Identifier (12,567 entries), or an empty string'\n",
    ")\n",
    "USING iceberg\n",
    "\"\"\").show()"
   ]
  },
  {
   "cell_type": "code",
   "execution_count": null,
   "metadata": {},
   "outputs": [],
   "source": [
    "spark.sql(\"\"\"\n",
    "CREATE TABLE IF NOT EXISTS dev.tier2.airports (\n",
    "    created_ts timestamp,\n",
    "    updated_ts timestamp,\n",
    "    icao string COMMENT 'ICAO 4-letter DOC7910 Location Indicator or (if none) an internal Pseudo-ICAO Identifier [1] (28,133 entries)'\n",
    "    iata string COMMENT 'IATA 3-letter Location Code (7,588 entries) or an empty string [2]'\n",
    "    name string COMMENT 'Official name (latin script)'\n",
    "    city string COMMENT 'City in latin script, ideally using the local language'\n",
    "    subd string COMMENT 'Subdivision (e.g. state, province, region, etc.), ideally using the local-language or English names of ISO 3166-2'\n",
    "    country string COMMENT 'ISO 3166-1 alpha-2 country code (plus XK for Kosovo)'\n",
    "    elevation string COMMENT 'MSL elevation (the highest point of the landing area) in feet; it is often wrong'\n",
    "    lat float COMMENT 'Latitude (decimal)'\n",
    "    lon float COMMENT 'Longitude (decimal)'\n",
    "    tz string COMMENT 'Timezone expressed as a tz database name (IANA-compliant) or an empty string for Antarctica'\n",
    "    lid string COMMENT 'U.S. FAA Location Identifier (12,567 entries), or an empty string'\n",
    ")\n",
    "USING iceberg\n",
    "PARTITIONED BY (country)\n",
    "\"\"\").show()"
   ]
  }
 ],
 "metadata": {
  "kernelspec": {
   "display_name": ".venv",
   "language": "python",
   "name": "python3"
  },
  "language_info": {
   "codemirror_mode": {
    "name": "ipython",
    "version": 3
   },
   "file_extension": ".py",
   "mimetype": "text/x-python",
   "name": "python",
   "nbconvert_exporter": "python",
   "pygments_lexer": "ipython3",
   "version": "3.9.18"
  }
 },
 "nbformat": 4,
 "nbformat_minor": 2
}
