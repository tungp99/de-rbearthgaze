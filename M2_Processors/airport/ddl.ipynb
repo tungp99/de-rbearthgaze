{
 "cells": [
  {
   "cell_type": "code",
   "execution_count": 2,
   "metadata": {},
   "outputs": [],
   "source": [
    "from pyspark.sql import SparkSession\n",
    "from shared.spark_config import create_spark_config\n",
    "\n",
    "from libs.configuration import configure\n",
    "\n",
    "env = configure()\n",
    "conf = create_spark_config(\"M2_Processors.airport.ddl\")"
   ]
  },
  {
   "cell_type": "code",
   "execution_count": 3,
   "metadata": {},
   "outputs": [],
   "source": [
    "spark = SparkSession.builder.config(conf=conf).getOrCreate()"
   ]
  },
  {
   "cell_type": "code",
   "execution_count": null,
   "metadata": {},
   "outputs": [],
   "source": [
    "spark.sql(\"USE dev\").show()"
   ]
  },
  {
   "cell_type": "code",
   "execution_count": 7,
   "metadata": {},
   "outputs": [
    {
     "name": "stdout",
     "output_type": "stream",
     "text": [
      "++\n",
      "||\n",
      "++\n",
      "++\n",
      "\n"
     ]
    }
   ],
   "source": [
    "spark.sql(\"DROP TABLE dev.raw.airports PURGE\").show()"
   ]
  },
  {
   "cell_type": "code",
   "execution_count": 8,
   "metadata": {},
   "outputs": [
    {
     "name": "stdout",
     "output_type": "stream",
     "text": [
      "++\n",
      "||\n",
      "++\n",
      "++\n",
      "\n"
     ]
    }
   ],
   "source": [
    "spark.sql(\"\"\"\n",
    "CREATE TABLE IF NOT EXISTS dev.raw.airports (\n",
    "    created_ts timestamp,\n",
    "    icao string COMMENT 'ICAO 4-letter DOC7910 Location Indicator or (if none) an internal Pseudo-ICAO Identifier [1] (28,133 entries)',\n",
    "    iata string COMMENT 'IATA 3-letter Location Code (7,588 entries) or an empty string [2]',\n",
    "    name string COMMENT 'Official name (latin script)',\n",
    "    city string COMMENT 'City in latin script, ideally using the local language',\n",
    "    subd string COMMENT 'Subdivision (e.g. state, province, region, etc.), ideally using the local-language or English names of ISO 3166-2',\n",
    "    country string COMMENT 'ISO 3166-1 alpha-2 country code (plus XK for Kosovo)',\n",
    "    elevation float COMMENT 'MSL elevation (the highest point of the landing area) in feet; it is often wrong',\n",
    "    lat float COMMENT 'Latitude (decimal)',\n",
    "    lon float COMMENT 'Longitude (decimal)',\n",
    "    tz string COMMENT 'Timezone expressed as a tz database name (IANA-compliant) or an empty string for Antarctica',\n",
    "    lid string COMMENT 'U.S. FAA Location Identifier (12,567 entries), or an empty string'\n",
    ")\n",
    "USING iceberg\n",
    "\"\"\").show()"
   ]
  },
  {
   "cell_type": "code",
   "execution_count": 4,
   "metadata": {},
   "outputs": [
    {
     "name": "stdout",
     "output_type": "stream",
     "text": [
      "++\n",
      "||\n",
      "++\n",
      "++\n",
      "\n"
     ]
    }
   ],
   "source": [
    "spark.sql(\"DROP TABLE dev.tier1.airports PURGE\").show()"
   ]
  },
  {
   "cell_type": "code",
   "execution_count": 6,
   "metadata": {},
   "outputs": [
    {
     "name": "stdout",
     "output_type": "stream",
     "text": [
      "++\n",
      "||\n",
      "++\n",
      "++\n",
      "\n"
     ]
    }
   ],
   "source": [
    "spark.sql(\"\"\"\n",
    "CREATE TABLE IF NOT EXISTS dev.tier1.airports (\n",
    "    created_ts timestamp,\n",
    "    updated_ts timestamp,\n",
    "    icao string COMMENT 'ICAO 4-letter DOC7910 Location Indicator or (if none) an internal Pseudo-ICAO Identifier [1] (28,133 entries)',\n",
    "    iata string COMMENT 'IATA 3-letter Location Code (7,588 entries) or an empty string [2]',\n",
    "    name string COMMENT 'Official name (latin script)',\n",
    "    city string COMMENT 'City in latin script, ideally using the local language',\n",
    "    subd string COMMENT 'Subdivision (e.g. state, province, region, etc.), ideally using the local-language or English names of ISO 3166-2',\n",
    "    country string COMMENT 'ISO 3166-1 alpha-2 country code (plus XK for Kosovo)',\n",
    "    elevation float COMMENT 'MSL elevation (the highest point of the landing area) in feet; it is often wrong',\n",
    "    lat float COMMENT 'Latitude (decimal)',\n",
    "    lon float COMMENT 'Longitude (decimal)',\n",
    "    tz string COMMENT 'Timezone expressed as a tz database name (IANA-compliant) or an empty string for Antarctica',\n",
    "    lid string COMMENT 'U.S. FAA Location Identifier (12,567 entries), or an empty string'\n",
    ")\n",
    "USING iceberg\n",
    "\"\"\").show()"
   ]
  },
  {
   "cell_type": "code",
   "execution_count": null,
   "metadata": {},
   "outputs": [],
   "source": [
    "spark.sql(\"\"\"\n",
    "CREATE TABLE IF NOT EXISTS dev.tier2.airports (\n",
    "    created_ts timestamp,\n",
    "    updated_ts timestamp,\n",
    "    icao string COMMENT 'ICAO 4-letter DOC7910 Location Indicator or (if none) an internal Pseudo-ICAO Identifier [1] (28,133 entries)',\n",
    "    iata string COMMENT 'IATA 3-letter Location Code (7,588 entries) or an empty string [2]',\n",
    "    name string COMMENT 'Official name (latin script)',\n",
    "    city string COMMENT 'City in latin script, ideally using the local language',\n",
    "    subd string COMMENT 'Subdivision (e.g. state, province, region, etc.), ideally using the local-language or English names of ISO 3166-2',\n",
    "    country string COMMENT 'ISO 3166-1 alpha-2 country code (plus XK for Kosovo)',\n",
    "    elevation float COMMENT 'MSL elevation (the highest point of the landing area) in feet; it is often wrong',\n",
    "    lat float COMMENT 'Latitude (decimal)',\n",
    "    lon float COMMENT 'Longitude (decimal)',\n",
    "    tz string COMMENT 'Timezone expressed as a tz database name (IANA-compliant) or an empty string for Antarctica',\n",
    "    lid string COMMENT 'U.S. FAA Location Identifier (12,567 entries), or an empty string'\n",
    ")\n",
    "USING iceberg\n",
    "PARTITIONED BY (country)\n",
    "\"\"\").show()"
   ]
  }
 ],
 "metadata": {
  "kernelspec": {
   "display_name": ".venv",
   "language": "python",
   "name": "python3"
  },
  "language_info": {
   "codemirror_mode": {
    "name": "ipython",
    "version": 3
   },
   "file_extension": ".py",
   "mimetype": "text/x-python",
   "name": "python",
   "nbconvert_exporter": "python",
   "pygments_lexer": "ipython3",
   "version": "3.11.7"
  }
 },
 "nbformat": 4,
 "nbformat_minor": 2
}
