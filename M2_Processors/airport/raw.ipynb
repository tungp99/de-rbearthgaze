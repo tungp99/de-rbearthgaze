{
 "cells": [
  {
   "cell_type": "code",
   "execution_count": 1,
   "metadata": {},
   "outputs": [
    {
     "name": "stdout",
     "output_type": "stream",
     "text": [
      "{'DATASTORAGE_AZURE_ACCESSKEY': 'dYj3PCGRyYHYR9pRo2xPa9BQ7t/sUonACJ29wcPdpa+1IC70rMbZmpfpHJJWJtk7OeASL+eQDIWq+AStGg3CCA==',\n",
      " 'DATASTORAGE_AZURE_ACCOUNTNAME': 'icebergpe6t5cug7x9f45p8',\n",
      " 'KAFKA_BOOTSTRAP_SERVERS': 'localhost:9092',\n",
      " 'KAFKA_SCHEMA_REGISTRY_URL': 'http://localhost:8081',\n",
      " 'KAFKA_SESSION_TIMEOUT_MS': '45000',\n",
      " 'KAFKA_TOPIC_RAW_AIRCRAFT': 'raw.aircraft',\n",
      " 'KAFKA_TOPIC_RAW_AIRLINE': 'raw.airline',\n",
      " 'KAFKA_TOPIC_RAW_AIRPORT': 'raw.airport',\n",
      " 'KAFKA_TOPIC_RAW_FLIGHT_SIGNAL': 'raw.flight_signal',\n",
      " 'KAFKA_TOPIC_T1_AIRCRAFT': 't1.aircraft',\n",
      " 'KAFKA_TOPIC_T1_AIRLINE': 't1.airline',\n",
      " 'KAFKA_TOPIC_T1_AIRPORT': 't1.airport',\n",
      " 'KAFKA_TOPIC_T1_FLIGHT_SIGNAL': 't1.flight_signal',\n",
      " 'KAFKA_TOPIC_T2_AIRCRAFT': 't2.aircraft',\n",
      " 'KAFKA_TOPIC_T2_AIRLINE': 't2.airline',\n",
      " 'KAFKA_TOPIC_T2_AIRPORT': 't2.airport',\n",
      " 'KAFKA_TOPIC_T2_FLIGHT_SIGNAL': 't2.flight_signal',\n",
      " 'POSTGRE_JDBC_URL': 'jdbc:postgresql://localhost:5432/iceberg-catalog',\n",
      " 'POSTGRE_PASSWORD': 'grebeci',\n",
      " 'POSTGRE_USER': 'iceberg',\n",
      " 'SPARK_MASTER_URL': 'local[1]',\n",
      " 'file': '../../.env.development.local',\n",
      " 'initialised': True}\n"
     ]
    }
   ],
   "source": [
    "from pyspark.sql import SparkSession\n",
    "from pyspark.sql import functions as F\n",
    "from pyspark.sql import types as T\n",
    "from shared.spark_config import create_spark_config\n",
    "\n",
    "from libs.configuration import configure\n",
    "\n",
    "env = configure()\n",
    "conf = create_spark_config(\"M2_Processors.airport.raw\")"
   ]
  },
  {
   "cell_type": "code",
   "execution_count": 2,
   "metadata": {},
   "outputs": [],
   "source": [
    "spark = SparkSession.builder.config(conf=conf).getOrCreate()"
   ]
  },
  {
   "cell_type": "code",
   "execution_count": 3,
   "metadata": {},
   "outputs": [
    {
     "name": "stdout",
     "output_type": "stream",
     "text": [
      "+----+----+--------------------+------------+--------------+-------+---------+---------+-----------+-------------------+----+\n",
      "|icao|iata|                name|        city|          subd|country|elevation|      lat|        lon|                 tz| lid|\n",
      "+----+----+--------------------+------------+--------------+-------+---------+---------+-----------+-------------------+----+\n",
      "|00AA|NULL|Aero B Ranch Airport|       Leoti|        Kansas|     US|   3435.0| 38.70402| -101.47391|    America/Chicago|00AA|\n",
      "|00AK|NULL|        Lowell Field|Anchor Point|        Alaska|     US|    252.0| 59.94889| -151.69221|  America/Anchorage|00AK|\n",
      "|00AL|NULL|        Epps Airpark|     Harvest|       Alabama|     US|    820.0| 34.86481|  -86.77028|    America/Chicago|00AL|\n",
      "|00AR|NULL|      Arland Airport|  Bennington|        Kansas|     US|   1352.0| 38.96965| -97.601555|    America/Chicago|00AR|\n",
      "|00AS|NULL|      Fulton Airport|        Alex|      Oklahoma|     US|   1100.0|34.942802| -97.818016|    America/Chicago|00AS|\n",
      "|00CA|NULL|Goldstone /Gts/ A...|     Barstow|    California|     US|   3038.0|35.354973| -116.88521|America/Los_Angeles|00CA|\n",
      "|00CL|NULL| Williams Ag Airport|       Biggs|    California|     US|     87.0| 39.42719| -121.76343|America/Los_Angeles|00CL|\n",
      "|00FA|NULL| Grass Patch Airport|    Bushnell|       Florida|     US|     53.0|28.645548|  -82.21897|   America/New_York|00FA|\n",
      "|00FL|NULL|   River Oak Airport|  Okeechobee|       Florida|     US|     35.0|27.230879|  -80.96923|   America/New_York|00FL|\n",
      "|00GA|NULL|    Lt World Airport|    Lithonia|       Georgia|     US|    700.0|  33.7675|  -84.06834|   America/New_York|00GA|\n",
      "|00ID|NULL|Delta Shores Airport|  Clark Fork|         Idaho|     US|   2064.0| 48.14528| -116.21445|America/Los_Angeles|00ID|\n",
      "|00IG|NULL|       Goltl Airport|    Mcdonald|        Kansas|     US|   3359.0| 39.72403|-101.395996|    America/Chicago|00IG|\n",
      "|00IL|NULL|      Hammer Airport|        Polo|      Illinois|     US|    840.0|41.978363|  -89.56039|    America/Chicago|00IL|\n",
      "|00IS|NULL|Hayenga's Cant Fi...|       Kings|      Illinois|     US|    820.0|40.025597|  -89.12286|    America/Chicago|00IS|\n",
      "|00KS|NULL| Hayden Farm Airport|     Gardner|        Kansas|     US|   1100.0|38.727787|  -94.93052|    America/Chicago|00KS|\n",
      "|00KY|NULL|Robbins Roost Air...|    Stanford|      Kentucky|     US|   1265.0|37.409443|  -84.61972|   America/New_York|00KY|\n",
      "|00LS|NULL|     Lejeune Airport|   Esterwood|     Louisiana|     US|     12.0|30.136278|  -92.42936|    America/Chicago|00LS|\n",
      "|00MD|NULL|        Slater Field|Federalsburg|      Maryland|     US|     45.0|38.757057|  -75.75382|   America/New_York|00MD|\n",
      "|00MN|NULL|Battle Lake Munic...| Battle Lake|     Minnesota|     US|   1365.0| 46.29996| -95.700325|    America/Chicago|00MN|\n",
      "|00NC|NULL|North Raleigh Air...|   Louisburg|North Carolina|     US|    348.0| 36.08515|  -78.37138|   America/New_York|00NC|\n",
      "+----+----+--------------------+------------+--------------+-------+---------+---------+-----------+-------------------+----+\n",
      "only showing top 20 rows\n",
      "\n"
     ]
    }
   ],
   "source": [
    "schema = T.StructType(\n",
    "    [\n",
    "        T.StructField(\"icao\", T.StringType(), True),\n",
    "        T.StructField(\"iata\", T.StringType(), True),\n",
    "        T.StructField(\"name\", T.StringType(), True),\n",
    "        T.StructField(\"city\", T.StringType(), True),\n",
    "        T.StructField(\"subd\", T.StringType(), True),\n",
    "        T.StructField(\"country\", T.StringType(), True),\n",
    "        T.StructField(\"elevation\", T.FloatType(), True),\n",
    "        T.StructField(\"lat\", T.FloatType(), True),\n",
    "        T.StructField(\"lon\", T.FloatType(), True),\n",
    "        T.StructField(\"tz\", T.StringType(), True),\n",
    "        T.StructField(\"lid\", T.StringType(), True),\n",
    "    ]\n",
    ")\n",
    "df = spark.read.csv(\n",
    "    f\"abfss://sampledata@{env.DATASTORAGE_AZURE_ACCOUNTNAME}.dfs.core.windows.net/airports.csv\",\n",
    "    schema,\n",
    "    header=True,\n",
    "    quote='\"',\n",
    ")\n",
    "df.show()"
   ]
  },
  {
   "cell_type": "code",
   "execution_count": 4,
   "metadata": {},
   "outputs": [
    {
     "name": "stdout",
     "output_type": "stream",
     "text": [
      "+----+----+--------------------+------------+--------------+-------+---------+---------+-----------+-------------------+----+--------------------+--------------------+\n",
      "|icao|iata|                name|        city|          subd|country|elevation|      lat|        lon|                 tz| lid|          created_ts|          updated_ts|\n",
      "+----+----+--------------------+------------+--------------+-------+---------+---------+-----------+-------------------+----+--------------------+--------------------+\n",
      "|00AA|NULL|Aero B Ranch Airport|       Leoti|        Kansas|     US|   3435.0| 38.70402| -101.47391|    America/Chicago|00AA|2024-01-20 21:20:...|2024-01-20 21:20:...|\n",
      "|00AK|NULL|        Lowell Field|Anchor Point|        Alaska|     US|    252.0| 59.94889| -151.69221|  America/Anchorage|00AK|2024-01-20 21:20:...|2024-01-20 21:20:...|\n",
      "|00AL|NULL|        Epps Airpark|     Harvest|       Alabama|     US|    820.0| 34.86481|  -86.77028|    America/Chicago|00AL|2024-01-20 21:20:...|2024-01-20 21:20:...|\n",
      "|00AR|NULL|      Arland Airport|  Bennington|        Kansas|     US|   1352.0| 38.96965| -97.601555|    America/Chicago|00AR|2024-01-20 21:20:...|2024-01-20 21:20:...|\n",
      "|00AS|NULL|      Fulton Airport|        Alex|      Oklahoma|     US|   1100.0|34.942802| -97.818016|    America/Chicago|00AS|2024-01-20 21:20:...|2024-01-20 21:20:...|\n",
      "|00CA|NULL|Goldstone /Gts/ A...|     Barstow|    California|     US|   3038.0|35.354973| -116.88521|America/Los_Angeles|00CA|2024-01-20 21:20:...|2024-01-20 21:20:...|\n",
      "|00CL|NULL| Williams Ag Airport|       Biggs|    California|     US|     87.0| 39.42719| -121.76343|America/Los_Angeles|00CL|2024-01-20 21:20:...|2024-01-20 21:20:...|\n",
      "|00FA|NULL| Grass Patch Airport|    Bushnell|       Florida|     US|     53.0|28.645548|  -82.21897|   America/New_York|00FA|2024-01-20 21:20:...|2024-01-20 21:20:...|\n",
      "|00FL|NULL|   River Oak Airport|  Okeechobee|       Florida|     US|     35.0|27.230879|  -80.96923|   America/New_York|00FL|2024-01-20 21:20:...|2024-01-20 21:20:...|\n",
      "|00GA|NULL|    Lt World Airport|    Lithonia|       Georgia|     US|    700.0|  33.7675|  -84.06834|   America/New_York|00GA|2024-01-20 21:20:...|2024-01-20 21:20:...|\n",
      "|00ID|NULL|Delta Shores Airport|  Clark Fork|         Idaho|     US|   2064.0| 48.14528| -116.21445|America/Los_Angeles|00ID|2024-01-20 21:20:...|2024-01-20 21:20:...|\n",
      "|00IG|NULL|       Goltl Airport|    Mcdonald|        Kansas|     US|   3359.0| 39.72403|-101.395996|    America/Chicago|00IG|2024-01-20 21:20:...|2024-01-20 21:20:...|\n",
      "|00IL|NULL|      Hammer Airport|        Polo|      Illinois|     US|    840.0|41.978363|  -89.56039|    America/Chicago|00IL|2024-01-20 21:20:...|2024-01-20 21:20:...|\n",
      "|00IS|NULL|Hayenga's Cant Fi...|       Kings|      Illinois|     US|    820.0|40.025597|  -89.12286|    America/Chicago|00IS|2024-01-20 21:20:...|2024-01-20 21:20:...|\n",
      "|00KS|NULL| Hayden Farm Airport|     Gardner|        Kansas|     US|   1100.0|38.727787|  -94.93052|    America/Chicago|00KS|2024-01-20 21:20:...|2024-01-20 21:20:...|\n",
      "|00KY|NULL|Robbins Roost Air...|    Stanford|      Kentucky|     US|   1265.0|37.409443|  -84.61972|   America/New_York|00KY|2024-01-20 21:20:...|2024-01-20 21:20:...|\n",
      "|00LS|NULL|     Lejeune Airport|   Esterwood|     Louisiana|     US|     12.0|30.136278|  -92.42936|    America/Chicago|00LS|2024-01-20 21:20:...|2024-01-20 21:20:...|\n",
      "|00MD|NULL|        Slater Field|Federalsburg|      Maryland|     US|     45.0|38.757057|  -75.75382|   America/New_York|00MD|2024-01-20 21:20:...|2024-01-20 21:20:...|\n",
      "|00MN|NULL|Battle Lake Munic...| Battle Lake|     Minnesota|     US|   1365.0| 46.29996| -95.700325|    America/Chicago|00MN|2024-01-20 21:20:...|2024-01-20 21:20:...|\n",
      "|00NC|NULL|North Raleigh Air...|   Louisburg|North Carolina|     US|    348.0| 36.08515|  -78.37138|   America/New_York|00NC|2024-01-20 21:20:...|2024-01-20 21:20:...|\n",
      "+----+----+--------------------+------------+--------------+-------+---------+---------+-----------+-------------------+----+--------------------+--------------------+\n",
      "only showing top 20 rows\n",
      "\n"
     ]
    }
   ],
   "source": [
    "df = df.withColumn(\"created_ts\", F.current_timestamp())\n",
    "df.show()"
   ]
  },
  {
   "cell_type": "code",
   "execution_count": 7,
   "metadata": {},
   "outputs": [],
   "source": [
    "df.writeTo(\"dev.raw.airports\").append()"
   ]
  }
 ],
 "metadata": {
  "kernelspec": {
   "display_name": ".venv",
   "language": "python",
   "name": "python3"
  },
  "language_info": {
   "codemirror_mode": {
    "name": "ipython",
    "version": 3
   },
   "file_extension": ".py",
   "mimetype": "text/x-python",
   "name": "python",
   "nbconvert_exporter": "python",
   "pygments_lexer": "ipython3",
   "version": "3.11.7"
  }
 },
 "nbformat": 4,
 "nbformat_minor": 2
}
