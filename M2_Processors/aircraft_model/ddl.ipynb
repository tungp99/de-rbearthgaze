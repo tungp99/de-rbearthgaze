{
 "cells": [
  {
   "cell_type": "code",
   "execution_count": null,
   "metadata": {},
   "outputs": [],
   "source": [
    "from pyspark.sql import SparkSession\n",
    "from shared.spark_config import create_spark_config\n",
    "\n",
    "from libs.configuration import configure\n",
    "\n",
    "env = configure()\n",
    "conf = create_spark_config(\"M2_Processors.aircraft_model.ddl\")"
   ]
  },
  {
   "cell_type": "code",
   "execution_count": null,
   "metadata": {},
   "outputs": [],
   "source": [
    "spark = SparkSession.builder.config(conf=conf).getOrCreate()"
   ]
  },
  {
   "cell_type": "code",
   "execution_count": null,
   "metadata": {},
   "outputs": [],
   "source": [
    "spark.sql(\"USE dev\").show()"
   ]
  },
  {
   "cell_type": "code",
   "execution_count": null,
   "metadata": {},
   "outputs": [],
   "source": [
    "spark.sql(\"DROP TABLE dev.raw.aircraft_models\").show()"
   ]
  },
  {
   "cell_type": "code",
   "execution_count": null,
   "metadata": {},
   "outputs": [],
   "source": [
    "spark.sql(\"\"\"\n",
    "CREATE TABLE IF NOT EXISTS dev.raw.aircraft_models (\n",
    "    created_ts timestamp,\n",
    "    icao string COMMENT 'ICAO 4 letters',\n",
    "    classification string COMMENT '',\n",
    "    category string COMMENT '',\n",
    "    manufacturers array<string> COMMENT '',\n",
    "    wing_span string COMMENT 'float: Wing Span (m)',\n",
    "    length string COMMENT 'float: Length (m)',\n",
    "    height string COMMENT 'float: Height (m)',\n",
    "    mtow string COMMENT 'float: MTOW (t)',\n",
    "    fuel_capacity string COMMENT 'float: Fuel Capacity (ltr)',\n",
    "    maximum_range string COMMENT 'int: Maximum Range (Nm)',\n",
    "    persons_on_board string COMMENT 'int: Persons On Board',\n",
    "    take_off_distance string COMMENT 'float: Take Off Distance (m)',\n",
    "    landing_distance string COMMENT 'float: Landing Distance (m)',\n",
    "    absolute_ceiling string COMMENT 'float: Absolute Ceiling (x100ft)',\n",
    "    optimum_ceiling string COMMENT 'float: Optimum Ceiling (x100ft)',\n",
    "    maximum_speed string COMMENT '?: Maximum Speed (kts/M)',\n",
    "    optimum_speed string COMMENT '?: Optimum Speed (kts/M)',\n",
    "    maximum_climb_rate string COMMENT 'float: Maximum Climb Rate (ft/min)'\n",
    ")\n",
    "USING iceberg\n",
    "\"\"\").show()"
   ]
  },
  {
   "cell_type": "code",
   "execution_count": null,
   "metadata": {},
   "outputs": [],
   "source": [
    "spark.sql(\"DROP TABLE dev.tier1.aircraft_models\").show()"
   ]
  },
  {
   "cell_type": "code",
   "execution_count": null,
   "metadata": {},
   "outputs": [],
   "source": [
    "spark.sql(\"\"\"\n",
    "CREATE TABLE IF NOT EXISTS dev.tier1.aircraft_models (\n",
    "    created_ts timestamp,\n",
    "    updated_ts timestamp,\n",
    "    icao string COMMENT 'ICAO 4 letters',\n",
    "    classification string COMMENT '',\n",
    "    category string COMMENT '',\n",
    "    manufacturers array<string> COMMENT '',\n",
    "    wing_span float COMMENT 'Wing Span (m)',\n",
    "    length float COMMENT 'Length (m)',\n",
    "    height float COMMENT 'Height (m)',\n",
    "    mtow float COMMENT 'MTOW (t)',\n",
    "    fuel_capacity float COMMENT 'Fuel Capacity (ltr)',\n",
    "    maximum_range int COMMENT 'Maximum Range (Nm)',\n",
    "    capacity_lower_cap int COMMENT 'Persons on Board lower cap',\n",
    "    capacity_upper_cap int COMMENT 'Persons on Board upper cap',\n",
    "    take_off_distance float COMMENT 'Take Off Distance (m)',\n",
    "    landing_distance float COMMENT 'Landing Distance (m)',\n",
    "    absolute_ceiling float COMMENT 'Absolute Ceiling (x100ft)',\n",
    "    optimum_ceiling float COMMENT 'Optimum Ceiling (x100ft)',\n",
    "    maximum_climb_rate float COMMENT 'Maximum Climb Rate (ft/min)'\n",
    ")\n",
    "USING iceberg\n",
    "\"\"\").show()"
   ]
  }
 ],
 "metadata": {
  "kernelspec": {
   "display_name": ".venv",
   "language": "python",
   "name": "python3"
  },
  "language_info": {
   "codemirror_mode": {
    "name": "ipython",
    "version": 3
   },
   "file_extension": ".py",
   "mimetype": "text/x-python",
   "name": "python",
   "nbconvert_exporter": "python",
   "pygments_lexer": "ipython3",
   "version": "3.9.18"
  }
 },
 "nbformat": 4,
 "nbformat_minor": 2
}
