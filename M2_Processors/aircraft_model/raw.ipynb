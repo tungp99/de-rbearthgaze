{
 "cells": [
  {
   "cell_type": "code",
   "execution_count": null,
   "metadata": {},
   "outputs": [],
   "source": [
    "from confluent_kafka.schema_registry import SchemaRegistryClient\n",
    "from libs.configuration import configure\n",
    "from pyspark.sql import SparkSession\n",
    "from pyspark.sql import functions as F\n",
    "from pyspark.sql.avro import functions as AF\n",
    "\n",
    "from shared.spark_config import create_spark_config\n",
    "\n",
    "env = configure()\n",
    "conf = create_spark_config(\"M2_Processors.aircraft_model.raw\")"
   ]
  },
  {
   "cell_type": "code",
   "execution_count": null,
   "metadata": {},
   "outputs": [],
   "source": [
    "spark = SparkSession.builder.config(conf=conf).getOrCreate()"
   ]
  },
  {
   "cell_type": "code",
   "execution_count": null,
   "metadata": {},
   "outputs": [],
   "source": [
    "sr_client = SchemaRegistryClient({\"url\": env.KAFKA_SCHEMA_REGISTRY_URL})\n",
    "in_schema = sr_client.get_latest_version(f\"{env.KAFKA_TOPIC_RAW_AIRCRAFT}-value\")\n",
    "in_schema.schema.schema_str"
   ]
  },
  {
   "cell_type": "code",
   "execution_count": null,
   "metadata": {},
   "outputs": [],
   "source": [
    "df = (\n",
    "    spark.read.format(\"kafka\")\n",
    "    .option(\"kafka.bootstrap.servers\", env.KAFKA_BOOTSTRAP_SERVERS)\n",
    "    .option(\"subscribe\", env.KAFKA_TOPIC_RAW_AIRCRAFT)\n",
    "    # .option(\"minOffsetsPerTrigger\", 20)\n",
    "    # .option(\"maxOffsetsPerTrigger\", 20)\n",
    "    # .option(\"fetchOffset.numRetries\", 0)\n",
    "    .option(\"startingOffsets\", \"earliest\")\n",
    "    # .option(\"endingOffsets\", \"latest\")\n",
    "    .load()\n",
    ")"
   ]
  },
  {
   "cell_type": "code",
   "execution_count": null,
   "metadata": {},
   "outputs": [],
   "source": [
    "df = df.selectExpr(\"substring(value, 6) as value\")\n",
    "df = df.select(AF.from_avro(\"value\", in_schema.schema.schema_str).alias(\"d\")).select(\"d.*\")\n",
    "df.show()"
   ]
  },
  {
   "cell_type": "code",
   "execution_count": null,
   "metadata": {},
   "outputs": [],
   "source": [
    "df = df.withColumn(\"created_ts\", F.current_timestamp())\n",
    "df.show()"
   ]
  },
  {
   "cell_type": "code",
   "execution_count": null,
   "metadata": {},
   "outputs": [],
   "source": [
    "df.writeTo(\"dev.raw.aircraft_models\").append()"
   ]
  }
 ],
 "metadata": {
  "kernelspec": {
   "display_name": ".venv",
   "language": "python",
   "name": "python3"
  },
  "language_info": {
   "codemirror_mode": {
    "name": "ipython",
    "version": 3
   },
   "file_extension": ".py",
   "mimetype": "text/x-python",
   "name": "python",
   "nbconvert_exporter": "python",
   "pygments_lexer": "ipython3",
   "version": "3.11.7"
  }
 },
 "nbformat": 4,
 "nbformat_minor": 2
}
