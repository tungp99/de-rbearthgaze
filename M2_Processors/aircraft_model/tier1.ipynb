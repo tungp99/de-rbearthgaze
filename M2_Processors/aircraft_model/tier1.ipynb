{
 "cells": [
  {
   "cell_type": "code",
   "execution_count": null,
   "metadata": {},
   "outputs": [],
   "source": [
    "from libs.configuration import configure\n",
    "from pyspark.sql import SparkSession\n",
    "from pyspark.sql import functions as F\n",
    "from pyspark.sql import types as T\n",
    "\n",
    "from shared.spark_config import create_spark_config\n",
    "\n",
    "env = configure()\n",
    "conf = create_spark_config(\"M2_Processors.aircraft_model.tier1\")"
   ]
  },
  {
   "cell_type": "code",
   "execution_count": null,
   "metadata": {},
   "outputs": [],
   "source": [
    "spark = SparkSession.builder.config(conf=conf).getOrCreate()"
   ]
  },
  {
   "cell_type": "code",
   "execution_count": null,
   "metadata": {},
   "outputs": [],
   "source": [
    "df = spark.read.format(\"iceberg\").load(\"dev.raw.aircraft_models\")\n",
    "df.show()"
   ]
  },
  {
   "cell_type": "code",
   "execution_count": null,
   "metadata": {},
   "outputs": [],
   "source": [
    "df.schema"
   ]
  },
  {
   "cell_type": "code",
   "execution_count": null,
   "metadata": {},
   "outputs": [],
   "source": [
    "df.describe().show()"
   ]
  },
  {
   "cell_type": "code",
   "execution_count": null,
   "metadata": {},
   "outputs": [],
   "source": [
    "for c in df.columns:\n",
    "    if c in [\"created_ts\", \"icao\", \"classification\", \"category\", \"manufacturers\"]:\n",
    "        continue\n",
    "\n",
    "    df.select(c).where(F.col(c).rlike(r\"[^\\d\\.]\")).describe().show()"
   ]
  },
  {
   "cell_type": "code",
   "execution_count": null,
   "metadata": {},
   "outputs": [],
   "source": [
    "df = df.replace(\n",
    "    to_replace={\"-\": None, \"\": None},\n",
    "    subset=[\n",
    "        \"wing_span\",\n",
    "        \"length\",\n",
    "        \"height\",\n",
    "        \"mtow\",\n",
    "        \"fuel_capacity\",\n",
    "        \"maximum_range\",\n",
    "        \"take_off_distance\",\n",
    "        \"landing_distance\",\n",
    "        \"absolute_ceiling\",\n",
    "        \"optimum_ceiling\",\n",
    "        \"maximum_climb_rate\",\n",
    "    ],\n",
    ")"
   ]
  },
  {
   "cell_type": "code",
   "execution_count": null,
   "metadata": {},
   "outputs": [],
   "source": [
    "df.select(\"icao\").where(F.col(\"icao\").rlike(r\"[^a-zA-Z0-9]\")).describe().show()\n",
    "df.select(\"classification\").where(F.col(\"classification\").rlike(r\"[^a-zA-Z0-9]\")).describe().show()\n",
    "df.select(\"category\").where(F.col(\"category\").rlike(r\"[^a-zA-Z0-9\\/]\")).describe().show()"
   ]
  },
  {
   "cell_type": "code",
   "execution_count": null,
   "metadata": {},
   "outputs": [],
   "source": [
    "df = df.replace(to_replace={\"-\": None, \"\": None}, subset=[\"classification\"])"
   ]
  },
  {
   "cell_type": "code",
   "execution_count": null,
   "metadata": {},
   "outputs": [],
   "source": [
    "df = df.replace(to_replace={\"-/\": None, \"-/-\": None, \"\": None}, subset=[\"category\"])"
   ]
  },
  {
   "cell_type": "code",
   "execution_count": null,
   "metadata": {},
   "outputs": [],
   "source": [
    "df = (\n",
    "    df.withColumn(\"capacity_caps\", F.split(\"persons_on_board\", \"-\"))\n",
    "    .withColumn(\"capacity_lower_cap\", F.try_element_at(\"capacity_caps\", F.lit(-2)))\n",
    "    .withColumn(\"capacity_upper_cap\", F.element_at(\"capacity_caps\", F.lit(-1)))\n",
    "    .drop(\"persons_on_board\", \"capacity_caps\")\n",
    ")\n",
    "\n",
    "df.show()"
   ]
  },
  {
   "cell_type": "code",
   "execution_count": null,
   "metadata": {},
   "outputs": [],
   "source": [
    "df = (\n",
    "    df.withColumn(\n",
    "        \"capacity_upper_capx\",\n",
    "        F.split(\"capacity_upper_cap\", r\"\\+\").cast(\"array<int>\"),\n",
    "    )\n",
    "    .withColumn(\n",
    "        \"capacity_upper_cap\", F.aggregate(\"capacity_upper_capx\", F.lit(0), lambda acc, x: acc + x)\n",
    "    )\n",
    "    .drop(\"capacity_upper_capx\")\n",
    ")"
   ]
  },
  {
   "cell_type": "code",
   "execution_count": null,
   "metadata": {},
   "outputs": [],
   "source": [
    "df = df.withColumns(\n",
    "    {\n",
    "        \"wing_span\": F.col(\"wing_span\").cast(T.FloatType()),\n",
    "        \"length\": F.col(\"length\").cast(T.FloatType()),\n",
    "        \"height\": F.col(\"height\").cast(T.FloatType()),\n",
    "        \"mtow\": F.col(\"mtow\").cast(T.FloatType()),\n",
    "        \"fuel_capacity\": F.col(\"fuel_capacity\").cast(T.FloatType()),\n",
    "        \"maximum_range\": F.col(\"maximum_range\").cast(T.IntegerType()),\n",
    "        \"take_off_distance\": F.col(\"take_off_distance\").cast(T.FloatType()),\n",
    "        \"landing_distance\": F.col(\"landing_distance\").cast(T.FloatType()),\n",
    "        \"absolute_ceiling\": F.col(\"absolute_ceiling\").cast(T.FloatType()),\n",
    "        \"optimum_ceiling\": F.col(\"optimum_ceiling\").cast(T.FloatType()),\n",
    "        \"maximum_climb_rate\": F.col(\"maximum_climb_rate\").cast(T.FloatType()),\n",
    "        \"capacity_lower_cap\": F.col(\"capacity_lower_cap\").cast(T.IntegerType()),\n",
    "    }\n",
    ").drop(\"maximum_speed\", \"optimum_speed\")"
   ]
  },
  {
   "cell_type": "code",
   "execution_count": null,
   "metadata": {},
   "outputs": [],
   "source": [
    "df.schema"
   ]
  },
  {
   "cell_type": "code",
   "execution_count": null,
   "metadata": {},
   "outputs": [],
   "source": [
    "df.describe().show()"
   ]
  },
  {
   "cell_type": "code",
   "execution_count": null,
   "metadata": {},
   "outputs": [],
   "source": [
    "df = df.withColumn(\"created_ts\", F.current_timestamp()).withColumn(\n",
    "    \"updated_ts\", F.current_timestamp()\n",
    ")\n",
    "df.show()"
   ]
  },
  {
   "cell_type": "code",
   "execution_count": null,
   "metadata": {},
   "outputs": [],
   "source": [
    "df.writeTo(\"dev.tier1.aircraft_models\").append()"
   ]
  }
 ],
 "metadata": {
  "kernelspec": {
   "display_name": ".venv",
   "language": "python",
   "name": "python3"
  },
  "language_info": {
   "codemirror_mode": {
    "name": "ipython",
    "version": 3
   },
   "file_extension": ".py",
   "mimetype": "text/x-python",
   "name": "python",
   "nbconvert_exporter": "python",
   "pygments_lexer": "ipython3",
   "version": "3.11.7"
  }
 },
 "nbformat": 4,
 "nbformat_minor": 2
}
