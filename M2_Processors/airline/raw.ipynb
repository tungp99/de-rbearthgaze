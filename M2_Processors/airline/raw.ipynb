{
 "cells": [
  {
   "cell_type": "code",
   "execution_count": null,
   "metadata": {},
   "outputs": [],
   "source": [
    "import logging\n",
    "\n",
    "from confluent_kafka.schema_registry import SchemaRegistryClient\n",
    "from libs.configuration import configure\n",
    "from pyspark.sql import SparkSession\n",
    "from pyspark.sql import functions as F\n",
    "from pyspark.sql import types as T\n",
    "from pyspark.sql.avro import functions as AF\n",
    "\n",
    "from shared.spark_config import create_spark_config\n",
    "\n",
    "__MODULE = \"M2_Processors.airline.raw\"\n",
    "logger = logging.getLogger(\"notebook\")\n",
    "env = configure()\n",
    "conf = create_spark_config().setAppName(__MODULE)"
   ]
  },
  {
   "cell_type": "code",
   "execution_count": null,
   "metadata": {},
   "outputs": [],
   "source": [
    "spark = SparkSession.builder.config(conf=conf).getOrCreate()"
   ]
  },
  {
   "cell_type": "code",
   "execution_count": null,
   "metadata": {},
   "outputs": [],
   "source": [
    "sr_client = SchemaRegistryClient({\"url\": env.KAFKA_SCHEMA_REGISTRY_URL})\n",
    "in_schema = sr_client.get_latest_version(f\"{env.KAFKA_TOPIC_RAW_AIRLINE}-value\")\n",
    "in_schema"
   ]
  },
  {
   "cell_type": "code",
   "execution_count": null,
   "metadata": {},
   "outputs": [],
   "source": [
    "df = (\n",
    "    spark.readStream.format(\"kafka\")\n",
    "    .option(\"kafka.bootstrap.servers\", env.KAFKA_BOOTSTRAP_SERVERS)\n",
    "    .option(\"subscribe\", env.KAFKA_TOPIC_RAW_AIRLINE)\n",
    "    # .option(\"minOffsetsPerTrigger\", 20)\n",
    "    # .option(\"maxOffsetsPerTrigger\", 20)\n",
    "    # .option(\"fetchOffset.numRetries\", 0)\n",
    "    .option(\"startingOffsets\", \"earliest\")\n",
    "    # .option(\"endingOffsets\", \"latest\")\n",
    "    .load()\n",
    ")\n",
    "df.show()"
   ]
  },
  {
   "cell_type": "code",
   "execution_count": null,
   "metadata": {},
   "outputs": [],
   "source": [
    "kafka_write_stream = (\n",
    "    df.writeStream.format(\"kafka\")\n",
    "    .trigger(once=True)\n",
    "    .option(\"kafka.bootstrap.servers\", env.KAFKA_BOOTSTRAP_SERVERS)\n",
    "    .option(\"topic\", env.KAFKA_TOPIC_T1_AIRLINE)\n",
    "    .start()\n",
    ")"
   ]
  },
  {
   "cell_type": "code",
   "execution_count": null,
   "metadata": {},
   "outputs": [],
   "source": [
    "df = df.select(AF.from_avro(\"value\", in_schema.schema.schema_str).alias(\"unflattened\"))\n",
    "df = df.select(\"unflattened.*\")\n",
    "df.show()"
   ]
  },
  {
   "cell_type": "code",
   "execution_count": null,
   "metadata": {},
   "outputs": [],
   "source": [
    "iceberg_write_stream = (\n",
    "    df.writeStream.format(\"iceberg\")\n",
    "    .outputMode(\"append\")\n",
    "    .trigger(once=True)\n",
    "    .option(\"fanout-enabled\", \"true\")\n",
    "    .toTable(\"dev.raw.airlines\")\n",
    ")"
   ]
  }
 ],
 "metadata": {
  "kernelspec": {
   "display_name": ".venv",
   "language": "python",
   "name": "python3"
  },
  "language_info": {
   "codemirror_mode": {
    "name": "ipython",
    "version": 3
   },
   "file_extension": ".py",
   "mimetype": "text/x-python",
   "name": "python",
   "nbconvert_exporter": "python",
   "pygments_lexer": "ipython3",
   "version": "3.9.18"
  }
 },
 "nbformat": 4,
 "nbformat_minor": 2
}
