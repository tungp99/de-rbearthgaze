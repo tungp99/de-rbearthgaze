{
 "cells": [
  {
   "cell_type": "code",
   "execution_count": 2,
   "metadata": {},
   "outputs": [],
   "source": [
    "from libs.configuration import configure\n",
    "from pyspark.sql import SparkSession\n",
    "from pyspark.sql import functions as F\n",
    "from pyspark.sql import types as T\n",
    "from pyspark.sql.avro import functions as AF\n",
    "\n",
    "from shared.spark_config import create_spark_config\n",
    "\n",
    "env = configure()\n",
    "conf = create_spark_config(\"M2_Processors.airline.raw\")"
   ]
  },
  {
   "cell_type": "code",
   "execution_count": 3,
   "metadata": {},
   "outputs": [],
   "source": [
    "spark = SparkSession.builder.config(conf=conf).getOrCreate()"
   ]
  },
  {
   "cell_type": "code",
   "execution_count": 4,
   "metadata": {},
   "outputs": [
    {
     "name": "stdout",
     "output_type": "stream",
     "text": [
      "+---+--------------------+-----+----+----+--------------+--------------+------+\n",
      "| id|                name|alias|iata|icao|      callsign|       country|active|\n",
      "+---+--------------------+-----+----+----+--------------+--------------+------+\n",
      "| -1|             Unknown|   \\N|   -| N/A|            \\N|            \\N|     Y|\n",
      "|  1|      Private flight|   \\N|   -| N/A|          NULL|          NULL|     Y|\n",
      "|  2|         135 Airways|   \\N|NULL| GNL|       GENERAL| United States|     N|\n",
      "|  3|       1Time Airline|   \\N|  1T| RNX|       NEXTIME|  South Africa|     Y|\n",
      "|  4|2 Sqn No 1 Elemen...|   \\N|NULL| WYT|          NULL|United Kingdom|     N|\n",
      "|  5|     213 Flight Unit|   \\N|NULL| TFU|          NULL|        Russia|     N|\n",
      "|  6|223 Flight Unit S...|   \\N|NULL| CHD|CHKALOVSK-AVIA|        Russia|     N|\n",
      "|  7|   224th Flight Unit|   \\N|NULL| TTF|    CARGO UNIT|        Russia|     N|\n",
      "|  8|         247 Jet Ltd|   \\N|NULL| TWF|  CLOUD RUNNER|United Kingdom|     N|\n",
      "|  9|         3D Aviation|   \\N|NULL| SEC|       SECUREX| United States|     N|\n",
      "| 10|         40-Mile Air|   \\N|  Q5| MLA|      MILE-AIR| United States|     Y|\n",
      "| 11|              4D Air|   \\N|NULL| QRT|       QUARTET|      Thailand|     N|\n",
      "| 12|611897 Alberta Li...|   \\N|NULL| THD|         DONUT|        Canada|     N|\n",
      "| 13|    Ansett Australia|   \\N|  AN| AAA|        ANSETT|     Australia|     Y|\n",
      "| 14|Abacus International|   \\N|  1B|NULL|          NULL|     Singapore|     Y|\n",
      "| 15|     Abelag Aviation|   \\N|  W9| AAB|           ABG|       Belgium|     N|\n",
      "| 16|      Army Air Corps|   \\N|NULL| AAC|       ARMYAIR|United Kingdom|     N|\n",
      "| 17|Aero Aviation Cen...|   \\N|NULL| AAD|       SUNRISE|        Canada|     N|\n",
      "| 18|Aero Servicios Ej...|   \\N|NULL| SII|        ASEISA|        Mexico|     N|\n",
      "| 19|         Aero Biniza|   \\N|NULL| BZS|        BINIZA|        Mexico|     N|\n",
      "+---+--------------------+-----+----+----+--------------+--------------+------+\n",
      "only showing top 20 rows\n",
      "\n"
     ]
    }
   ],
   "source": [
    "schema = T.StructType(\n",
    "    [\n",
    "        T.StructField(\"id\", T.IntegerType(), True),\n",
    "        T.StructField(\"name\", T.StringType(), True),\n",
    "        T.StructField(\"alias\", T.StringType(), True),\n",
    "        T.StructField(\"iata\", T.StringType(), True),\n",
    "        T.StructField(\"icao\", T.StringType(), True),\n",
    "        T.StructField(\"callsign\", T.StringType(), True),\n",
    "        T.StructField(\"country\", T.StringType(), True),\n",
    "        T.StructField(\"active\", T.StringType(), True),\n",
    "    ]\n",
    ")\n",
    "df = spark.read.csv(\n",
    "    f\"abfss://sampledata@{env.DATASTORAGE_AZURE_ACCOUNTNAME}.dfs.core.windows.net/airlines.csv\",\n",
    "    schema,\n",
    "    header=False,\n",
    "    quote='\"',\n",
    ")\n",
    "df.show()"
   ]
  },
  {
   "cell_type": "code",
   "execution_count": 10,
   "metadata": {},
   "outputs": [
    {
     "name": "stderr",
     "output_type": "stream",
     "text": [
      "[Stage 3:>                                                          (0 + 1) / 1]\r"
     ]
    },
    {
     "name": "stdout",
     "output_type": "stream",
     "text": [
      "+---+--------------------+-----+----+----+--------------+--------------+------+--------------------+\n",
      "| id|                name|alias|iata|icao|      callsign|       country|active|          created_ts|\n",
      "+---+--------------------+-----+----+----+--------------+--------------+------+--------------------+\n",
      "| -1|             Unknown|   \\N|   -| N/A|            \\N|            \\N|     Y|2024-01-07 20:22:...|\n",
      "|  1|      Private flight|   \\N|   -| N/A|          NULL|          NULL|     Y|2024-01-07 20:22:...|\n",
      "|  2|         135 Airways|   \\N|NULL| GNL|       GENERAL| United States|     N|2024-01-07 20:22:...|\n",
      "|  3|       1Time Airline|   \\N|  1T| RNX|       NEXTIME|  South Africa|     Y|2024-01-07 20:22:...|\n",
      "|  4|2 Sqn No 1 Elemen...|   \\N|NULL| WYT|          NULL|United Kingdom|     N|2024-01-07 20:22:...|\n",
      "|  5|     213 Flight Unit|   \\N|NULL| TFU|          NULL|        Russia|     N|2024-01-07 20:22:...|\n",
      "|  6|223 Flight Unit S...|   \\N|NULL| CHD|CHKALOVSK-AVIA|        Russia|     N|2024-01-07 20:22:...|\n",
      "|  7|   224th Flight Unit|   \\N|NULL| TTF|    CARGO UNIT|        Russia|     N|2024-01-07 20:22:...|\n",
      "|  8|         247 Jet Ltd|   \\N|NULL| TWF|  CLOUD RUNNER|United Kingdom|     N|2024-01-07 20:22:...|\n",
      "|  9|         3D Aviation|   \\N|NULL| SEC|       SECUREX| United States|     N|2024-01-07 20:22:...|\n",
      "| 10|         40-Mile Air|   \\N|  Q5| MLA|      MILE-AIR| United States|     Y|2024-01-07 20:22:...|\n",
      "| 11|              4D Air|   \\N|NULL| QRT|       QUARTET|      Thailand|     N|2024-01-07 20:22:...|\n",
      "| 12|611897 Alberta Li...|   \\N|NULL| THD|         DONUT|        Canada|     N|2024-01-07 20:22:...|\n",
      "| 13|    Ansett Australia|   \\N|  AN| AAA|        ANSETT|     Australia|     Y|2024-01-07 20:22:...|\n",
      "| 14|Abacus International|   \\N|  1B|NULL|          NULL|     Singapore|     Y|2024-01-07 20:22:...|\n",
      "| 15|     Abelag Aviation|   \\N|  W9| AAB|           ABG|       Belgium|     N|2024-01-07 20:22:...|\n",
      "| 16|      Army Air Corps|   \\N|NULL| AAC|       ARMYAIR|United Kingdom|     N|2024-01-07 20:22:...|\n",
      "| 17|Aero Aviation Cen...|   \\N|NULL| AAD|       SUNRISE|        Canada|     N|2024-01-07 20:22:...|\n",
      "| 18|Aero Servicios Ej...|   \\N|NULL| SII|        ASEISA|        Mexico|     N|2024-01-07 20:22:...|\n",
      "| 19|         Aero Biniza|   \\N|NULL| BZS|        BINIZA|        Mexico|     N|2024-01-07 20:22:...|\n",
      "+---+--------------------+-----+----+----+--------------+--------------+------+--------------------+\n",
      "only showing top 20 rows\n",
      "\n"
     ]
    },
    {
     "name": "stderr",
     "output_type": "stream",
     "text": [
      "                                                                                \r"
     ]
    }
   ],
   "source": [
    "df = df.withColumn(\"created_ts\", F.current_timestamp())\n",
    "df.show()"
   ]
  },
  {
   "cell_type": "code",
   "execution_count": 11,
   "metadata": {},
   "outputs": [
    {
     "name": "stderr",
     "output_type": "stream",
     "text": [
      "                                                                                \r"
     ]
    }
   ],
   "source": [
    "df.writeTo(\"dev.raw.airlines\").append()"
   ]
  }
 ],
 "metadata": {
  "kernelspec": {
   "display_name": ".venv",
   "language": "python",
   "name": "python3"
  },
  "language_info": {
   "codemirror_mode": {
    "name": "ipython",
    "version": 3
   },
   "file_extension": ".py",
   "mimetype": "text/x-python",
   "name": "python",
   "nbconvert_exporter": "python",
   "pygments_lexer": "ipython3",
   "version": "3.11.7"
  }
 },
 "nbformat": 4,
 "nbformat_minor": 2
}
