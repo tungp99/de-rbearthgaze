{
 "cells": [
  {
   "cell_type": "code",
   "execution_count": null,
   "metadata": {},
   "outputs": [],
   "source": [
    "import logging\n",
    "\n",
    "from confluent_kafka.schema_registry import SchemaRegistryClient\n",
    "from libs.configuration import configure\n",
    "from pyspark.sql import SparkSession\n",
    "from pyspark.sql import functions as F, types as T\n",
    "from pyspark.sql.avro import functions as AF\n",
    "\n",
    "from shared.spark_config import create_spark_config\n",
    "\n",
    "__MODULE = \"M2_Processors.airline.tier1\"\n",
    "logger = logging.getLogger(\"notebook\")\n",
    "env = configure()\n",
    "conf = create_spark_config().setAppName(__MODULE)"
   ]
  },
  {
   "cell_type": "code",
   "execution_count": null,
   "metadata": {},
   "outputs": [],
   "source": [
    "spark = SparkSession.builder.config(conf=conf).getOrCreate()"
   ]
  },
  {
   "cell_type": "code",
   "execution_count": null,
   "metadata": {},
   "outputs": [],
   "source": [
    "sr_client = SchemaRegistryClient({\"url\": env.KAFKA_SCHEMA_REGISTRY_URL})\n",
    "in_schema = sr_client.get_latest_version(f\"{env.KAFKA_TOPIC_T1_AIRLINE}-value\")\n",
    "print(in_schema)\n",
    "out_schema = sr_client.get_latest_version(f\"{env.KAFKA_TOPIC_T2_AIRLINE}-value\")\n",
    "print(out_schema)"
   ]
  },
  {
   "cell_type": "code",
   "execution_count": null,
   "metadata": {},
   "outputs": [],
   "source": [
    "df = (\n",
    "    spark.readStream.format(\"kafka\")\n",
    "    .option(\"kafka.bootstrap.servers\", env.KAFKA_BOOTSTRAP_SERVERS)\n",
    "    .option(\"subscribe\", env.KAFKA_TOPIC_RAW_AIRLINE)\n",
    "    # .option(\"minOffsetsPerTrigger\", 20)\n",
    "    # .option(\"maxOffsetsPerTrigger\", 20)\n",
    "    # .option(\"fetchOffset.numRetries\", 0)\n",
    "    .option(\"startingOffsets\", \"latest\")\n",
    "    # .option(\"endingOffsets\", \"latest\")\n",
    "    .load()\n",
    ")"
   ]
  },
  {
   "cell_type": "code",
   "execution_count": null,
   "metadata": {},
   "outputs": [],
   "source": [
    "df = df.select(AF.from_avro(\"value\", in_schema.schema.schema_str).alias(\"unflattened\"))\n",
    "df = df.select(\"unflattened.*\")\n",
    "df.show()"
   ]
  },
  {
   "cell_type": "code",
   "execution_count": null,
   "metadata": {},
   "outputs": [],
   "source": [
    "df.select([F.count(F.when(F.isnull(c), 1)).alias(c) for c in df.columns]).show()"
   ]
  },
  {
   "cell_type": "code",
   "execution_count": null,
   "metadata": {},
   "outputs": [],
   "source": [
    "df = (\n",
    "    df.drop(\"id\")\n",
    "    .withColumn(\n",
    "        \"alias\",\n",
    "        F.when((F.col(\"alias\") == \"\\\\N\"), None)\n",
    "        .when(F.col(\"alias\") == \"N/A\", None)\n",
    "        .otherwise(F.col(\"alias\")),\n",
    "    )\n",
    "    .withColumn(\n",
    "        \"icao\",\n",
    "        F.when(F.col(\"icao\") == \"\\\\N\", None)\n",
    "        .when(F.col(\"icao\") == \"N/A\", None)\n",
    "        .otherwise(F.col(\"icao\")),\n",
    "    )\n",
    "    .withColumn(\n",
    "        \"callsign\",\n",
    "        F.when(F.col(\"callsign\") == \"\\\\N\", None)\n",
    "        .when(F.col(\"callsign\") == \"N/A\", None)\n",
    "        .otherwise(F.col(\"callsign\")),\n",
    "    )\n",
    "    .withColumn(\n",
    "        \"country\",\n",
    "        F.when(F.col(\"country\") == \"\\\\N\", None)\n",
    "        .when(F.col(\"country\") == \"N/A\", None)\n",
    "        .otherwise(F.col(\"country\")),\n",
    "    )\n",
    ")\n",
    "df.show()"
   ]
  },
  {
   "cell_type": "markdown",
   "metadata": {},
   "source": [
    "drop when icao IS null"
   ]
  },
  {
   "cell_type": "code",
   "execution_count": null,
   "metadata": {},
   "outputs": [],
   "source": [
    "df = df.where(F.isnotnull(\"icao\"))\n",
    "df.show()"
   ]
  },
  {
   "cell_type": "code",
   "execution_count": null,
   "metadata": {},
   "outputs": [],
   "source": [
    "kafka_write_stream = (\n",
    "    df.select(AF.to_avro(F.struct(\"*\"), out_schema.schema.schema_str).alias(\"value\"))\n",
    "    .writeStream.format(\"kafka\")\n",
    "    .trigger(once=True)\n",
    "    .option(\"kafka.bootstrap.servers\", env.KAFKA_BOOTSTRAP_SERVERS)\n",
    "    .option(\"topic\", env.KAFKA_TOPIC_T2_AIRLINE)\n",
    "    .start()\n",
    ")"
   ]
  },
  {
   "cell_type": "code",
   "execution_count": null,
   "metadata": {},
   "outputs": [],
   "source": [
    "iceberg_write_stream = (\n",
    "    df.writeStream.format(\"iceberg\")\n",
    "    .outputMode(\"append\")\n",
    "    .trigger(once=True)\n",
    "    .option(\"fanout-enabled\", \"true\")\n",
    "    .toTable(\"dev.tier1.airlines\")\n",
    ")"
   ]
  },
  {
   "cell_type": "code",
   "execution_count": null,
   "metadata": {},
   "outputs": [],
   "source": [
    "df.select([F.count(F.when(F.isnull(c), 1)).alias(c) for c in df.columns]).show()"
   ]
  }
 ],
 "metadata": {
  "kernelspec": {
   "display_name": ".venv",
   "language": "python",
   "name": "python3"
  },
  "language_info": {
   "codemirror_mode": {
    "name": "ipython",
    "version": 3
   },
   "file_extension": ".py",
   "mimetype": "text/x-python",
   "name": "python",
   "nbconvert_exporter": "python",
   "pygments_lexer": "ipython3",
   "version": "3.9.18"
  }
 },
 "nbformat": 4,
 "nbformat_minor": 2
}
