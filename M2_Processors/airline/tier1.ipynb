{
 "cells": [
  {
   "cell_type": "code",
   "execution_count": null,
   "metadata": {},
   "outputs": [],
   "source": [
    "import pandera.pyspark as pa\n",
    "from pyspark.sql import SparkSession\n",
    "from pyspark.sql import functions as F\n",
    "from shared.spark_config import create_spark_config\n",
    "\n",
    "from libs.configuration import configure\n",
    "\n",
    "env = configure()\n",
    "conf = create_spark_config(\"M2_Processors.airline.tier1\")"
   ]
  },
  {
   "cell_type": "code",
   "execution_count": null,
   "metadata": {},
   "outputs": [],
   "source": [
    "spark = SparkSession.builder.config(conf=conf).getOrCreate()"
   ]
  },
  {
   "cell_type": "code",
   "execution_count": null,
   "metadata": {},
   "outputs": [],
   "source": [
    "df = spark.read.format(\"iceberg\").load(\"dev.raw.airlines\")\n",
    "df.show()"
   ]
  },
  {
   "cell_type": "code",
   "execution_count": null,
   "metadata": {},
   "outputs": [],
   "source": [
    "df.describe().show()"
   ]
  },
  {
   "cell_type": "code",
   "execution_count": null,
   "metadata": {},
   "outputs": [],
   "source": [
    "df = (\n",
    "    df.drop(\"id\")\n",
    "    .withColumn(\n",
    "        \"alias\",\n",
    "        F.when((F.col(\"alias\") == \"\\\\N\"), None)\n",
    "        .when(F.col(\"alias\") == \"N/A\", None)\n",
    "        .otherwise(F.col(\"alias\")),\n",
    "    )\n",
    "    .withColumn(\n",
    "        \"icao\",\n",
    "        F.when(F.col(\"icao\") == \"\\\\N\", None)\n",
    "        .when(F.col(\"icao\") == \"N/A\", None)\n",
    "        .otherwise(F.col(\"icao\")),\n",
    "    )\n",
    "    .withColumn(\n",
    "        \"callsign\",\n",
    "        F.when(F.col(\"callsign\") == \"\\\\N\", None)\n",
    "        .when(F.col(\"callsign\") == \"N/A\", None)\n",
    "        .otherwise(F.col(\"callsign\")),\n",
    "    )\n",
    "    .withColumn(\n",
    "        \"country\",\n",
    "        F.when(F.col(\"country\") == \"\\\\N\", None)\n",
    "        .when(F.col(\"country\") == \"N/A\", None)\n",
    "        .otherwise(F.col(\"country\")),\n",
    "    )\n",
    ")\n",
    "df.show()"
   ]
  },
  {
   "cell_type": "code",
   "execution_count": null,
   "metadata": {},
   "outputs": [],
   "source": [
    "df = df.where(F.isnotnull(\"icao\"))"
   ]
  },
  {
   "cell_type": "code",
   "execution_count": null,
   "metadata": {},
   "outputs": [],
   "source": [
    "df = df.withColumn(\"created_ts\", F.current_timestamp()).withColumn(\n",
    "    \"updated_ts\", F.current_timestamp()\n",
    ")"
   ]
  },
  {
   "cell_type": "code",
   "execution_count": null,
   "metadata": {},
   "outputs": [],
   "source": [
    "schema = pa.DataFrameSchema(\n",
    "    {\n",
    "        \"icao\": pa.Column(str),\n",
    "        \"iata\": pa.Column(str, nullable=True),\n",
    "        \"name\": pa.Column(str),\n",
    "        \"city\": pa.Column(str, nullable=True),\n",
    "        \"subd\": pa.Column(str, nullable=True),\n",
    "        \"elevation\": pa.Column(float),\n",
    "        \"lat\": pa.Column(float),\n",
    "        \"lon\": pa.Column(float),\n",
    "        \"tz\": pa.Column(str),\n",
    "        \"lid\": pa.Column(str, nullable=True),\n",
    "    },\n",
    ")\n",
    "\n",
    "schema.validate(df).pandera.errors"
   ]
  },
  {
   "cell_type": "code",
   "execution_count": null,
   "metadata": {},
   "outputs": [],
   "source": [
    "df.writeTo(\"dev.tier1.airlines\").append()"
   ]
  }
 ],
 "metadata": {
  "kernelspec": {
   "display_name": ".venv",
   "language": "python",
   "name": "python3"
  },
  "language_info": {
   "codemirror_mode": {
    "name": "ipython",
    "version": 3
   },
   "file_extension": ".py",
   "mimetype": "text/x-python",
   "name": "python",
   "nbconvert_exporter": "python",
   "pygments_lexer": "ipython3",
   "version": "3.11.7"
  }
 },
 "nbformat": 4,
 "nbformat_minor": 2
}
