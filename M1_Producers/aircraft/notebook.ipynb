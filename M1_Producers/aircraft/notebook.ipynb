{
 "cells": [
  {
   "cell_type": "code",
   "execution_count": 1,
   "metadata": {},
   "outputs": [
    {
     "name": "stdout",
     "output_type": "stream",
     "text": [
      "{'DATASTORAGE_AZURE_ACCESSKEY': 'dYj3PCGRyYHYR9pRo2xPa9BQ7t/sUonACJ29wcPdpa+1IC70rMbZmpfpHJJWJtk7OeASL+eQDIWq+AStGg3CCA==',\n",
      " 'DATASTORAGE_AZURE_ACCOUNTNAME': 'icebergpe6t5cug7x9f45p8',\n",
      " 'KAFKA_BOOTSTRAP_SERVERS': 'localhost:9092',\n",
      " 'KAFKA_SCHEMA_REGISTRY_URL': 'http://localhost:8081',\n",
      " 'KAFKA_SESSION_TIMEOUT_MS': '45000',\n",
      " 'KAFKA_TOPIC_RAW_AIRCRAFT': 'raw.aircraft',\n",
      " 'KAFKA_TOPIC_RAW_AIRLINE': 'raw.airline',\n",
      " 'KAFKA_TOPIC_RAW_AIRPORT': 'raw.airport',\n",
      " 'KAFKA_TOPIC_RAW_FLIGHT': 'raw.flight',\n",
      " 'KAFKA_TOPIC_T1_AIRCRAFT': 't1.aircraft',\n",
      " 'KAFKA_TOPIC_T1_AIRLINE': 't1.airline',\n",
      " 'KAFKA_TOPIC_T1_AIRPORT': 't1.airport',\n",
      " 'KAFKA_TOPIC_T1_FLIGHT': 't1.flight',\n",
      " 'KAFKA_TOPIC_T2_AIRCRAFT': 't2.aircraft',\n",
      " 'KAFKA_TOPIC_T2_AIRLINE': 't2.airline',\n",
      " 'KAFKA_TOPIC_T2_AIRPORT': 't2.airport',\n",
      " 'KAFKA_TOPIC_T2_FLIGHT': 't2.flight',\n",
      " 'POSTGRE_JDBC_URL': 'jdbc:postgresql://localhost:5432/iceberg-catalog',\n",
      " 'POSTGRE_PASSWORD': 'grebeci',\n",
      " 'POSTGRE_USER': 'iceberg',\n",
      " 'SPARK_MASTER_URL': 'local[1]',\n",
      " 'file': '../../.env.development.local',\n",
      " 'initialised': True}\n"
     ]
    }
   ],
   "source": [
    "import logging\n",
    "\n",
    "from libs.configuration import configure\n",
    "from libs.kafka import MessageProducer\n",
    "from libs.models.aircraft import RawAircraft\n",
    "\n",
    "from aircraft import doc8643\n",
    "\n",
    "logger = logging.getLogger(\"M1_Producers.aircraft\")\n",
    "env = configure()"
   ]
  },
  {
   "cell_type": "code",
   "execution_count": 2,
   "metadata": {},
   "outputs": [
    {
     "ename": "KafkaException",
     "evalue": "KafkaError{code=_INVALID_ARG,val=-186,str=\"No such configuration property: \"schema.registry.url\"\"}",
     "output_type": "error",
     "traceback": [
      "\u001b[0;31m---------------------------------------------------------------------------\u001b[0m",
      "\u001b[0;31mKafkaException\u001b[0m                            Traceback (most recent call last)",
      "Cell \u001b[0;32mIn[2], line 1\u001b[0m\n\u001b[0;32m----> 1\u001b[0m p \u001b[38;5;241m=\u001b[39m \u001b[43mMessageProducer\u001b[49m\u001b[43m[\u001b[49m\u001b[43mRawAircraft\u001b[49m\u001b[43m]\u001b[49m\u001b[43m(\u001b[49m\u001b[43menv\u001b[49m\u001b[38;5;241;43m.\u001b[39;49m\u001b[43mKAFKA_TOPIC_RAW_AIRCRAFT\u001b[49m\u001b[43m)\u001b[49m\n",
      "File \u001b[0;32m/usr/lib64/python3.9/typing.py:687\u001b[0m, in \u001b[0;36m_BaseGenericAlias.__call__\u001b[0;34m(self, *args, **kwargs)\u001b[0m\n\u001b[1;32m    684\u001b[0m \u001b[38;5;28;01mif\u001b[39;00m \u001b[38;5;129;01mnot\u001b[39;00m \u001b[38;5;28mself\u001b[39m\u001b[38;5;241m.\u001b[39m_inst:\n\u001b[1;32m    685\u001b[0m     \u001b[38;5;28;01mraise\u001b[39;00m \u001b[38;5;167;01mTypeError\u001b[39;00m(\u001b[38;5;124mf\u001b[39m\u001b[38;5;124m\"\u001b[39m\u001b[38;5;124mType \u001b[39m\u001b[38;5;132;01m{\u001b[39;00m\u001b[38;5;28mself\u001b[39m\u001b[38;5;241m.\u001b[39m_name\u001b[38;5;132;01m}\u001b[39;00m\u001b[38;5;124m cannot be instantiated; \u001b[39m\u001b[38;5;124m\"\u001b[39m\n\u001b[1;32m    686\u001b[0m                     \u001b[38;5;124mf\u001b[39m\u001b[38;5;124m\"\u001b[39m\u001b[38;5;124muse \u001b[39m\u001b[38;5;132;01m{\u001b[39;00m\u001b[38;5;28mself\u001b[39m\u001b[38;5;241m.\u001b[39m__origin__\u001b[38;5;241m.\u001b[39m\u001b[38;5;18m__name__\u001b[39m\u001b[38;5;132;01m}\u001b[39;00m\u001b[38;5;124m() instead\u001b[39m\u001b[38;5;124m\"\u001b[39m)\n\u001b[0;32m--> 687\u001b[0m result \u001b[38;5;241m=\u001b[39m \u001b[38;5;28;43mself\u001b[39;49m\u001b[38;5;241;43m.\u001b[39;49m\u001b[43m__origin__\u001b[49m\u001b[43m(\u001b[49m\u001b[38;5;241;43m*\u001b[39;49m\u001b[43margs\u001b[49m\u001b[43m,\u001b[49m\u001b[43m \u001b[49m\u001b[38;5;241;43m*\u001b[39;49m\u001b[38;5;241;43m*\u001b[39;49m\u001b[43mkwargs\u001b[49m\u001b[43m)\u001b[49m\n\u001b[1;32m    688\u001b[0m \u001b[38;5;28;01mtry\u001b[39;00m:\n\u001b[1;32m    689\u001b[0m     result\u001b[38;5;241m.\u001b[39m__orig_class__ \u001b[38;5;241m=\u001b[39m \u001b[38;5;28mself\u001b[39m\n",
      "File \u001b[0;32m~/Work/de-rbearthgaze/libs/libs/kafka/__init__.py:24\u001b[0m, in \u001b[0;36mMessageProducer.__init__\u001b[0;34m(self, topic, error_topic)\u001b[0m\n\u001b[1;32m     20\u001b[0m \u001b[38;5;28msuper\u001b[39m()\u001b[38;5;241m.\u001b[39m\u001b[38;5;21m__init__\u001b[39m(unique_index)\n\u001b[1;32m     22\u001b[0m config \u001b[38;5;241m=\u001b[39m configure()\n\u001b[0;32m---> 24\u001b[0m \u001b[38;5;28mself\u001b[39m\u001b[38;5;241m.\u001b[39m_client \u001b[38;5;241m=\u001b[39m \u001b[43mProducer\u001b[49m\u001b[43m(\u001b[49m\n\u001b[1;32m     25\u001b[0m \u001b[43m    \u001b[49m\u001b[43m{\u001b[49m\n\u001b[1;32m     26\u001b[0m \u001b[43m        \u001b[49m\u001b[38;5;124;43m\"\u001b[39;49m\u001b[38;5;124;43mclient.id\u001b[39;49m\u001b[38;5;124;43m\"\u001b[39;49m\u001b[43m:\u001b[49m\u001b[43m \u001b[49m\u001b[43munique_index\u001b[49m\u001b[43m,\u001b[49m\n\u001b[1;32m     27\u001b[0m \u001b[43m        \u001b[49m\u001b[38;5;124;43m\"\u001b[39;49m\u001b[38;5;124;43mbootstrap.servers\u001b[39;49m\u001b[38;5;124;43m\"\u001b[39;49m\u001b[43m:\u001b[49m\u001b[43m \u001b[49m\u001b[43mconfig\u001b[49m\u001b[38;5;241;43m.\u001b[39;49m\u001b[43mKAFKA_BOOTSTRAP_SERVERS\u001b[49m\u001b[43m,\u001b[49m\n\u001b[1;32m     28\u001b[0m \u001b[43m        \u001b[49m\u001b[38;5;66;43;03m# \"security.protocol\": config.kafka.security_protocol,\u001b[39;49;00m\n\u001b[1;32m     29\u001b[0m \u001b[43m        \u001b[49m\u001b[38;5;66;43;03m# \"sasl.mechanism\": config.kafka.sasl_mechanism,\u001b[39;49;00m\n\u001b[1;32m     30\u001b[0m \u001b[43m        \u001b[49m\u001b[38;5;66;43;03m# \"sasl.username\": config.kafka.sasl_username,\u001b[39;49;00m\n\u001b[1;32m     31\u001b[0m \u001b[43m        \u001b[49m\u001b[38;5;66;43;03m# \"sasl.password\": config.kafka.sasl_password,\u001b[39;49;00m\n\u001b[1;32m     32\u001b[0m \u001b[43m        \u001b[49m\u001b[38;5;124;43m\"\u001b[39;49m\u001b[38;5;124;43mschema.registry.url\u001b[39;49m\u001b[38;5;124;43m\"\u001b[39;49m\u001b[43m:\u001b[49m\u001b[43m \u001b[49m\u001b[43mconfig\u001b[49m\u001b[38;5;241;43m.\u001b[39;49m\u001b[43mKAFKA_SCHEMA_REGISTRY_URL\u001b[49m\u001b[43m,\u001b[49m\n\u001b[1;32m     33\u001b[0m \u001b[43m        \u001b[49m\u001b[38;5;66;43;03m# \"basic.auth.credentials.source\": config.kafka.basic_auth_credentials_source,\u001b[39;49;00m\n\u001b[1;32m     34\u001b[0m \u001b[43m        \u001b[49m\u001b[38;5;66;43;03m# \"basic.auth.user.info\": config.kafka.basic_auth_user_info,\u001b[39;49;00m\n\u001b[1;32m     35\u001b[0m \u001b[43m    \u001b[49m\u001b[43m}\u001b[49m\n\u001b[1;32m     36\u001b[0m \u001b[43m\u001b[49m\u001b[43m)\u001b[49m\n\u001b[1;32m     37\u001b[0m \u001b[38;5;28mself\u001b[39m\u001b[38;5;241m.\u001b[39m_topic \u001b[38;5;241m=\u001b[39m topic\n\u001b[1;32m     38\u001b[0m \u001b[38;5;28mself\u001b[39m\u001b[38;5;241m.\u001b[39m_dead_letter_topic \u001b[38;5;241m=\u001b[39m (\n\u001b[1;32m     39\u001b[0m     error_topic \u001b[38;5;28;01mif\u001b[39;00m error_topic \u001b[38;5;129;01mis\u001b[39;00m \u001b[38;5;129;01mnot\u001b[39;00m \u001b[38;5;28;01mNone\u001b[39;00m \u001b[38;5;28;01melse\u001b[39;00m \u001b[38;5;124mf\u001b[39m\u001b[38;5;124m\"\u001b[39m\u001b[38;5;132;01m{\u001b[39;00mtopic\u001b[38;5;132;01m}\u001b[39;00m\u001b[38;5;124m_delivery_error\u001b[39m\u001b[38;5;124m\"\u001b[39m\n\u001b[1;32m     40\u001b[0m )\n",
      "\u001b[0;31mKafkaException\u001b[0m: KafkaError{code=_INVALID_ARG,val=-186,str=\"No such configuration property: \"schema.registry.url\"\"}"
     ]
    }
   ],
   "source": [
    "p = MessageProducer[RawAircraft](env.KAFKA_TOPIC_RAW_AIRCRAFT)"
   ]
  },
  {
   "cell_type": "code",
   "execution_count": null,
   "metadata": {},
   "outputs": [],
   "source": [
    "icao_list = [\n",
    "    \"A109\",\n",
    "    # \"A119\",\n",
    "    # \"A122\",\n",
    "    # \"A124\",\n",
    "]"
   ]
  },
  {
   "cell_type": "code",
   "execution_count": null,
   "metadata": {},
   "outputs": [],
   "source": [
    "for x in doc8643.scrape(icao_list):\n",
    "    logger.debug(x)\n",
    "\n",
    "    # p.produce(x)"
   ]
  }
 ],
 "metadata": {
  "kernelspec": {
   "display_name": ".venv",
   "language": "python",
   "name": "python3"
  },
  "language_info": {
   "codemirror_mode": {
    "name": "ipython",
    "version": 3
   },
   "file_extension": ".py",
   "mimetype": "text/x-python",
   "name": "python",
   "nbconvert_exporter": "python",
   "pygments_lexer": "ipython3",
   "version": "3.9.18"
  }
 },
 "nbformat": 4,
 "nbformat_minor": 2
}
