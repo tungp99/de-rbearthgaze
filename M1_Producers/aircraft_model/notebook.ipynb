{
 "cells": [
  {
   "cell_type": "code",
   "execution_count": null,
   "metadata": {},
   "outputs": [],
   "source": [
    "from confluent_kafka.schema_registry import SchemaRegistryClient\n",
    "from confluent_kafka.schema_registry.avro import AvroSerializer\n",
    "from confluent_kafka.serialization import (\n",
    "    MessageField,\n",
    "    SerializationContext,\n",
    "    StringSerializer,\n",
    ")\n",
    "from libs.configuration import configure\n",
    "from libs.kafka import MessageProducer\n",
    "from libs.models.aircraft import RawAircraft\n",
    "\n",
    "from aircraft_model import doc8643\n",
    "\n",
    "env = configure()"
   ]
  },
  {
   "cell_type": "code",
   "execution_count": null,
   "metadata": {},
   "outputs": [],
   "source": [
    "sr_client = SchemaRegistryClient({\"url\": env.KAFKA_SCHEMA_REGISTRY_URL})\n",
    "out_schema = sr_client.get_latest_version(f\"{env.KAFKA_TOPIC_RAW_AIRCRAFT}-value\")\n",
    "out_schema.schema.schema_str"
   ]
  },
  {
   "cell_type": "code",
   "execution_count": null,
   "metadata": {},
   "outputs": [],
   "source": [
    "string_serializer = StringSerializer(\"utf_8\")\n",
    "avro_serializer = AvroSerializer(\n",
    "    schema_registry_client=sr_client,\n",
    "    schema_str=out_schema.schema.schema_str,\n",
    "    conf={\"auto.register.schemas\": False},\n",
    ")\n",
    "value_serialization_context = SerializationContext(env.KAFKA_TOPIC_RAW_AIRCRAFT, MessageField.VALUE)\n",
    "value_serializer = lambda x: avro_serializer(x, value_serialization_context)\n",
    "\n",
    "p = MessageProducer[RawAircraft](\n",
    "    topic=env.KAFKA_TOPIC_RAW_AIRCRAFT,\n",
    "    key_serializer=string_serializer,\n",
    "    value_serializer=value_serializer,\n",
    ")"
   ]
  },
  {
   "cell_type": "code",
   "execution_count": null,
   "metadata": {},
   "outputs": [],
   "source": [
    "f = open('../../assets/doc8643_icao.txt')\n",
    "icao_list = f.read().splitlines()\n",
    "f.close()"
   ]
  },
  {
   "cell_type": "code",
   "execution_count": null,
   "metadata": {},
   "outputs": [],
   "source": [
    "for x in doc8643.scrape(icao_list):\n",
    "    p.produce(x)\n",
    "    # print(x)"
   ]
  }
 ],
 "metadata": {
  "kernelspec": {
   "display_name": ".venv",
   "language": "python",
   "name": "python3"
  },
  "language_info": {
   "codemirror_mode": {
    "name": "ipython",
    "version": 3
   },
   "file_extension": ".py",
   "mimetype": "text/x-python",
   "name": "python",
   "nbconvert_exporter": "python",
   "pygments_lexer": "ipython3",
   "version": "3.11.7"
  }
 },
 "nbformat": 4,
 "nbformat_minor": 2
}
