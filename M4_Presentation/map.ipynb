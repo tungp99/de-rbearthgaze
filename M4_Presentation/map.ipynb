{
 "cells": [
  {
   "cell_type": "code",
   "execution_count": null,
   "metadata": {},
   "outputs": [],
   "source": [
    "import json\n",
    "\n",
    "import numpy as np\n",
    "import pandas as pd\n",
    "import plotly.graph_objs as go\n",
    "from dash import Dash, Input, Output, callback, dcc, html\n",
    "from pyspark.sql import SparkSession\n",
    "from pyspark.sql import functions as F\n",
    "from shared.spark_config import create_spark_config\n",
    "\n",
    "from libs.configuration import configure\n",
    "\n",
    "rng = np.random.default_rng(12345)\n",
    "env = configure([\"../.env.development\", \"../.env.development.local\"])\n",
    "conf = create_spark_config(\"M4_Presentation\")"
   ]
  },
  {
   "cell_type": "code",
   "execution_count": null,
   "metadata": {},
   "outputs": [],
   "source": [
    "spark = SparkSession.builder.config(conf=conf).getOrCreate()"
   ]
  },
  {
   "cell_type": "code",
   "execution_count": null,
   "metadata": {},
   "outputs": [],
   "source": [
    "df_airports = spark.sql(\"SELECT icao, name, lat, lon FROM dev.tier1.airports\").toPandas()"
   ]
  },
  {
   "cell_type": "code",
   "execution_count": null,
   "metadata": {},
   "outputs": [],
   "source": [
    "# TODO\n",
    "df_flights = (\n",
    "    spark.table(\"dev.tier1.flight_signals\")\n",
    "    .select(\"icao24\", \"lat\", \"lon\", \"heading\")\n",
    "    .where(F.col(\"time\"))\n",
    "    .toPandas()\n",
    ")"
   ]
  },
  {
   "cell_type": "code",
   "execution_count": null,
   "metadata": {},
   "outputs": [],
   "source": [
    "layout = go.Layout(\n",
    "    margin={\"l\": 0, \"t\": 0, \"b\": 0, \"r\": 0},\n",
    "    mapbox=dict(\n",
    "        style=\"outdoors\",\n",
    "        zoom=1,\n",
    "        uirevision=True,\n",
    "        accesstoken=\"pk.eyJ1IjoiYmx1bmRlcmVyODQ0OCIsImEiOiJjbHJ4YnhucHQxNDJsMmxwY3R6NDg2c3IzIn0.CALLf90eS4adTscrk5MqEQ\",\n",
    "    ),\n",
    "    height=800,\n",
    ")"
   ]
  },
  {
   "cell_type": "code",
   "execution_count": null,
   "metadata": {},
   "outputs": [],
   "source": [
    "bounding_box = ()\n",
    "df_airports_bounded = None\n",
    "df_flights_bounded = None\n",
    "\n",
    "\n",
    "def update_bounded_data(new_bounding_box: tuple):\n",
    "    \"\"\"@param new_bounding_box = (lat_min, lat_max, lon_min, lon_max)\"\"\"\n",
    "    global bounding_box, df_airports_bounded\n",
    "\n",
    "    if new_bounding_box != bounding_box:\n",
    "        bounding_box = new_bounding_box\n",
    "        lat_min, lat_max, lon_min, lon_max = bounding_box\n",
    "\n",
    "        df_airports_bounded = df_airports.where(\n",
    "            (df_airports.lat >= lat_min)\n",
    "            & (df_airports.lat <= lat_max)\n",
    "            & (df_airports.lon >= lon_min)\n",
    "            & (df_airports.lon <= lon_max)\n",
    "        )\n",
    "\n",
    "        # df_flights = (\n",
    "        #     spark.table(\"dev.tier1.flight_signals\")\n",
    "        #     .select(\"icao24\", \"lat\", \"lon\", \"heading\")\n",
    "        #     .where(F.col(\"\"))\n",
    "        #     .toPandas()\n",
    "        # )"
   ]
  },
  {
   "cell_type": "code",
   "execution_count": null,
   "metadata": {},
   "outputs": [],
   "source": [
    "app = Dash(\"M4_Presentation\")\n",
    "app.layout = html.Div(\n",
    "    html.Div(\n",
    "        [\n",
    "            html.Pre(id=\"log\"),\n",
    "            dcc.Graph(id=\"liveupdate-map\"),\n",
    "            dcc.Interval(id=\"interval-component\", interval=5 * 1000, n_intervals=0),\n",
    "        ]\n",
    "    )\n",
    ")\n",
    "\n",
    "\n",
    "@callback(\n",
    "    Output(\"liveupdate-map\", \"figure\"),\n",
    "    (Input(\"interval-component\", \"n_intervals\"), Input(\"liveupdate-map\", \"relayoutData\")),\n",
    ")\n",
    "def update_graph_live(n: int, layout_data: dict):\n",
    "    global df_airports_bounded\n",
    "\n",
    "    figure = go.Figure(\n",
    "        data=go.Scattermapbox(),\n",
    "        layout=layout,\n",
    "    )\n",
    "\n",
    "    if layout_data is not None and \"mapbox._derived\" in layout_data:\n",
    "        coords = layout_data[\"mapbox._derived\"][\"coordinates\"]\n",
    "        update_bounded_data((coords[2][1], coords[0][1], coords[0][0], coords[1][0]))\n",
    "\n",
    "        figure = go.Figure(\n",
    "            data=go.Scattermapbox(\n",
    "                mode=\"markers\",\n",
    "                lon=df_airports_bounded.lon,\n",
    "                lat=df_airports_bounded.lat,\n",
    "                hoverinfo=\"text\",\n",
    "                hovertext=df_airports_bounded.name,\n",
    "                marker=go.scattermapbox.Marker(\n",
    "                    symbol=\"bar\",\n",
    "                    size=10,\n",
    "                    color=\"#930093\",\n",
    "                    # opacity=0.5,\n",
    "                ),\n",
    "            ),\n",
    "            layout=layout,\n",
    "        )\n",
    "\n",
    "    return figure\n",
    "\n",
    "\n",
    "app.run(debug=True, jupyter_height=1000)"
   ]
  }
 ],
 "metadata": {
  "kernelspec": {
   "display_name": ".venv",
   "language": "python",
   "name": "python3"
  },
  "language_info": {
   "codemirror_mode": {
    "name": "ipython",
    "version": 3
   },
   "file_extension": ".py",
   "mimetype": "text/x-python",
   "name": "python",
   "nbconvert_exporter": "python",
   "pygments_lexer": "ipython3",
   "version": "3.11.7"
  }
 },
 "nbformat": 4,
 "nbformat_minor": 2
}
